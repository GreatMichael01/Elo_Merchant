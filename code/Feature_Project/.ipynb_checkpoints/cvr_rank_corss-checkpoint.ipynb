{
 "cells": [
  {
   "cell_type": "code",
   "execution_count": 1,
   "metadata": {},
   "outputs": [],
   "source": [
    "import pandas as pd\n",
    "import numpy as np\n",
    "import time\n",
    "import datetime\n",
    "from sklearn import preprocessing\n",
    "import matplotlib.pyplot as plt\n",
    "%matplotlib inline\n",
    "plt.style.use('ggplot')\n",
    "import lightgbm as lgb\n",
    "from sklearn.metrics import mean_squared_error\n",
    "from sklearn.model_selection import StratifiedKFold, KFold\n",
    "from sklearn.metrics import log_loss"
   ]
  },
  {
   "cell_type": "code",
   "execution_count": 2,
   "metadata": {},
   "outputs": [],
   "source": [
    "train = pd.read_csv('../../data/train.csv')\n",
    "train[\"first_active_month\"] = pd.to_datetime(train[\"first_active_month\"])\n",
    "train[\"month\"] = train[\"first_active_month\"].apply(lambda x: x.month)\n",
    "train[\"day\"] = train[\"first_active_month\"].apply(lambda x: x.day)\n",
    "train[\"dayofyear\"] = train[\"first_active_month\"].apply(lambda x: x.dayofyear)\n",
    "train['week'] = train[\"first_active_month\"].dt.weekofyear\n",
    "train['dayofweek'] = train['first_active_month'].dt.dayofweek\n",
    "train['days'] = (datetime.date(2018, 2, 1) - train['first_active_month'].dt.date).dt.days\n",
    "train[\"quarter\"] = train[\"first_active_month\"].apply(lambda x: x.quarter)\n",
    "# train[\"is_month_start\"] = train[\"first_active_month\"].apply(lambda x: x.is_month_start)\n",
    "train[\"days_feature1\"] = train[\"days\"] * train[\"feature_1\"]\n",
    "train[\"days_feature2\"] = train[\"days\"] * train[\"feature_2\"]\n",
    "train[\"days_feature3\"] = train[\"days\"] * train[\"feature_3\"]"
   ]
  },
  {
   "cell_type": "code",
   "execution_count": 3,
   "metadata": {},
   "outputs": [],
   "source": [
    "new = pd.read_csv(\"../../data/new_merchant_transactions.csv\")"
   ]
  },
  {
   "cell_type": "code",
   "execution_count": 4,
   "metadata": {},
   "outputs": [],
   "source": [
    "new[\"authorized_flag\"] = new[\"authorized_flag\"].map({\"Y\": 1, \"N\": 0})\n",
    "new[\"category_1\"] = new[\"category_1\"].map({\"Y\": 1, \"N\":0})\n",
    "new[\"purchase_date\"] = pd.to_datetime(new[\"purchase_date\"])\n",
    "new[\"month\"] = new[\"purchase_date\"].apply(lambda x: x.month)\n",
    "new[\"weekofyear\"] = new[\"purchase_date\"].apply(lambda x: x.weekofyear)\n",
    "new[\"dayofweek\"] = new[\"purchase_date\"].apply(lambda x: x.dayofweek)\n",
    "new[\"weekend\"] = (new[\"purchase_date\"].apply(lambda x: x.dayofweek) >= 5).astype(int)\n",
    "new[\"hour\"] = new[\"purchase_date\"].apply(lambda x: x.hour)\n",
    "new[\"quarter\"] = new[\"purchase_date\"].apply(lambda x: x.quarter)\n",
    "new[\"minute\"] = new[\"purchase_date\"].apply(lambda x: x.minute)\n",
    "new[\"month_diff\"] = ((datetime.datetime.today() - new[\"purchase_date\"]).apply(lambda x: x.days)) // 30\n",
    "new[\"month_diff\"] += new[\"month_lag\"]\n",
    "new[\"month_diff2\"] = new[\"month\"] - new[\"month_lag\"]\n",
    "new[\"category_2\"] = new[\"category_2\"].fillna(value = 2.0)\n",
    "new[\"category_3\"] = new[\"category_3\"].fillna(value = \"A\")\n",
    "new[\"merchant_id\"] = new[\"merchant_id\"].fillna(value = \"M_ID_00a6ca8a8a\")\n",
    "lbl = preprocessing.LabelEncoder()\n",
    "new[\"category_3\"] = lbl.fit_transform(list(new[\"category_3\"].values))"
   ]
  },
  {
   "cell_type": "code",
   "execution_count": 5,
   "metadata": {},
   "outputs": [
    {
     "data": {
      "text/html": [
       "<div>\n",
       "<style scoped>\n",
       "    .dataframe tbody tr th:only-of-type {\n",
       "        vertical-align: middle;\n",
       "    }\n",
       "\n",
       "    .dataframe tbody tr th {\n",
       "        vertical-align: top;\n",
       "    }\n",
       "\n",
       "    .dataframe thead th {\n",
       "        text-align: right;\n",
       "    }\n",
       "</style>\n",
       "<table border=\"1\" class=\"dataframe\">\n",
       "  <thead>\n",
       "    <tr style=\"text-align: right;\">\n",
       "      <th></th>\n",
       "      <th>authorized_flag</th>\n",
       "      <th>card_id</th>\n",
       "      <th>city_id</th>\n",
       "      <th>category_1</th>\n",
       "      <th>installments</th>\n",
       "      <th>category_3</th>\n",
       "      <th>merchant_category_id</th>\n",
       "      <th>merchant_id</th>\n",
       "      <th>month_lag</th>\n",
       "      <th>purchase_amount</th>\n",
       "      <th>...</th>\n",
       "      <th>subsector_id</th>\n",
       "      <th>month</th>\n",
       "      <th>weekofyear</th>\n",
       "      <th>dayofweek</th>\n",
       "      <th>weekend</th>\n",
       "      <th>hour</th>\n",
       "      <th>quarter</th>\n",
       "      <th>minute</th>\n",
       "      <th>month_diff</th>\n",
       "      <th>month_diff2</th>\n",
       "    </tr>\n",
       "  </thead>\n",
       "  <tbody>\n",
       "    <tr>\n",
       "      <th>0</th>\n",
       "      <td>1</td>\n",
       "      <td>C_ID_415bb3a509</td>\n",
       "      <td>107</td>\n",
       "      <td>0</td>\n",
       "      <td>1</td>\n",
       "      <td>1</td>\n",
       "      <td>307</td>\n",
       "      <td>M_ID_b0c793002c</td>\n",
       "      <td>1</td>\n",
       "      <td>-0.557574</td>\n",
       "      <td>...</td>\n",
       "      <td>19</td>\n",
       "      <td>3</td>\n",
       "      <td>10</td>\n",
       "      <td>6</td>\n",
       "      <td>1</td>\n",
       "      <td>14</td>\n",
       "      <td>1</td>\n",
       "      <td>57</td>\n",
       "      <td>11</td>\n",
       "      <td>2</td>\n",
       "    </tr>\n",
       "    <tr>\n",
       "      <th>1</th>\n",
       "      <td>1</td>\n",
       "      <td>C_ID_415bb3a509</td>\n",
       "      <td>140</td>\n",
       "      <td>0</td>\n",
       "      <td>1</td>\n",
       "      <td>1</td>\n",
       "      <td>307</td>\n",
       "      <td>M_ID_88920c89e8</td>\n",
       "      <td>1</td>\n",
       "      <td>-0.569580</td>\n",
       "      <td>...</td>\n",
       "      <td>19</td>\n",
       "      <td>3</td>\n",
       "      <td>12</td>\n",
       "      <td>0</td>\n",
       "      <td>0</td>\n",
       "      <td>18</td>\n",
       "      <td>1</td>\n",
       "      <td>53</td>\n",
       "      <td>11</td>\n",
       "      <td>2</td>\n",
       "    </tr>\n",
       "    <tr>\n",
       "      <th>2</th>\n",
       "      <td>1</td>\n",
       "      <td>C_ID_415bb3a509</td>\n",
       "      <td>330</td>\n",
       "      <td>0</td>\n",
       "      <td>1</td>\n",
       "      <td>1</td>\n",
       "      <td>507</td>\n",
       "      <td>M_ID_ad5237ef6b</td>\n",
       "      <td>2</td>\n",
       "      <td>-0.551037</td>\n",
       "      <td>...</td>\n",
       "      <td>14</td>\n",
       "      <td>4</td>\n",
       "      <td>17</td>\n",
       "      <td>3</td>\n",
       "      <td>0</td>\n",
       "      <td>14</td>\n",
       "      <td>2</td>\n",
       "      <td>8</td>\n",
       "      <td>11</td>\n",
       "      <td>2</td>\n",
       "    </tr>\n",
       "    <tr>\n",
       "      <th>3</th>\n",
       "      <td>1</td>\n",
       "      <td>C_ID_415bb3a509</td>\n",
       "      <td>-1</td>\n",
       "      <td>1</td>\n",
       "      <td>1</td>\n",
       "      <td>1</td>\n",
       "      <td>661</td>\n",
       "      <td>M_ID_9e84cda3b1</td>\n",
       "      <td>1</td>\n",
       "      <td>-0.671925</td>\n",
       "      <td>...</td>\n",
       "      <td>8</td>\n",
       "      <td>3</td>\n",
       "      <td>10</td>\n",
       "      <td>2</td>\n",
       "      <td>0</td>\n",
       "      <td>9</td>\n",
       "      <td>1</td>\n",
       "      <td>43</td>\n",
       "      <td>11</td>\n",
       "      <td>2</td>\n",
       "    </tr>\n",
       "    <tr>\n",
       "      <th>4</th>\n",
       "      <td>1</td>\n",
       "      <td>C_ID_ef55cf8d4b</td>\n",
       "      <td>-1</td>\n",
       "      <td>1</td>\n",
       "      <td>1</td>\n",
       "      <td>1</td>\n",
       "      <td>166</td>\n",
       "      <td>M_ID_3c86fa3831</td>\n",
       "      <td>1</td>\n",
       "      <td>-0.659904</td>\n",
       "      <td>...</td>\n",
       "      <td>29</td>\n",
       "      <td>3</td>\n",
       "      <td>12</td>\n",
       "      <td>3</td>\n",
       "      <td>0</td>\n",
       "      <td>21</td>\n",
       "      <td>1</td>\n",
       "      <td>7</td>\n",
       "      <td>11</td>\n",
       "      <td>2</td>\n",
       "    </tr>\n",
       "  </tbody>\n",
       "</table>\n",
       "<p>5 rows × 23 columns</p>\n",
       "</div>"
      ],
      "text/plain": [
       "   authorized_flag          card_id  city_id  category_1  installments  \\\n",
       "0                1  C_ID_415bb3a509      107           0             1   \n",
       "1                1  C_ID_415bb3a509      140           0             1   \n",
       "2                1  C_ID_415bb3a509      330           0             1   \n",
       "3                1  C_ID_415bb3a509       -1           1             1   \n",
       "4                1  C_ID_ef55cf8d4b       -1           1             1   \n",
       "\n",
       "   category_3  merchant_category_id      merchant_id  month_lag  \\\n",
       "0           1                   307  M_ID_b0c793002c          1   \n",
       "1           1                   307  M_ID_88920c89e8          1   \n",
       "2           1                   507  M_ID_ad5237ef6b          2   \n",
       "3           1                   661  M_ID_9e84cda3b1          1   \n",
       "4           1                   166  M_ID_3c86fa3831          1   \n",
       "\n",
       "   purchase_amount     ...      subsector_id  month  weekofyear  dayofweek  \\\n",
       "0        -0.557574     ...                19      3          10          6   \n",
       "1        -0.569580     ...                19      3          12          0   \n",
       "2        -0.551037     ...                14      4          17          3   \n",
       "3        -0.671925     ...                 8      3          10          2   \n",
       "4        -0.659904     ...                29      3          12          3   \n",
       "\n",
       "   weekend  hour  quarter  minute  month_diff  month_diff2  \n",
       "0        1    14        1      57          11            2  \n",
       "1        0    18        1      53          11            2  \n",
       "2        0    14        2       8          11            2  \n",
       "3        0     9        1      43          11            2  \n",
       "4        0    21        1       7          11            2  \n",
       "\n",
       "[5 rows x 23 columns]"
      ]
     },
     "execution_count": 5,
     "metadata": {},
     "output_type": "execute_result"
    }
   ],
   "source": [
    "new.head()"
   ]
  },
  {
   "cell_type": "code",
   "execution_count": 6,
   "metadata": {},
   "outputs": [
    {
     "data": {
      "text/plain": [
       "0    199710\n",
       "1      2207\n",
       "Name: outliers, dtype: int64"
      ]
     },
     "execution_count": 6,
     "metadata": {},
     "output_type": "execute_result"
    }
   ],
   "source": [
    "train['outliers'] = 0\n",
    "train.loc[train['target'] < -30, 'outliers'] = 1\n",
    "train['outliers'].value_counts()"
   ]
  },
  {
   "cell_type": "code",
   "execution_count": 7,
   "metadata": {},
   "outputs": [],
   "source": [
    "new_index = new[\"card_id\"].isin(train.drop_duplicates(\"card_id\")[\"card_id\"].tolist())       \n",
    "new_train = new[new_index]"
   ]
  },
  {
   "cell_type": "code",
   "execution_count": 8,
   "metadata": {},
   "outputs": [],
   "source": [
    "new_train_data = train.merge(new_train, on=\"card_id\", how=\"left\")"
   ]
  },
  {
   "cell_type": "code",
   "execution_count": 9,
   "metadata": {},
   "outputs": [],
   "source": [
    "card = new_train_data.groupby(\"card_id\", as_index=False)[\"outliers\"].agg({\"card_sum\": \"sum\", \"card_cnt\": \"count\"})\n",
    "card[\"card_cvr\"] = (card[\"card_sum\"]) / (card[\"card_cnt\"] + 3)"
   ]
  },
  {
   "cell_type": "code",
   "execution_count": 10,
   "metadata": {},
   "outputs": [
    {
     "data": {
      "text/html": [
       "<div>\n",
       "<style scoped>\n",
       "    .dataframe tbody tr th:only-of-type {\n",
       "        vertical-align: middle;\n",
       "    }\n",
       "\n",
       "    .dataframe tbody tr th {\n",
       "        vertical-align: top;\n",
       "    }\n",
       "\n",
       "    .dataframe thead th {\n",
       "        text-align: right;\n",
       "    }\n",
       "</style>\n",
       "<table border=\"1\" class=\"dataframe\">\n",
       "  <thead>\n",
       "    <tr style=\"text-align: right;\">\n",
       "      <th></th>\n",
       "      <th>card_id</th>\n",
       "      <th>card_sum</th>\n",
       "      <th>card_cnt</th>\n",
       "      <th>card_cvr</th>\n",
       "    </tr>\n",
       "  </thead>\n",
       "  <tbody>\n",
       "    <tr>\n",
       "      <th>0</th>\n",
       "      <td>C_ID_00007093c1</td>\n",
       "      <td>0</td>\n",
       "      <td>2</td>\n",
       "      <td>0.0</td>\n",
       "    </tr>\n",
       "    <tr>\n",
       "      <th>1</th>\n",
       "      <td>C_ID_0001506ef0</td>\n",
       "      <td>0</td>\n",
       "      <td>2</td>\n",
       "      <td>0.0</td>\n",
       "    </tr>\n",
       "    <tr>\n",
       "      <th>2</th>\n",
       "      <td>C_ID_000183fdda</td>\n",
       "      <td>0</td>\n",
       "      <td>11</td>\n",
       "      <td>0.0</td>\n",
       "    </tr>\n",
       "    <tr>\n",
       "      <th>3</th>\n",
       "      <td>C_ID_00027503e2</td>\n",
       "      <td>0</td>\n",
       "      <td>1</td>\n",
       "      <td>0.0</td>\n",
       "    </tr>\n",
       "    <tr>\n",
       "      <th>4</th>\n",
       "      <td>C_ID_0002c7c2c1</td>\n",
       "      <td>0</td>\n",
       "      <td>6</td>\n",
       "      <td>0.0</td>\n",
       "    </tr>\n",
       "  </tbody>\n",
       "</table>\n",
       "</div>"
      ],
      "text/plain": [
       "           card_id  card_sum  card_cnt  card_cvr\n",
       "0  C_ID_00007093c1         0         2       0.0\n",
       "1  C_ID_0001506ef0         0         2       0.0\n",
       "2  C_ID_000183fdda         0        11       0.0\n",
       "3  C_ID_00027503e2         0         1       0.0\n",
       "4  C_ID_0002c7c2c1         0         6       0.0"
      ]
     },
     "execution_count": 10,
     "metadata": {},
     "output_type": "execute_result"
    }
   ],
   "source": [
    "card.head()"
   ]
  },
  {
   "cell_type": "code",
   "execution_count": 11,
   "metadata": {},
   "outputs": [],
   "source": [
    "merchant = new_train_data.groupby(\"merchant_id\", as_index=False)[\"outliers\"].agg({\"merchant_sum\": \"sum\", \"merchant_cnt\": \"count\"})\n",
    "merchant[\"merchant_cvr\"] = (merchant[\"merchant_sum\"]) / (merchant[\"merchant_cnt\"] + 3)"
   ]
  },
  {
   "cell_type": "code",
   "execution_count": 12,
   "metadata": {},
   "outputs": [],
   "source": [
    "city = new_train_data.groupby(\"city_id\", as_index=False)[\"outliers\"].agg({\"city_sum\": \"sum\", \"city_cnt\": \"count\"})\n",
    "city[\"city_cvr\"] = (city[\"city_sum\"]) / (city[\"city_cnt\"] + 3)"
   ]
  },
  {
   "cell_type": "code",
   "execution_count": 13,
   "metadata": {},
   "outputs": [],
   "source": [
    "mertcate = new_train_data.groupby(\"merchant_category_id\", as_index=False)[\"outliers\"].agg({\"mertcate_sum\": \"sum\", \"mertcate_cnt\": \"count\"})\n",
    "mertcate[\"mertcate_cvr\"] = (mertcate[\"mertcate_sum\"]) / (mertcate[\"mertcate_cnt\"] + 3)"
   ]
  },
  {
   "cell_type": "code",
   "execution_count": 14,
   "metadata": {},
   "outputs": [],
   "source": [
    "state = new_train_data.groupby(\"state_id\", as_index=False)[\"outliers\"].agg({\"state_sum\": \"sum\", \"state_cnt\": \"count\"})\n",
    "state[\"state_cvr\"] = (state[\"state_sum\"]) / (state[\"state_cnt\"] + 3)"
   ]
  },
  {
   "cell_type": "code",
   "execution_count": 15,
   "metadata": {},
   "outputs": [],
   "source": [
    "subsector = new_train_data.groupby(\"subsector_id\", as_index=False)[\"outliers\"].agg({\"subsector_sum\": \"sum\", \"subsector_cnt\": \"count\"})\n",
    "subsector[\"subsector_cvr\"] = (subsector[\"subsector_sum\"]) / (subsector[\"subsector_cnt\"] + 3)"
   ]
  },
  {
   "cell_type": "code",
   "execution_count": 16,
   "metadata": {},
   "outputs": [],
   "source": [
    "new_data = new_train_data.merge(card, on=\"card_id\", how=\"left\")\n",
    "new_data = new_data.merge(merchant, on=\"merchant_id\", how=\"left\")\n",
    "new_data = new_data.merge(city, on=\"city_id\", how=\"left\")\n",
    "new_data = new_data.merge(mertcate, on=\"merchant_category_id\", how=\"left\")\n",
    "new_data = new_data.merge(state, on=\"state_id\", how=\"left\")\n",
    "new_data = new_data.merge(subsector, on=\"subsector_id\", how=\"left\")"
   ]
  },
  {
   "cell_type": "code",
   "execution_count": null,
   "metadata": {},
   "outputs": [],
   "source": [
    "new_data[\"card_cvr_card_rank\"] = new_data.groupby(\"card_id\", as_index=False)[\"card_cvr\"].rank(ascending=False,method='dense')\n",
    "new_data[\"card_cvr_merchant_rank\"] = new_data.groupby(\"merchant_id\", as_index=False)[\"card_cvr\"].rank(ascending=False,method='dense')\n",
    "new_data[\"card_cvr_city_rank\"] = new_data.groupby(\"city_id\", as_index=False)[\"card_cvr\"].rank(ascending=False,method='dense')\n",
    "new_data[\"card_cvr_mertcate_rank\"] = new_data.groupby(\"merchant_category_id\", as_index=False)[\"card_cvr\"].rank(ascending=False,method='dense')\n",
    "new_data[\"card_cvr_state_rank\"] = new_data.groupby(\"state_id\", as_index=False)[\"card_cvr\"].rank(ascending=False,method='dense')\n",
    "new_data[\"card_cvr_subsector_rank\"] = new_data.groupby(\"subsector_id\", as_index=False)[\"card_cvr\"].rank(ascending=False,method='dense')"
   ]
  },
  {
   "cell_type": "code",
   "execution_count": null,
   "metadata": {},
   "outputs": [],
   "source": [
    "new_data.head()"
   ]
  },
  {
   "cell_type": "code",
   "execution_count": null,
   "metadata": {},
   "outputs": [],
   "source": [
    "new_data[\"merchant_cvr_card_rank\"] = new_data.groupby(\"card_id\", as_index=False)[\"merchant_cvr\"].rank(ascending=False,method='dense')\n",
    "new_data[\"merchant_cvr_merchant_rank\"] = new_data.groupby(\"merchant_id\", as_index=False)[\"merchant_cvr\"].rank(ascending=False,method='dense')\n",
    "new_data[\"merchant_cvr_city_rank\"] = new_data.groupby(\"city_id\", as_index=False)[\"merchant_cvr\"].rank(ascending=False,method='dense')\n",
    "new_data[\"merchant_cvr_mertcate_rank\"] = new_data.groupby(\"merchant_category_id\", as_index=False)[\"merchant_cvr\"].rank(ascending=False,method='dense')\n",
    "new_data[\"merchant_cvr_state_rank\"] = new_data.groupby(\"state_id\", as_index=False)[\"merchant_cvr\"].rank(ascending=False,method='dense')\n",
    "new_data[\"merchant_cvr_subsector_rank\"] = new_data.groupby(\"subsector_id\", as_index=False)[\"merchant_cvr\"].rank(ascending=False,method='dense')"
   ]
  },
  {
   "cell_type": "code",
   "execution_count": null,
   "metadata": {},
   "outputs": [],
   "source": [
    "new_data[\"city_cvr_card_rank\"] = new_data.groupby(\"card_id\", as_index=False)[\"city_cvr\"].rank(ascending=False,method='dense')\n",
    "new_data[\"city_cvr_merchant_rank\"] = new_data.groupby(\"merchant_id\", as_index=False)[\"city_cvr\"].rank(ascending=False,method='dense')\n",
    "new_data[\"city_cvr_city_rank\"] = new_data.groupby(\"city_id\", as_index=False)[\"city_cvr\"].rank(ascending=False,method='dense')\n",
    "new_data[\"city_cvr_mertcate_rank\"] = new_data.groupby(\"merchant_category_id\", as_index=False)[\"city_cvr\"].rank(ascending=False,method='dense')\n",
    "new_data[\"city_cvr_state_rank\"] = new_data.groupby(\"state_id\", as_index=False)[\"city_cvr\"].rank(ascending=False,method='dense')\n",
    "new_data[\"city_cvr_subsector_rank\"] = new_data.groupby(\"subsector_id\", as_index=False)[\"city_cvr\"].rank(ascending=False,method='dense')"
   ]
  },
  {
   "cell_type": "code",
   "execution_count": null,
   "metadata": {},
   "outputs": [],
   "source": [
    "new_data[\"mertcate_cvr_card_rank\"] = new_data.groupby(\"card_id\", as_index=False)[\"mertcate_cvr\"].rank(ascending=False,method='dense')\n",
    "new_data[\"mertcate_cvr_merchant_rank\"] = new_data.groupby(\"merchant_id\", as_index=False)[\"mertcate_cvr\"].rank(ascending=False,method='dense')\n",
    "new_data[\"mertcate_cvr_city_rank\"] = new_data.groupby(\"city_id\", as_index=False)[\"mertcate_cvr\"].rank(ascending=False,method='dense')\n",
    "new_data[\"mertcate_cvr_mertcate_rank\"] = new_data.groupby(\"merchant_category_id\", as_index=False)[\"mertcate_cvr\"].rank(ascending=False,method='dense')\n",
    "new_data[\"mertcate_cvr_state_rank\"] = new_data.groupby(\"state_id\", as_index=False)[\"mertcate_cvr\"].rank(ascending=False,method='dense')\n",
    "new_data[\"mertcate_cvr_subsector_rank\"] = new_data.groupby(\"subsector_id\", as_index=False)[\"mertcate_cvr\"].rank(ascending=False,method='dense')"
   ]
  },
  {
   "cell_type": "code",
   "execution_count": null,
   "metadata": {},
   "outputs": [],
   "source": []
  },
  {
   "cell_type": "code",
   "execution_count": null,
   "metadata": {},
   "outputs": [],
   "source": []
  },
  {
   "cell_type": "code",
   "execution_count": null,
   "metadata": {},
   "outputs": [],
   "source": []
  },
  {
   "cell_type": "code",
   "execution_count": null,
   "metadata": {},
   "outputs": [],
   "source": []
  },
  {
   "cell_type": "code",
   "execution_count": null,
   "metadata": {},
   "outputs": [],
   "source": []
  },
  {
   "cell_type": "code",
   "execution_count": null,
   "metadata": {},
   "outputs": [],
   "source": []
  }
 ],
 "metadata": {
  "kernelspec": {
   "display_name": "Python 3",
   "language": "python",
   "name": "python3"
  },
  "language_info": {
   "codemirror_mode": {
    "name": "ipython",
    "version": 3
   },
   "file_extension": ".py",
   "mimetype": "text/x-python",
   "name": "python",
   "nbconvert_exporter": "python",
   "pygments_lexer": "ipython3",
   "version": "3.6.5"
  }
 },
 "nbformat": 4,
 "nbformat_minor": 2
}
