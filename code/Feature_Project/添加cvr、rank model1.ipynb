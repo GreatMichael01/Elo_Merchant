{
 "cells": [
  {
   "cell_type": "code",
   "execution_count": 1,
   "metadata": {},
   "outputs": [],
   "source": [
    "import numpy as np\n",
    "import pandas as pd\n",
    "import time\n",
    "import warnings\n",
    "import gc\n",
    "import matplotlib.pyplot as plt\n",
    "%matplotlib inline\n",
    "plt.style.use('ggplot')\n",
    "import seaborn as sns\n",
    "import datetime\n",
    "from sklearn.metrics import mean_squared_error\n",
    "from sklearn.model_selection import StratifiedKFold, KFold\n",
    "from sklearn.metrics import log_loss\n",
    "import lightgbm as lgb\n",
    "from sklearn import preprocessing\n",
    "warnings.filterwarnings('ignore')\n",
    "plt.style.use('seaborn')"
   ]
  },
  {
   "cell_type": "markdown",
   "metadata": {},
   "source": [
    "### 将数据进行格式化处理"
   ]
  },
  {
   "cell_type": "code",
   "execution_count": 2,
   "metadata": {},
   "outputs": [],
   "source": [
    "# Reduce the memory usage - Inspired by Panchajanya Banerjee\n",
    "def reduce_mem_usage(df, verbose=True):\n",
    "    numerics = ['int16', 'int32', 'int64', 'float16', 'float32', 'float64']\n",
    "    start_mem = df.memory_usage().sum() / 1024 ** 2\n",
    "    for col in df.columns:\n",
    "        col_type = df[col].dtypes\n",
    "        if col_type in numerics:\n",
    "            c_min = df[col].min()\n",
    "            c_max = df[col].max()\n",
    "            if str(col_type)[:3] == 'int':\n",
    "                if c_min > np.iinfo(np.int8).min and c_max < np.iinfo(np.int8).max:\n",
    "                    df[col] = df[col].astype(np.int8)\n",
    "                elif c_min > np.iinfo(np.int16).min and c_max < np.iinfo(np.int16).max:\n",
    "                    df[col] = df[col].astype(np.int16)\n",
    "                elif c_min > np.iinfo(np.int32).min and c_max < np.iinfo(np.int32).max:\n",
    "                    df[col] = df[col].astype(np.int32)\n",
    "                elif c_min > np.iinfo(np.int64).min and c_max < np.iinfo(np.int64).max:\n",
    "                    df[col] = df[col].astype(np.int64)\n",
    "            else:\n",
    "                if c_min > np.finfo(np.float16).min and c_max < np.finfo(np.float16).max:\n",
    "                    df[col] = df[col].astype(np.float16)\n",
    "                elif c_min > np.finfo(np.float32).min and c_max < np.finfo(np.float32).max:\n",
    "                    df[col] = df[col].astype(np.float32)\n",
    "                else:\n",
    "                    df[col] = df[col].astype(np.float64)\n",
    "    end_mem = df.memory_usage().sum() / 1024 ** 2\n",
    "    if verbose: print('Mem. usage decreased to {:5.2f} Mb ({:.1f}% reduction)'.format(end_mem, 100 * (\n",
    "                start_mem - end_mem) / start_mem))\n",
    "    return df"
   ]
  },
  {
   "cell_type": "markdown",
   "metadata": {},
   "source": [
    "### 简单处理train和test数据"
   ]
  },
  {
   "cell_type": "code",
   "execution_count": 3,
   "metadata": {},
   "outputs": [],
   "source": [
    "test_label = pd.read_csv(\"../../data/6911+6912+0103163343_2.csv\")"
   ]
  },
  {
   "cell_type": "code",
   "execution_count": 4,
   "metadata": {},
   "outputs": [],
   "source": [
    "test_label[\"label\"] = 0\n",
    "test_label.loc[(test_label['target'] >= 1.499360), 'label'] = 1\n",
    "test_label[\"target\"] = -9"
   ]
  },
  {
   "cell_type": "code",
   "execution_count": 5,
   "metadata": {},
   "outputs": [
    {
     "name": "stdout",
     "output_type": "stream",
     "text": [
      "(325540, 17)\n",
      "0    321967\n",
      "1      3573\n",
      "Name: label, dtype: int64\n"
     ]
    }
   ],
   "source": [
    "train = pd.read_csv('../../data/train.csv', parse_dates=[\"first_active_month\"])\n",
    "train[\"label\"] = 0\n",
    "train.loc[(train['target'] < -30), 'label'] = 1\n",
    "train[\"target\"] = 9\n",
    "test = pd.read_csv('../../data/test.csv', parse_dates=[\"first_active_month\"])\n",
    "test = test.merge(test_label, on=\"card_id\", how=\"left\")\n",
    "data = pd.concat([train, test], axis=0)\n",
    "data[\"month\"] = data[\"first_active_month\"].apply(lambda x: x.month)\n",
    "data[\"day\"] = data[\"first_active_month\"].apply(lambda x: x.day)\n",
    "data[\"dayofyear\"] = data[\"first_active_month\"].apply(lambda x: x.dayofyear)\n",
    "data['week'] = data[\"first_active_month\"].dt.weekofyear\n",
    "data['dayofweek'] = data['first_active_month'].dt.dayofweek\n",
    "data['days'] = (datetime.date(2018, 2, 1) - data['first_active_month'].dt.date).dt.days\n",
    "data[\"quarter\"] = data[\"first_active_month\"].apply(lambda x: x.quarter)\n",
    "data[\"days_feature1\"] = data[\"days\"] * data[\"feature_1\"]\n",
    "data[\"days_feature2\"] = data[\"days\"] * data[\"feature_2\"]\n",
    "data[\"days_feature3\"] = data[\"days\"] * data[\"feature_3\"]\n",
    "print(data.shape)\n",
    "print(data['label'].value_counts())"
   ]
  },
  {
   "cell_type": "code",
   "execution_count": 6,
   "metadata": {
    "scrolled": true
   },
   "outputs": [
    {
     "data": {
      "text/html": [
       "<div>\n",
       "<style scoped>\n",
       "    .dataframe tbody tr th:only-of-type {\n",
       "        vertical-align: middle;\n",
       "    }\n",
       "\n",
       "    .dataframe tbody tr th {\n",
       "        vertical-align: top;\n",
       "    }\n",
       "\n",
       "    .dataframe thead th {\n",
       "        text-align: right;\n",
       "    }\n",
       "</style>\n",
       "<table border=\"1\" class=\"dataframe\">\n",
       "  <thead>\n",
       "    <tr style=\"text-align: right;\">\n",
       "      <th></th>\n",
       "      <th>first_active_month</th>\n",
       "      <th>card_id</th>\n",
       "      <th>feature_1</th>\n",
       "      <th>feature_2</th>\n",
       "      <th>feature_3</th>\n",
       "      <th>target</th>\n",
       "      <th>label</th>\n",
       "      <th>month</th>\n",
       "      <th>day</th>\n",
       "      <th>dayofyear</th>\n",
       "      <th>week</th>\n",
       "      <th>dayofweek</th>\n",
       "      <th>days</th>\n",
       "      <th>quarter</th>\n",
       "      <th>days_feature1</th>\n",
       "      <th>days_feature2</th>\n",
       "      <th>days_feature3</th>\n",
       "    </tr>\n",
       "  </thead>\n",
       "  <tbody>\n",
       "    <tr>\n",
       "      <th>0</th>\n",
       "      <td>2017-06-01</td>\n",
       "      <td>C_ID_92a2005557</td>\n",
       "      <td>5</td>\n",
       "      <td>2</td>\n",
       "      <td>1</td>\n",
       "      <td>9</td>\n",
       "      <td>0</td>\n",
       "      <td>6.0</td>\n",
       "      <td>1.0</td>\n",
       "      <td>152.0</td>\n",
       "      <td>22.0</td>\n",
       "      <td>3.0</td>\n",
       "      <td>245.0</td>\n",
       "      <td>2.0</td>\n",
       "      <td>1225.0</td>\n",
       "      <td>490.0</td>\n",
       "      <td>245.0</td>\n",
       "    </tr>\n",
       "    <tr>\n",
       "      <th>1</th>\n",
       "      <td>2017-01-01</td>\n",
       "      <td>C_ID_3d0044924f</td>\n",
       "      <td>4</td>\n",
       "      <td>1</td>\n",
       "      <td>0</td>\n",
       "      <td>9</td>\n",
       "      <td>0</td>\n",
       "      <td>1.0</td>\n",
       "      <td>1.0</td>\n",
       "      <td>1.0</td>\n",
       "      <td>52.0</td>\n",
       "      <td>6.0</td>\n",
       "      <td>396.0</td>\n",
       "      <td>1.0</td>\n",
       "      <td>1584.0</td>\n",
       "      <td>396.0</td>\n",
       "      <td>0.0</td>\n",
       "    </tr>\n",
       "    <tr>\n",
       "      <th>2</th>\n",
       "      <td>2016-08-01</td>\n",
       "      <td>C_ID_d639edf6cd</td>\n",
       "      <td>2</td>\n",
       "      <td>2</td>\n",
       "      <td>0</td>\n",
       "      <td>9</td>\n",
       "      <td>0</td>\n",
       "      <td>8.0</td>\n",
       "      <td>1.0</td>\n",
       "      <td>214.0</td>\n",
       "      <td>31.0</td>\n",
       "      <td>0.0</td>\n",
       "      <td>549.0</td>\n",
       "      <td>3.0</td>\n",
       "      <td>1098.0</td>\n",
       "      <td>1098.0</td>\n",
       "      <td>0.0</td>\n",
       "    </tr>\n",
       "    <tr>\n",
       "      <th>3</th>\n",
       "      <td>2017-09-01</td>\n",
       "      <td>C_ID_186d6a6901</td>\n",
       "      <td>4</td>\n",
       "      <td>3</td>\n",
       "      <td>0</td>\n",
       "      <td>9</td>\n",
       "      <td>0</td>\n",
       "      <td>9.0</td>\n",
       "      <td>1.0</td>\n",
       "      <td>244.0</td>\n",
       "      <td>35.0</td>\n",
       "      <td>4.0</td>\n",
       "      <td>153.0</td>\n",
       "      <td>3.0</td>\n",
       "      <td>612.0</td>\n",
       "      <td>459.0</td>\n",
       "      <td>0.0</td>\n",
       "    </tr>\n",
       "    <tr>\n",
       "      <th>4</th>\n",
       "      <td>2017-11-01</td>\n",
       "      <td>C_ID_cdbd2c0db2</td>\n",
       "      <td>1</td>\n",
       "      <td>3</td>\n",
       "      <td>0</td>\n",
       "      <td>9</td>\n",
       "      <td>0</td>\n",
       "      <td>11.0</td>\n",
       "      <td>1.0</td>\n",
       "      <td>305.0</td>\n",
       "      <td>44.0</td>\n",
       "      <td>2.0</td>\n",
       "      <td>92.0</td>\n",
       "      <td>4.0</td>\n",
       "      <td>92.0</td>\n",
       "      <td>276.0</td>\n",
       "      <td>0.0</td>\n",
       "    </tr>\n",
       "  </tbody>\n",
       "</table>\n",
       "</div>"
      ],
      "text/plain": [
       "  first_active_month          card_id  feature_1  feature_2  feature_3  \\\n",
       "0         2017-06-01  C_ID_92a2005557          5          2          1   \n",
       "1         2017-01-01  C_ID_3d0044924f          4          1          0   \n",
       "2         2016-08-01  C_ID_d639edf6cd          2          2          0   \n",
       "3         2017-09-01  C_ID_186d6a6901          4          3          0   \n",
       "4         2017-11-01  C_ID_cdbd2c0db2          1          3          0   \n",
       "\n",
       "   target  label  month  day  dayofyear  week  dayofweek   days  quarter  \\\n",
       "0       9      0    6.0  1.0      152.0  22.0        3.0  245.0      2.0   \n",
       "1       9      0    1.0  1.0        1.0  52.0        6.0  396.0      1.0   \n",
       "2       9      0    8.0  1.0      214.0  31.0        0.0  549.0      3.0   \n",
       "3       9      0    9.0  1.0      244.0  35.0        4.0  153.0      3.0   \n",
       "4       9      0   11.0  1.0      305.0  44.0        2.0   92.0      4.0   \n",
       "\n",
       "   days_feature1  days_feature2  days_feature3  \n",
       "0         1225.0          490.0          245.0  \n",
       "1         1584.0          396.0            0.0  \n",
       "2         1098.0         1098.0            0.0  \n",
       "3          612.0          459.0            0.0  \n",
       "4           92.0          276.0            0.0  "
      ]
     },
     "execution_count": 6,
     "metadata": {},
     "output_type": "execute_result"
    }
   ],
   "source": [
    "data.head()"
   ]
  },
  {
   "cell_type": "markdown",
   "metadata": {},
   "source": [
    "### 特征工程"
   ]
  },
  {
   "cell_type": "code",
   "execution_count": 7,
   "metadata": {},
   "outputs": [],
   "source": [
    "def pro_trans(trans): \n",
    "    \"\"\"\n",
    "    Simple processing historical_transactions and new_transactions and extract features.\n",
    "    \"\"\"\n",
    "    trans[\"authorized_flag\"] = trans[\"authorized_flag\"].map({\"Y\": 1, \"N\": 0})\n",
    "    trans[\"category_1\"] = trans[\"category_1\"].map({\"Y\": 1, \"N\":0})\n",
    "    trans[\"purchase_date\"] = pd.to_datetime(trans[\"purchase_date\"])\n",
    "    trans[\"month\"] = trans[\"purchase_date\"].apply(lambda x: x.month)\n",
    "    trans[\"weekofyear\"] = trans[\"purchase_date\"].apply(lambda x: x.weekofyear)\n",
    "    trans[\"dayofweek\"] = trans[\"purchase_date\"].apply(lambda x: x.dayofweek)\n",
    "    trans[\"weekend\"] = (trans[\"purchase_date\"].apply(lambda x: x.dayofweek) >= 5).astype(int)\n",
    "    trans[\"hour\"] = trans[\"purchase_date\"].apply(lambda x: x.hour)\n",
    "    trans[\"quarter\"] = trans[\"purchase_date\"].apply(lambda x: x.quarter)\n",
    "    trans[\"minute\"] = trans[\"purchase_date\"].apply(lambda x: x.minute)\n",
    "    trans[\"month_diff\"] = ((datetime.datetime.today() - trans[\"purchase_date\"]).apply(lambda x: x.days)) // 30\n",
    "    trans[\"month_diff\"] += trans[\"month_lag\"]\n",
    "    trans[\"month_diff2\"] = trans[\"month\"] - trans[\"month_lag\"]\n",
    "    trans[\"category_2\"] = trans[\"category_2\"].fillna(value = 2.0)\n",
    "    trans[\"category_3\"] = trans[\"category_3\"].fillna(value = \"A\")\n",
    "    trans[\"merchant_id\"] = trans[\"merchant_id\"].fillna(value = \"M_ID_00a6ca8a8a\")\n",
    "    lbl = preprocessing.LabelEncoder()\n",
    "    trans[\"category_3\"] = lbl.fit_transform(list(trans[\"category_3\"].values))\n",
    "    \n",
    "    for col in [\"category_2\", \"category_3\"]:\n",
    "        trans[col+\"_pa_mean\"] = trans[\"purchase_amount\"].groupby(trans[col]).agg(\"mean\")\n",
    "        trans[col+\"_pa_max\"] = trans[\"purchase_amount\"].groupby(trans[col]).agg(\"max\")\n",
    "        trans[col+\"_pa_min\"] = trans[\"purchase_amount\"].groupby(trans[col]).agg(\"min\")\n",
    "        trans[col+\"_pa_var\"] = trans[\"purchase_amount\"].groupby(trans[col]).agg(\"var\")\n",
    "        trans[col+\"_im_mean\"] = trans[\"installments\"].groupby(trans[col]).agg(\"mean\")\n",
    "        trans[col+\"_im_max\"] = trans[\"installments\"].groupby(trans[col]).agg(\"max\")\n",
    "        trans[col+\"_im_min\"] = trans[\"installments\"].groupby(trans[col]).agg(\"min\")\n",
    "        trans[col+\"_im_var\"] = trans[\"installments\"].groupby(trans[col]).agg(\"var\")\n",
    "    trans_data = trans\n",
    "    \n",
    "    return trans_data"
   ]
  },
  {
   "cell_type": "code",
   "execution_count": 8,
   "metadata": {},
   "outputs": [],
   "source": [
    "# Taking Reference from Other Kernels\n",
    "def trans_agg(trans, nunique_col, prefix):\n",
    "    agg_func = {\"purchase_date\":[\"max\", \"min\"],\n",
    "                \"month_diff\": [\"max\", \"min\", \"mean\", \"var\"],\n",
    "                \"weekend\": [\"max\", \"min\", \"mean\", \"sum\"],\n",
    "                \"authorized_flag\": [\"max\", \"min\", \"mean\", \"sum\"],\n",
    "                \"category_1\": [\"max\", \"min\", \"mean\", \"sum\"],\n",
    "                \"category_2\": [\"max\", \"min\", \"mean\", \"sum\"],\n",
    "                \"category_3\": [\"max\", \"min\", \"mean\", \"sum\"],\n",
    "                \"installments\": [\"max\", \"min\", \"mean\", \"std\", \"sum\"],\n",
    "                \"purchase_amount\": [\"max\", \"min\", \"mean\", \"std\", \"sum\"],\n",
    "                \"month_lag\": [\"mean\", \"max\", \"min\", \"nunique\", \"var\"],\n",
    "                \"month_diff\": [\"mean\", \"max\", \"min\", \"nunique\", \"var\"],\n",
    "                \"card_id\": [\"size\", \"nunique\"],\n",
    "                \"month\": [\"max\", \"min\", \"nunique\"],\n",
    "                \"hour\": [\"max\", \"min\", \"nunique\"],\n",
    "                \"weekofyear\": [\"max\", \"min\", \"nunique\"],\n",
    "                \"dayofweek\": [\"max\", \"min\", \"nunique\"],\n",
    "                \"merchant_id\": [\"nunique\"],\n",
    "                \"city_id\": [\"nunique\"],\n",
    "                \"state_id\": [\"nunique\"],\n",
    "                \"subsector_id\": [\"max\", \"min\", \"nunique\"],\n",
    "                \"merchant_category_id\": [\"max\", \"min\", \"nunique\"]}\n",
    "    agg_trans = trans.groupby([nunique_col]).agg(agg_func)\n",
    "    agg_trans.columns = [prefix + '_'.join(col).strip() for col in agg_trans.columns.values]\n",
    "    agg_trans.reset_index(inplace=True)\n",
    "    df = (trans.groupby(nunique_col).size().reset_index(name='{}transactions_count'.format(prefix)))\n",
    "    agg_trans = pd.merge(df, agg_trans, on=nunique_col, how='left')\n",
    "    \n",
    "    agg_trans[prefix + \"purchase_date_max\"] = pd.to_datetime(agg_trans[prefix + \"purchase_date_max\"])\n",
    "    agg_trans[prefix + \"purchase_date_min\"] = pd.to_datetime(agg_trans[prefix + \"purchase_date_min\"])\n",
    "    agg_trans[prefix + \"purchase_date_diff\"] = (agg_trans[prefix + \"purchase_date_max\"] - agg_trans[prefix + \"purchase_date_min\"]).dt.days   \n",
    "    agg_trans[prefix + \"purchase_date_average\"] = agg_trans[prefix + \"purchase_date_diff\"] / agg_trans[prefix + \"card_id_size\"]\n",
    "    agg_trans[prefix + \"purchase_date_uptonow\"] = (datetime.datetime.today() - agg_trans[prefix + \"purchase_date_max\"]).dt.days\n",
    "    for feature in [prefix + \"purchase_date_max\", prefix + \"purchase_date_min\"]:\n",
    "        agg_trans[feature] = agg_trans[feature].astype(np.int64) * 1e-9\n",
    "        \n",
    "    return agg_trans"
   ]
  },
  {
   "cell_type": "markdown",
   "metadata": {},
   "source": [
    "### 处理new_merchant_transactions中提特征"
   ]
  },
  {
   "cell_type": "code",
   "execution_count": 9,
   "metadata": {},
   "outputs": [
    {
     "name": "stdout",
     "output_type": "stream",
     "text": [
      "Mem. usage decreased to 114.20 Mb (45.5% reduction)\n"
     ]
    }
   ],
   "source": [
    "new_trans = reduce_mem_usage(pd.read_csv('../../data/new_merchant_transactions.csv'))"
   ]
  },
  {
   "cell_type": "code",
   "execution_count": 10,
   "metadata": {},
   "outputs": [],
   "source": [
    "new_trans_pro = pro_trans(new_trans)"
   ]
  },
  {
   "cell_type": "code",
   "execution_count": 11,
   "metadata": {},
   "outputs": [
    {
     "name": "stdout",
     "output_type": "stream",
     "text": [
      "(290001, 70)\n"
     ]
    }
   ],
   "source": [
    "new_card_trans = trans_agg(new_trans_pro, nunique_col=\"card_id\", prefix='new_')\n",
    "print(new_card_trans.shape)"
   ]
  },
  {
   "cell_type": "markdown",
   "metadata": {},
   "source": [
    "#### 通过点击预估率开发特征"
   ]
  },
  {
   "cell_type": "code",
   "execution_count": 14,
   "metadata": {},
   "outputs": [],
   "source": [
    "new_train_data = new_trans.merge(data, on=\"card_id\", how=\"left\")"
   ]
  },
  {
   "cell_type": "code",
   "execution_count": 16,
   "metadata": {},
   "outputs": [],
   "source": [
    "new_card = new_train_data.groupby(\"card_id\", as_index=False)[\"label\"].agg({\"new_card_sum\": \"sum\", \"new_card_cnt\": \"count\"})\n",
    "new_card[\"card_cvr\"] = (new_card[\"new_card_sum\"]) / (new_card[\"new_card_cnt\"] + 3)\n",
    "new_merchant = new_train_data.groupby(\"merchant_id\", as_index=False)[\"label\"].agg({\"new_merchant_sum\": \"sum\", \"new_merchant_cnt\": \"count\"})\n",
    "new_merchant[\"merchant_cvr\"] = (new_merchant[\"new_merchant_sum\"]) / (new_merchant[\"new_merchant_cnt\"] + 3)\n",
    "new_city = new_train_data.groupby(\"city_id\", as_index=False)[\"label\"].agg({\"new_city_sum\": \"sum\", \"new_city_cnt\": \"count\"})\n",
    "new_city[\"city_cvr\"] = (new_city[\"new_city_sum\"]) / (new_city[\"new_city_cnt\"] + 3)\n",
    "new_mertcate = new_train_data.groupby(\"merchant_category_id\", as_index=False)[\"label\"].agg({\"new_mertcate_sum\": \"sum\", \"new_mertcate_cnt\": \"count\"})\n",
    "new_mertcate[\"mertcate_cvr\"] = (new_mertcate[\"new_mertcate_sum\"]) / (new_mertcate[\"new_mertcate_cnt\"] + 3)\n",
    "new_state = new_train_data.groupby(\"state_id\", as_index=False)[\"label\"].agg({\"new_state_sum\": \"sum\", \"new_state_cnt\": \"count\"})\n",
    "new_state[\"state_cvr\"] = (new_state[\"new_state_sum\"]) / (new_state[\"new_state_cnt\"] + 3)\n",
    "new_subsector = new_train_data.groupby(\"subsector_id\", as_index=False)[\"label\"].agg({\"new_subsector_sum\": \"sum\", \"new_subsector_cnt\": \"count\"})\n",
    "new_subsector[\"subsector_cvr\"] = (new_subsector[\"new_subsector_sum\"]) / (new_subsector[\"new_subsector_cnt\"] + 3)\n"
   ]
  },
  {
   "cell_type": "markdown",
   "metadata": {},
   "source": [
    "#### 将点击通过率特征进行整合"
   ]
  },
  {
   "cell_type": "code",
   "execution_count": 17,
   "metadata": {},
   "outputs": [],
   "source": [
    "new_data = new_train_data.merge(new_card, on=\"card_id\", how=\"left\")\n",
    "new_data = new_data.merge(new_merchant, on=\"merchant_id\", how=\"left\")\n",
    "new_data = new_data.merge(new_city, on=\"city_id\", how=\"left\")\n",
    "new_data = new_data.merge(new_mertcate, on=\"merchant_category_id\", how=\"left\")\n",
    "new_data = new_data.merge(new_state, on=\"state_id\", how=\"left\")\n",
    "new_data = new_data.merge(new_subsector, on=\"subsector_id\", how=\"left\")"
   ]
  },
  {
   "cell_type": "markdown",
   "metadata": {},
   "source": [
    "#### 对点击通过率开发排名特征"
   ]
  },
  {
   "cell_type": "code",
   "execution_count": 19,
   "metadata": {},
   "outputs": [],
   "source": [
    "new_data[\"card_cvr_card_rank\"] = new_data.groupby(\"card_id\", as_index=False)[\"card_cvr\"].rank(ascending=False,method='dense')\n",
    "new_data[\"card_cvr_merchant_rank\"] = new_data.groupby(\"merchant_id\", as_index=False)[\"card_cvr\"].rank(ascending=False,method='dense')\n",
    "new_data[\"card_cvr_city_rank\"] = new_data.groupby(\"city_id\", as_index=False)[\"card_cvr\"].rank(ascending=False,method='dense')\n",
    "new_data[\"card_cvr_mertcate_rank\"] = new_data.groupby(\"merchant_category_id\", as_index=False)[\"card_cvr\"].rank(ascending=False,method='dense')\n",
    "new_data[\"card_cvr_state_rank\"] = new_data.groupby(\"state_id\", as_index=False)[\"card_cvr\"].rank(ascending=False,method='dense')\n",
    "new_data[\"card_cvr_subsector_rank\"] = new_data.groupby(\"subsector_id\", as_index=False)[\"card_cvr\"].rank(ascending=False,method='dense')\n",
    "\n",
    "new_data[\"merchant_cvr_card_rank\"] = new_data.groupby(\"card_id\", as_index=False)[\"merchant_cvr\"].rank(ascending=False,method='dense')\n",
    "new_data[\"merchant_cvr_merchant_rank\"] = new_data.groupby(\"merchant_id\", as_index=False)[\"merchant_cvr\"].rank(ascending=False,method='dense')\n",
    "new_data[\"merchant_cvr_city_rank\"] = new_data.groupby(\"city_id\", as_index=False)[\"merchant_cvr\"].rank(ascending=False,method='dense')\n",
    "new_data[\"merchant_cvr_mertcate_rank\"] = new_data.groupby(\"merchant_category_id\", as_index=False)[\"merchant_cvr\"].rank(ascending=False,method='dense')\n",
    "new_data[\"merchant_cvr_state_rank\"] = new_data.groupby(\"state_id\", as_index=False)[\"merchant_cvr\"].rank(ascending=False,method='dense')\n",
    "new_data[\"merchant_cvr_subsector_rank\"] = new_data.groupby(\"subsector_id\", as_index=False)[\"merchant_cvr\"].rank(ascending=False,method='dense')\n",
    "\n",
    "new_data[\"city_cvr_card_rank\"] = new_data.groupby(\"card_id\", as_index=False)[\"city_cvr\"].rank(ascending=False,method='dense')\n",
    "new_data[\"city_cvr_merchant_rank\"] = new_data.groupby(\"merchant_id\", as_index=False)[\"city_cvr\"].rank(ascending=False,method='dense')\n",
    "new_data[\"city_cvr_city_rank\"] = new_data.groupby(\"city_id\", as_index=False)[\"city_cvr\"].rank(ascending=False,method='dense')\n",
    "new_data[\"city_cvr_mertcate_rank\"] = new_data.groupby(\"merchant_category_id\", as_index=False)[\"city_cvr\"].rank(ascending=False,method='dense')\n",
    "new_data[\"city_cvr_state_rank\"] = new_data.groupby(\"state_id\", as_index=False)[\"city_cvr\"].rank(ascending=False,method='dense')\n",
    "new_data[\"city_cvr_subsector_rank\"] = new_data.groupby(\"subsector_id\", as_index=False)[\"city_cvr\"].rank(ascending=False,method='dense')\n",
    "\n",
    "new_data[\"mertcate_cvr_card_rank\"] = new_data.groupby(\"card_id\", as_index=False)[\"mertcate_cvr\"].rank(ascending=False,method='dense')\n",
    "new_data[\"mertcate_cvr_merchant_rank\"] = new_data.groupby(\"merchant_id\", as_index=False)[\"mertcate_cvr\"].rank(ascending=False,method='dense')\n",
    "new_data[\"mertcate_cvr_city_rank\"] = new_data.groupby(\"city_id\", as_index=False)[\"mertcate_cvr\"].rank(ascending=False,method='dense')\n",
    "new_data[\"mertcate_cvr_mertcate_rank\"] = new_data.groupby(\"merchant_category_id\", as_index=False)[\"mertcate_cvr\"].rank(ascending=False,method='dense')\n",
    "new_data[\"mertcate_cvr_state_rank\"] = new_data.groupby(\"state_id\", as_index=False)[\"mertcate_cvr\"].rank(ascending=False,method='dense')\n",
    "new_data[\"mertcate_cvr_subsector_rank\"] = new_data.groupby(\"subsector_id\", as_index=False)[\"mertcate_cvr\"].rank(ascending=False,method='dense')\n",
    "\n",
    "new_data[\"state_cvr_card_rank\"] = new_data.groupby(\"card_id\", as_index=False)[\"state_cvr\"].rank(ascending=False,method='dense')\n",
    "new_data[\"state_cvr_merchant_rank\"] = new_data.groupby(\"merchant_id\", as_index=False)[\"state_cvr\"].rank(ascending=False,method='dense')\n",
    "new_data[\"state_cvr_city_rank\"] = new_data.groupby(\"city_id\", as_index=False)[\"state_cvr\"].rank(ascending=False,method='dense')\n",
    "new_data[\"state_cvr_mertcate_rank\"] = new_data.groupby(\"merchant_category_id\", as_index=False)[\"state_cvr\"].rank(ascending=False,method='dense')\n",
    "new_data[\"state_cvr_state_rank\"] = new_data.groupby(\"state_id\", as_index=False)[\"state_cvr\"].rank(ascending=False,method='dense')\n",
    "new_data[\"state_cvr_subsector_rank\"] = new_data.groupby(\"subsector_id\", as_index=False)[\"state_cvr\"].rank(ascending=False,method='dense')\n",
    "\n",
    "new_data[\"subsector_cvr_card_rank\"] = new_data.groupby(\"card_id\", as_index=False)[\"subsector_cvr\"].rank(ascending=False,method='dense')\n",
    "new_data[\"subsector_cvr_merchant_rank\"] = new_data.groupby(\"merchant_id\", as_index=False)[\"subsector_cvr\"].rank(ascending=False,method='dense')\n",
    "new_data[\"subsector_cvr_city_rank\"] = new_data.groupby(\"city_id\", as_index=False)[\"subsector_cvr\"].rank(ascending=False,method='dense')\n",
    "new_data[\"subsector_cvr_mertcate_rank\"] = new_data.groupby(\"merchant_category_id\", as_index=False)[\"subsector_cvr\"].rank(ascending=False,method='dense')\n",
    "new_data[\"subsector_cvr_state_rank\"] = new_data.groupby(\"state_id\", as_index=False)[\"subsector_cvr\"].rank(ascending=False,method='dense')\n",
    "new_data[\"subsector_cvr_subsector_rank\"] = new_data.groupby(\"subsector_id\", as_index=False)[\"subsector_cvr\"].rank(ascending=False,method='dense')\n",
    "\n"
   ]
  },
  {
   "cell_type": "code",
   "execution_count": null,
   "metadata": {},
   "outputs": [],
   "source": []
  },
  {
   "cell_type": "code",
   "execution_count": null,
   "metadata": {},
   "outputs": [],
   "source": []
  },
  {
   "cell_type": "code",
   "execution_count": null,
   "metadata": {},
   "outputs": [],
   "source": []
  },
  {
   "cell_type": "code",
   "execution_count": null,
   "metadata": {},
   "outputs": [],
   "source": []
  },
  {
   "cell_type": "markdown",
   "metadata": {},
   "source": [
    "### 从history_transactions中提取特征"
   ]
  },
  {
   "cell_type": "code",
   "execution_count": null,
   "metadata": {},
   "outputs": [],
   "source": [
    "hist_trans = reduce_mem_usage(pd.read_csv('../../data/historical_transactions.csv'))"
   ]
  },
  {
   "cell_type": "code",
   "execution_count": null,
   "metadata": {},
   "outputs": [],
   "source": [
    "hist_trans_pro = pro_trans(hist_trans)"
   ]
  },
  {
   "cell_type": "code",
   "execution_count": null,
   "metadata": {},
   "outputs": [],
   "source": []
  },
  {
   "cell_type": "code",
   "execution_count": null,
   "metadata": {},
   "outputs": [],
   "source": []
  },
  {
   "cell_type": "code",
   "execution_count": null,
   "metadata": {},
   "outputs": [],
   "source": []
  },
  {
   "cell_type": "code",
   "execution_count": null,
   "metadata": {},
   "outputs": [],
   "source": []
  },
  {
   "cell_type": "code",
   "execution_count": null,
   "metadata": {},
   "outputs": [],
   "source": []
  },
  {
   "cell_type": "code",
   "execution_count": null,
   "metadata": {},
   "outputs": [],
   "source": []
  },
  {
   "cell_type": "code",
   "execution_count": null,
   "metadata": {},
   "outputs": [],
   "source": []
  },
  {
   "cell_type": "code",
   "execution_count": null,
   "metadata": {},
   "outputs": [],
   "source": []
  },
  {
   "cell_type": "code",
   "execution_count": null,
   "metadata": {},
   "outputs": [],
   "source": []
  },
  {
   "cell_type": "code",
   "execution_count": null,
   "metadata": {},
   "outputs": [],
   "source": []
  },
  {
   "cell_type": "code",
   "execution_count": null,
   "metadata": {},
   "outputs": [],
   "source": []
  },
  {
   "cell_type": "code",
   "execution_count": null,
   "metadata": {},
   "outputs": [],
   "source": []
  },
  {
   "cell_type": "code",
   "execution_count": null,
   "metadata": {},
   "outputs": [],
   "source": []
  },
  {
   "cell_type": "code",
   "execution_count": null,
   "metadata": {},
   "outputs": [],
   "source": []
  },
  {
   "cell_type": "code",
   "execution_count": null,
   "metadata": {},
   "outputs": [],
   "source": []
  },
  {
   "cell_type": "code",
   "execution_count": null,
   "metadata": {},
   "outputs": [],
   "source": []
  },
  {
   "cell_type": "code",
   "execution_count": null,
   "metadata": {},
   "outputs": [],
   "source": []
  }
 ],
 "metadata": {
  "kernelspec": {
   "display_name": "Python 3",
   "language": "python",
   "name": "python3"
  },
  "language_info": {
   "codemirror_mode": {
    "name": "ipython",
    "version": 3
   },
   "file_extension": ".py",
   "mimetype": "text/x-python",
   "name": "python",
   "nbconvert_exporter": "python",
   "pygments_lexer": "ipython3",
   "version": "3.6.5"
  }
 },
 "nbformat": 4,
 "nbformat_minor": 2
}
