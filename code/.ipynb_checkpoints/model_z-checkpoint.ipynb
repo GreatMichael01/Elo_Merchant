{
 "cells": [
  {
   "cell_type": "code",
   "execution_count": 1,
   "metadata": {},
   "outputs": [],
   "source": [
    "import numpy as np\n",
    "import pandas as pd\n",
    "import warnings\n",
    "import gc\n",
    "import matplotlib.pyplot as plt\n",
    "import datetime\n",
    "from sklearn.metrics import mean_squared_error\n",
    "from sklearn.model_selection import StratifiedKFold\n",
    "import lightgbm as lgb\n",
    "import xgboost as xgb\n",
    "warnings.filterwarnings('ignore')\n",
    "plt.style.use('seaborn')"
   ]
  },
  {
   "cell_type": "code",
   "execution_count": 2,
   "metadata": {},
   "outputs": [],
   "source": [
    "# Reduce the memory usage - Inspired by Panchajanya Banerjee\n",
    "def reduce_mem_usage(df, verbose=True):\n",
    "    numerics = ['int16', 'int32', 'int64', 'float16', 'float32', 'float64']\n",
    "    start_mem = df.memory_usage().sum() / 1024 ** 2\n",
    "    for col in df.columns:\n",
    "        col_type = df[col].dtypes\n",
    "        if col_type in numerics:\n",
    "            c_min = df[col].min()\n",
    "            c_max = df[col].max()\n",
    "            if str(col_type)[:3] == 'int':\n",
    "                if c_min > np.iinfo(np.int8).min and c_max < np.iinfo(np.int8).max:\n",
    "                    df[col] = df[col].astype(np.int8)\n",
    "                elif c_min > np.iinfo(np.int16).min and c_max < np.iinfo(np.int16).max:\n",
    "                    df[col] = df[col].astype(np.int16)\n",
    "                elif c_min > np.iinfo(np.int32).min and c_max < np.iinfo(np.int32).max:\n",
    "                    df[col] = df[col].astype(np.int32)\n",
    "                elif c_min > np.iinfo(np.int64).min and c_max < np.iinfo(np.int64).max:\n",
    "                    df[col] = df[col].astype(np.int64)\n",
    "            else:\n",
    "                if c_min > np.finfo(np.float16).min and c_max < np.finfo(np.float16).max:\n",
    "                    df[col] = df[col].astype(np.float16)\n",
    "                elif c_min > np.finfo(np.float32).min and c_max < np.finfo(np.float32).max:\n",
    "                    df[col] = df[col].astype(np.float32)\n",
    "                else:\n",
    "                    df[col] = df[col].astype(np.float64)\n",
    "    end_mem = df.memory_usage().sum() / 1024 ** 2\n",
    "    if verbose: print('Mem. usage decreased to {:5.2f} Mb ({:.1f}% reduction)'.format(end_mem, 100 * (\n",
    "                start_mem - end_mem) / start_mem))\n",
    "    return df\n"
   ]
  },
  {
   "cell_type": "code",
   "execution_count": 12,
   "metadata": {},
   "outputs": [
    {
     "name": "stdout",
     "output_type": "stream",
     "text": [
      "Mem. usage decreased to  4.04 Mb (56.2% reduction)\n",
      "Mem. usage decreased to  2.24 Mb (52.5% reduction)\n"
     ]
    }
   ],
   "source": [
    "train = reduce_mem_usage(pd.read_csv('../data/train.csv', parse_dates=[\"first_active_month\"]))\n",
    "test = reduce_mem_usage(pd.read_csv('../data/test.csv', parse_dates=[\"first_active_month\"]))\n",
    "test[\"target\"] = -999\n",
    "data = pd.concat([train, test])\n",
    "\n",
    "data[\"year\"] = data[\"first_active_month\"].dt.year\n",
    "data[\"month\"] = data[\"first_active_month\"].dt.month\n",
    "data[\"dayofyear\"] = data[\"first_active_month\"].dt.dayofyear\n",
    "data[\"weekofyear\"] = data[\"first_active_month\"].dt.weekofyear\n",
    "data['dayofweek'] = data['first_active_month'].dt.dayofweek\n",
    "data[\"days\"] = (datetime.date(2018, 2, 1) - data[\"first_active_month\"].dt.date).dt.days"
   ]
  },
  {
   "cell_type": "code",
   "execution_count": null,
   "metadata": {},
   "outputs": [],
   "source": [
    "transactions = reduce_mem_usage(pd.read_csv('../data/historical_transactions.csv'))\n",
    "transactions['authorized_flag'] = transactions['authorized_flag'].map({'Y': 1, 'N': 0})\n",
    "transactions['category_1'] = transactions['category_1'].map({'Y': 1, 'N': 0})\n",
    "# Feature Engineering - Adding new features inspired by Chau's first kernel\n",
    "transactions[\"purchase_date\"] = pd.to_datetime(transactions[\"purchase_date\"])\n",
    "transactions[\"year\"] = transactions[\"purchase_date\"].dt.year\n",
    "transactions[\"month\"] = transactions[\"purchase_date\"].dt.month\n",
    "transactions[\"weekofyear\"] = transactions[\"purchase_date\"].dt.weekofyear\n",
    "transactions[\"dayofweek\"] = transactions[\"purchase_date\"].dt.dayofweek\n",
    "transactions[\"weekend\"] = (transactions[\"purchase_date\"].dt.weekday >= 5).astype(int)\n",
    "transactions[\"hour\"] = transactions[\"purchase_date\"].dt.hour\n",
    "transactions[\"month_diff\"] = ((datetime.datetime.today() - transactions[\"purchase_date\"]).dt.days) // 30\n",
    "transactions[\"month_diff\"] += transactions[\"month_lag\"]\n",
    "\n",
    "# impute missing values - This is now excluded.\n",
    "transactions[\"category_2\"] = transactions[\"category_2\"].fillna(2.0, inplace=True)\n",
    "transactions[\"category_3\"] = transactions[\"category_3\"].fillna(\"A\", inplace=True)\n",
    "transactions[\"merchant_id\"] = transactions[\"merchant_id\"].fillna(\"M_ID_00a6ca8a8a\", inplace=True)\n",
    "gc.collect()\n"
   ]
  },
  {
   "cell_type": "code",
   "execution_count": null,
   "metadata": {},
   "outputs": [],
   "source": [
    "# Taking Reference from Other Kernels\n",
    "def aggregate_transaction_hist(trans, prefix):\n",
    "    agg_func = {'purchase_date': ['max', 'min'],\n",
    "                'month_diff': ['mean'],\n",
    "                'weekend': ['sum', 'mean'],\n",
    "                'authorized_flag': ['sum', 'mean'],\n",
    "                'category_1': ['sum', 'mean'],\n",
    "                'purchase_amount': ['sum', 'mean', 'count', 'max', 'min', 'std'],\n",
    "                'installments': ['sum', 'mean', 'count', 'max', 'min', 'std'],\n",
    "                'merchant_id': ['nunique'],\n",
    "                'month_lag': ['max', 'min', 'mean', 'var'],\n",
    "                'month_diff': ['mean'],\n",
    "                'card_id': ['size'],\n",
    "                'month': ['nunique'],\n",
    "                'hour': ['nunique'],\n",
    "                'weekofyear': ['nunique'],\n",
    "                'dayofweek': ['nunique'],\n",
    "                'year': ['nunique'],\n",
    "                'subsector_id': ['nunique'],\n",
    "                'merchant_category_id': ['nunique'],\n",
    "                'Christmas_Day_2017': ['mean'],\n",
    "                'Mothers_Day_2017':['mean'],\n",
    "                'fathers_day_2017': ['mean'],\n",
    "                'Children_day_2017': ['mean'],\n",
    "                'Black_Friday_2017': ['mean'],\n",
    "                'Valentine_day_2017': ['mean'],\n",
    "                'Mothers_Day_2018': ['mean']}\n",
    "    agg_trans = trans.groupby(['card_id']).agg(agg_func)\n",
    "    agg_trans.columns = [prefix + '_'.join(col).strip() for col in agg_trans.columns.values]\n",
    "    agg_trans.reset_index(inplace=True)\n",
    "    df = (trans.groupby('card_id').size().reset_index(name='{}transactions_count'.format(prefix)))\n",
    "    agg_trans = pd.merge(df, agg_trans, on='card_id', how='left')\n",
    "\n",
    "    return agg_trans"
   ]
  },
  {
   "cell_type": "code",
   "execution_count": null,
   "metadata": {},
   "outputs": [],
   "source": []
  },
  {
   "cell_type": "code",
   "execution_count": null,
   "metadata": {},
   "outputs": [],
   "source": []
  },
  {
   "cell_type": "code",
   "execution_count": null,
   "metadata": {},
   "outputs": [],
   "source": []
  },
  {
   "cell_type": "code",
   "execution_count": null,
   "metadata": {},
   "outputs": [],
   "source": []
  },
  {
   "cell_type": "code",
   "execution_count": null,
   "metadata": {},
   "outputs": [],
   "source": []
  }
 ],
 "metadata": {
  "kernelspec": {
   "display_name": "Python 3",
   "language": "python",
   "name": "python3"
  },
  "language_info": {
   "codemirror_mode": {
    "name": "ipython",
    "version": 3
   },
   "file_extension": ".py",
   "mimetype": "text/x-python",
   "name": "python",
   "nbconvert_exporter": "python",
   "pygments_lexer": "ipython3",
   "version": "3.6.5"
  }
 },
 "nbformat": 4,
 "nbformat_minor": 2
}
