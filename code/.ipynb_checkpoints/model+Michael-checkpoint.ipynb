{
 "cells": [
  {
   "cell_type": "code",
   "execution_count": null,
   "metadata": {
    "_uuid": "c3966559e6c292ec0338f3ce50bcd123390b88af"
   },
   "outputs": [],
   "source": [
    "import numpy as np\n",
    "import pandas as pd\n",
    "import time\n",
    "import warnings\n",
    "import gc\n",
    "import matplotlib.pyplot as plt\n",
    "import datetime\n",
    "from sklearn.metrics import mean_squared_error\n",
    "from sklearn.model_selection import StratifiedKFold\n",
    "import lightgbm as lgb\n",
    "import xgboost as xgb\n",
    "from sklearn import preprocessing\n",
    "warnings.filterwarnings('ignore')\n",
    "plt.style.use('seaborn')\n"
   ]
  },
  {
   "cell_type": "code",
   "execution_count": null,
   "metadata": {
    "_uuid": "4fb94836696530e60343851b70c7879caa0407a5"
   },
   "outputs": [],
   "source": [
    "# Reduce the memory usage - Inspired by Panchajanya Banerjee\n",
    "def reduce_mem_usage(df, verbose=True):\n",
    "    numerics = ['int16', 'int32', 'int64', 'float16', 'float32', 'float64']\n",
    "    start_mem = df.memory_usage().sum() / 1024 ** 2\n",
    "    for col in df.columns:\n",
    "        col_type = df[col].dtypes\n",
    "        if col_type in numerics:\n",
    "            c_min = df[col].min()\n",
    "            c_max = df[col].max()\n",
    "            if str(col_type)[:3] == 'int':\n",
    "                if c_min > np.iinfo(np.int8).min and c_max < np.iinfo(np.int8).max:\n",
    "                    df[col] = df[col].astype(np.int8)\n",
    "                elif c_min > np.iinfo(np.int16).min and c_max < np.iinfo(np.int16).max:\n",
    "                    df[col] = df[col].astype(np.int16)\n",
    "                elif c_min > np.iinfo(np.int32).min and c_max < np.iinfo(np.int32).max:\n",
    "                    df[col] = df[col].astype(np.int32)\n",
    "                elif c_min > np.iinfo(np.int64).min and c_max < np.iinfo(np.int64).max:\n",
    "                    df[col] = df[col].astype(np.int64)\n",
    "            else:\n",
    "                if c_min > np.finfo(np.float16).min and c_max < np.finfo(np.float16).max:\n",
    "                    df[col] = df[col].astype(np.float16)\n",
    "                elif c_min > np.finfo(np.float32).min and c_max < np.finfo(np.float32).max:\n",
    "                    df[col] = df[col].astype(np.float32)\n",
    "                else:\n",
    "                    df[col] = df[col].astype(np.float64)\n",
    "    end_mem = df.memory_usage().sum() / 1024 ** 2\n",
    "    if verbose: print('Mem. usage decreased to {:5.2f} Mb ({:.1f}% reduction)'.format(end_mem, 100 * (\n",
    "                start_mem - end_mem) / start_mem))\n",
    "    return df"
   ]
  },
  {
   "cell_type": "markdown",
   "metadata": {
    "_uuid": "3ef140d67eccc0fd34ac6e9fb2d4ed65b2fc7433"
   },
   "source": [
    "## Simple processing train and test"
   ]
  },
  {
   "cell_type": "code",
   "execution_count": null,
   "metadata": {
    "_uuid": "26b421096902e154dde1ba08df2419e59143b6a3"
   },
   "outputs": [],
   "source": [
    "train = reduce_mem_usage(pd.read_csv('../data/train.csv', parse_dates=[\"first_active_month\"]))\n",
    "test = reduce_mem_usage(pd.read_csv('../data/test.csv', parse_dates=[\"first_active_month\"]))\n",
    "test[\"target\"] = -999\n",
    "data = pd.concat([train, test])\n",
    "data[\"year\"] = data[\"first_active_month\"].dt.year\n",
    "data[\"month\"] = data[\"first_active_month\"].dt.month\n",
    "data[\"day\"] = data[\"first_active_month\"].dt.day\n",
    "data[\"dayofyear\"] = data[\"first_active_month\"].dt.dayofyear\n",
    "data['week'] = data[\"first_active_month\"].dt.weekofyear\n",
    "data['dayofweek'] = data['first_active_month'].dt.dayofweek\n",
    "data['days'] = (datetime.date(2018, 2, 1) - data['first_active_month'].dt.date).dt.days"
   ]
  },
  {
   "cell_type": "code",
   "execution_count": null,
   "metadata": {},
   "outputs": [],
   "source": [
    "def pro_trans(trans):  \n",
    "    \n",
    "    trans[\"authorized_flag\"] = trans[\"authorized_flag\"].map({\"Y\": 1, \"N\": 0})\n",
    "    trans[\"category_1\"] = trans[\"category_1\"].map({\"Y\": 1, \"N\":0})\n",
    "    trans[\"purchase_date\"] = pd.to_datetime(trans[\"purchase_date\"])\n",
    "    trans[\"year\"] = trans[\"purchase_date\"].dt.year\n",
    "    trans[\"month\"] = trans[\"purchase_date\"].dt.month\n",
    "    trans[\"weekofyear\"] = trans[\"purchase_date\"].dt.weekofyear\n",
    "    trans[\"dayofweek\"] = trans[\"purchase_date\"].dt.dayofweek\n",
    "    trans[\"weekend\"] = (trans[\"purchase_date\"].dt.weekday >= 5).astype(int)\n",
    "    trans[\"hour\"] = trans[\"purchase_date\"].dt.hour\n",
    "    trans[\"month_diff\"] = ((datetime.datetime.today() - trans[\"purchase_date\"]).dt.days) // 30\n",
    "    trans[\"month_diff\"] += trans[\"month_lag\"]\n",
    "    trans[\"category_2\"] = trans[\"category_2\"].fillna(2.0)\n",
    "    trans[\"category_3\"] = trans[\"category_3\"].fillna(\"A\")\n",
    "    trans[\"merchant_id\"] = trans[\"merchant_id\"].fillna(\"M_ID_00a6ca8a8a\")\n",
    "    lbl = preprocessing.LabelEncoder()\n",
    "    trans[\"category_3\"] = lbl.fit_transform(list(trans[\"category_3\"].values))\n",
    "    # Christmas Eve\n",
    "    trans['Christmas_Eva_2017'] = (pd.to_datetime('2017-12-24') - trans['purchase_date']).dt.days.apply(\n",
    "        lambda x: x if x > 0 and x < 100 else 0)    \n",
    "    # Christmas Day：12 25 2017 \n",
    "    trans['Christmas_day_2017'] = (pd.to_datetime('2017-12-25') - trans['purchase_date']).dt.days.apply(\n",
    "        lambda x: x if x > 0 and x < 100 else 0)\n",
    "    # Mothers Day: May 14 2017\n",
    "    trans['Mothers_day_2017'] = (pd.to_datetime('2017-05-04') - trans['purchase_date']).dt.days.apply(\n",
    "        lambda x: x if x > 0 and x < 100 else 0)\n",
    "    # fathers day: August 13 2017\n",
    "    trans['fathers_day_2017'] = (pd.to_datetime('2017-08-13') - trans['purchase_date']).dt.days.apply(\n",
    "        lambda x: x if x > 0 and x < 100 else 0)\n",
    "    # Childrens day: October 12 2017\n",
    "    trans['Children_day_2017'] = (pd.to_datetime('2017-10-12') - trans['purchase_date']).dt.days.apply(\n",
    "        lambda x: x if x > 0 and x < 100 else 0)\n",
    "    # Black Friday : 24th November 2017\n",
    "    trans['Black_Friday_2017'] = (pd.to_datetime('2017-11-24') - trans['purchase_date']).dt.days.apply(\n",
    "        lambda x: x if x > 0 and x < 100 else 0)\n",
    "    # Valentines Day\n",
    "    trans['Valentine_day_2017'] = (pd.to_datetime('2017-06-12') - trans['purchase_date']).dt.days.apply(\n",
    "        lambda x: x if x > 0 and x < 100 else 0)\n",
    "    # Global Shopping ：11-11\n",
    "    trans['Global_shopping_2017'] = (pd.to_datetime('2017-11-11') - trans['purchase_date']).dt.days.apply(\n",
    "        lambda x: x if x > 0 and x < 100 else 0)\n",
    "    # New Year ：1-1-2018\n",
    "    trans['New_year_2017'] = (pd.to_datetime('2017-01-01') - trans['purchase_date']).dt.days.apply(\n",
    "        lambda x: x if x > 0 and x < 100 else 0)\n",
    "    # Independence_Day: 7-4-2017\n",
    "    trans['Independence_day_2017'] = (pd.to_datetime('2017-07-04') - trans['purchase_date']).dt.days.apply(\n",
    "        lambda x: x if x > 0 and x < 100 else 0)\n",
    "    # Valentine_Day: 2-14-2017\n",
    "    trans['Valentine’s_day_2017'] = (pd.to_datetime('2017-02-14') - trans['purchase_date']).dt.days.apply(\n",
    "        lambda x: x if x > 0 and x < 100 else 0)\n",
    "    # Halloween_Day: 10-30-2017\n",
    "    trans['Halloween_day_2017'] = (pd.to_datetime('2017-10-30') - trans['purchase_date']).dt.days.apply(\n",
    "        lambda x: x if x > 0 and x < 100 else 0)\n",
    "    # Mothers Day: May 13 2018\n",
    "    trans['Mothers_day_2018'] = (pd.to_datetime('2018-05-13') - trans['purchase_date']).dt.days.apply(\n",
    "        lambda x: x if x > 0 and x < 100 else 0)\n",
    "    \n",
    "    return trans\n",
    "    "
   ]
  },
  {
   "cell_type": "code",
   "execution_count": null,
   "metadata": {},
   "outputs": [],
   "source": [
    "# Taking Reference from Other Kernels\n",
    "def trans_agg(trans, prefix):\n",
    "    agg_func = {\"purchase_date\":[\"max\", \"min\"],\n",
    "                \"month_diff\": [\"count\", \"max\", \"min\", \"mean\"],\n",
    "                \"weekend\": [\"count\", \"sum\", \"max\", \"min\", \"mean\"],\n",
    "                \"authorized_flag\": [\"count\", \"sum\", \"max\", \"min\", \"mean\"],\n",
    "                \"category_1\": [\"count\", \"sum\", \"max\", \"min\", \"mean\"],\n",
    "                \"category_2\": [\"count\", \"sum\", \"max\", \"min\", \"mean\"],\n",
    "                \"category_3\": [\"count\", \"sum\", \"max\", \"min\", \"mean\"],\n",
    "                \"installments\": [\"count\", \"sum\", \"max\", \"min\", \"mean\", \"std\", \"var\"],\n",
    "                \"purchase_amount\": [\"count\", \"sum\", \"max\", \"min\", \"mean\", \"std\", \"var\"],\n",
    "                \"merchant_id\": [\"nunique\"],\n",
    "                \"month_lag\": [\"count\", \"max\", \"min\", \"nunique\"],\n",
    "                \"month_diff\": [\"count\", \"max\", \"min\", \"nunique\"],\n",
    "                \"card_id\": [\"size\", \"nunique\"],\n",
    "                \"month\": [\"count\", \"max\", \"min\", \"nunique\"],\n",
    "                \"hour\": [\"count\", \"max\", \"min\", \"nunique\"],\n",
    "                \"weekofyear\": [\"count\", \"max\", \"min\", \"nunique\"],\n",
    "                \"dayofweek\": [\"count\", \"max\", \"min\", \"nunique\"],\n",
    "                \"year\": [\"count\", \"max\", \"min\", \"nunique\"],\n",
    "                \"subsector_id\": [\"count\", \"max\", \"min\", \"nunique\"],\n",
    "                \"merchant_category_id\": [\"count\", \"max\", \"min\", \"nunique\"],\n",
    "                \"Christmas_day_2017\": [\"count\", \"max\", \"min\", \"mean\", \"std\"],\n",
    "                \"Mothers_day_2017\": [\"count\", \"max\", \"min\", \"mean\", \"std\"],\n",
    "                \"fathers_day_2017\": [\"count\", \"max\", \"min\", \"mean\", \"std\"],\n",
    "                \"Children_day_2017\": [\"count\", \"max\", \"min\", \"mean\", \"std\"],\n",
    "                \"Black_Friday_2017\": [\"count\", \"max\", \"min\", \"mean\", \"std\"],\n",
    "                \"Valentine_day_2017\": [\"count\", \"max\", \"min\", \"mean\", \"std\"],\n",
    "                \"Christmas_Eva_2017\": [\"count\", \"max\", \"min\", \"mean\", \"std\"],\n",
    "                \"Global_shopping_2017\": [\"count\", \"max\", \"min\", \"mean\", \"std\"],\n",
    "                \"Independence_day_2017\": [\"count\", \"max\", \"min\", \"mean\", \"std\"],\n",
    "                \"New_year_2017\": [\"count\", \"max\", \"min\", \"mean\", \"std\"],\n",
    "                \"Valentine’s_day_2017\": [\"count\", \"max\", \"min\", \"mean\", \"std\"],\n",
    "                \"Halloween_day_2017\": [\"count\", \"max\", \"min\", \"mean\", \"std\"],\n",
    "                \"Mothers_day_2018\": [\"count\", \"max\", \"min\", \"mean\", \"std\"]}\n",
    "    \n",
    "    agg_trans = trans.groupby(['card_id']).agg(agg_func)\n",
    "    agg_trans.columns = [prefix + '_'.join(col).strip() for col in agg_trans.columns.values]\n",
    "    agg_trans.reset_index(inplace=True)\n",
    "    df = (trans.groupby('card_id').size().reset_index(name='{}transactions_count'.format(prefix)))\n",
    "    agg_trans = pd.merge(df, agg_trans, on='card_id', how='left')\n",
    "\n",
    "    return agg_trans"
   ]
  },
  {
   "cell_type": "code",
   "execution_count": null,
   "metadata": {},
   "outputs": [],
   "source": [
    "# Feature Engineering - Adding new features inspired by Chau's first kernel\n",
    "def data_add_feat(data, prefix):\n",
    "    data[prefix + 'purchase_date_max'] = pd.to_datetime(data[prefix + 'purchase_date_max'])\n",
    "    data[prefix + 'purchase_date_min'] = pd.to_datetime(data[prefix + 'purchase_date_min'])\n",
    "    data[prefix + 'purchase_date_diff'] = (data[prefix + 'purchase_date_max'] - data[prefix + 'purchase_date_min']).dt.days\n",
    "    data[prefix + 'purchase_date_average'] = data[prefix + 'purchase_date_diff'] / data[prefix + 'card_id_size']\n",
    "    data[prefix + 'purchase_date_uptonow'] = (datetime.datetime.today() - data[prefix + 'purchase_date_max']).dt.days\n",
    "    data[prefix + 'first_buy'] = (data[prefix + 'purchase_date_min'] - data['first_active_month']).dt.days\n",
    "    for feature in [prefix + 'purchase_date_max', prefix + 'purchase_date_min']:\n",
    "        data[feature] = data[feature].astype(np.int64) * 1e-9\n",
    "    \n",
    "    return data"
   ]
  },
  {
   "cell_type": "markdown",
   "metadata": {
    "_uuid": "5dfe00321d9c6944c52d47e116ca453853d99e6b"
   },
   "source": [
    "## Processing historical transactions"
   ]
  },
  {
   "cell_type": "code",
   "execution_count": null,
   "metadata": {
    "_uuid": "3dc97bb191be49f4048f26362cc5e560711bf55b"
   },
   "outputs": [],
   "source": [
    "hist_trans = reduce_mem_usage(pd.read_csv('../data/historical_transactions.csv'))"
   ]
  },
  {
   "cell_type": "code",
   "execution_count": null,
   "metadata": {},
   "outputs": [],
   "source": [
    "hist_trans = pro_trans(hist_trans)\n",
    "merge_trans = trans_agg(hist_trans, prefix='hist_')\n",
    "del hist_trans\n",
    "gc.collect()"
   ]
  },
  {
   "cell_type": "code",
   "execution_count": null,
   "metadata": {
    "_uuid": "0147ecacaa3f92e0402bdd34abf6f013a17a517f"
   },
   "outputs": [],
   "source": [
    "data = pd.merge(data, merge_trans, on='card_id', how='left')\n",
    "del merge_trans\n",
    "gc.collect()"
   ]
  },
  {
   "cell_type": "code",
   "execution_count": null,
   "metadata": {},
   "outputs": [],
   "source": [
    "data = data_add_feat(data, prefix=\"hist_\")\n",
    "gc.collect()"
   ]
  },
  {
   "cell_type": "code",
   "execution_count": null,
   "metadata": {
    "_uuid": "1db2d9bb65e665122644b5c88dd7666bf804278c"
   },
   "outputs": [],
   "source": [
    "data.to_csv(\"../data_feat/data_hist.csv\", index=False)"
   ]
  },
  {
   "cell_type": "markdown",
   "metadata": {
    "_uuid": "356ed38d092240f6fefdb2a99aab27b6bb30a1ed"
   },
   "source": [
    "## processing new_transacton"
   ]
  },
  {
   "cell_type": "code",
   "execution_count": null,
   "metadata": {},
   "outputs": [],
   "source": [
    "# data = pd.read_csv(\"../data_feat/data_hist.csv\")\n",
    "new_trans = reduce_mem_usage(pd.read_csv('../data/new_merchant_transactions.csv'))"
   ]
  },
  {
   "cell_type": "code",
   "execution_count": null,
   "metadata": {},
   "outputs": [],
   "source": [
    "new_trans = pro_trans(new_trans)\n",
    "merge_trans = trans_agg(new_trans, prefix='new_')\n",
    "del new_trans\n",
    "gc.collect()"
   ]
  },
  {
   "cell_type": "code",
   "execution_count": null,
   "metadata": {},
   "outputs": [],
   "source": [
    "data = pd.merge(data, merge_trans, on='card_id', how='left')\n",
    "del merge_trans\n",
    "gc.collect()"
   ]
  },
  {
   "cell_type": "code",
   "execution_count": null,
   "metadata": {},
   "outputs": [],
   "source": [
    "data = data_add_feat(data, prefix=\"new_\")\n",
    "gc.collect()"
   ]
  },
  {
   "cell_type": "code",
   "execution_count": null,
   "metadata": {},
   "outputs": [],
   "source": [
    "# added new feature - Interactive\n",
    "data['card_id_total'] = data['new_card_id_size'] + data['hist_card_id_size']\n",
    "data['purchase_amount_total'] = data['new_purchase_amount_sum'] + data['hist_purchase_amount_sum']\n",
    "\n",
    "gc.collect()"
   ]
  },
  {
   "cell_type": "code",
   "execution_count": null,
   "metadata": {},
   "outputs": [],
   "source": [
    "# Check for missing values in training set\n",
    "nulls = np.sum(data.isnull())\n",
    "nullcols = nulls.loc[(nulls != 0)]\n",
    "dtypes = data.dtypes\n",
    "dtypes2 = dtypes.loc[(nulls != 0)]\n",
    "info = pd.concat([nullcols, dtypes2], axis=1).sort_values(by=0, ascending=False)\n",
    "\n",
    "numeric_dtypes = ['float64']\n",
    "numerics = []\n",
    "for i in data.columns:\n",
    "    if data[i].dtype in numeric_dtypes:\n",
    "        numerics.append(i)\n"
   ]
  },
  {
   "cell_type": "code",
   "execution_count": null,
   "metadata": {},
   "outputs": [],
   "source": [
    "train = data[data[\"target\"] != -999]\n",
    "test = data[data[\"target\"] == -999]\n",
    "test = test.drop([\"target\"], axis=1)\n",
    "\n",
    "train['outliers'] = 0\n",
    "train.loc[train['target'] < -30, 'outliers'] = 1\n",
    "train['outliers'].value_counts()\n",
    "\n",
    "for features in ['feature_1', 'feature_2', 'feature_3']:\n",
    "    order_label = train.groupby([features])['outliers'].mean()\n",
    "    train[features] = train[features].map(order_label)\n",
    "    test[features] = test[features].map(order_label)"
   ]
  },
  {
   "cell_type": "markdown",
   "metadata": {},
   "source": [
    "## training model"
   ]
  },
  {
   "cell_type": "code",
   "execution_count": null,
   "metadata": {},
   "outputs": [],
   "source": [
    "import time\n",
    "df_train_columns = [c for c in train.columns if c not in ['card_id', 'first_active_month', 'target', 'outliers']]\n",
    "target = train['target']\n",
    "param = {'num_leaves': 31,\n",
    "         'min_data_in_leaf': 32, \n",
    "         'objective':'regression',\n",
    "         'max_depth': -1,\n",
    "         'learning_rate': 0.001,\n",
    "         \"boosting\": \"gbdt\",\n",
    "         \"feature_fraction\": 0.9,\n",
    "         \"bagging_freq\": 1,\n",
    "         \"bagging_fraction\": 0.9,\n",
    "         \"bagging_seed\": 11,\n",
    "         \"metric\": 'rmse',\n",
    "         \"lambda_l1\": 0.1,\n",
    "         \"verbosity\": -1,\n",
    "         \"nthread\": -1}\n",
    "folds = StratifiedKFold(n_splits=5, shuffle=True, random_state=2018)\n",
    "oof = np.zeros(len(train))\n",
    "predictions = np.zeros(len(test))\n",
    "feature_importance_df = pd.DataFrame()\n",
    "\n",
    "for fold_, (trn_idx, val_idx) in enumerate(folds.split(train, train['outliers'].values)):\n",
    "    print(\"fold {}\".format(fold_))\n",
    "    trn_data = lgb.Dataset(train.iloc[trn_idx][df_train_columns], label=target.iloc[trn_idx])\n",
    "    val_data = lgb.Dataset(train.iloc[val_idx][df_train_columns], label=target.iloc[val_idx])\n",
    "\n",
    "    num_round = 10000\n",
    "    clf = lgb.train(param, trn_data, num_round, valid_sets=[trn_data, val_data], verbose_eval=-1,\n",
    "                    early_stopping_rounds=100)\n",
    "    oof[val_idx] = clf.predict(train.iloc[val_idx][df_train_columns], num_iteration=clf.best_iteration)\n",
    "\n",
    "    fold_importance_df = pd.DataFrame()\n",
    "    fold_importance_df[\"Feature\"] = df_train_columns\n",
    "    fold_importance_df[\"importance\"] = clf.feature_importance()\n",
    "    fold_importance_df[\"fold\"] = fold_ + 1\n",
    "    feature_importance_df = pd.concat([feature_importance_df, fold_importance_df], axis=0)\n",
    "\n",
    "    predictions += clf.predict(test[df_train_columns], num_iteration=clf.best_iteration) / folds.n_splits\n",
    "\n",
    "np.sqrt(mean_squared_error(oof, target))\n",
    "\n",
    "sample_submission = pd.read_csv('../data/sample_submission.csv')\n",
    "sample_submission['target'] = predictions\n",
    "sample_submission.to_csv(\"../submission/\"+str(int(time.strftime(\"%Y%m%d%H%M%S\", time.localtime(time.time()))))+\".csv\", index=False)"
   ]
  },
  {
   "cell_type": "markdown",
   "metadata": {},
   "source": [
    "## Combining model with a model without outlier"
   ]
  },
  {
   "cell_type": "code",
   "execution_count": null,
   "metadata": {},
   "outputs": [],
   "source": [
    "train.to_csv(\"../data_feat/train.csv\", index=False)\n",
    "test.to_csv(\"../data_feat/test.csv\", index=False)"
   ]
  },
  {
   "cell_type": "code",
   "execution_count": null,
   "metadata": {},
   "outputs": [],
   "source": [
    "import pandas as pd\n",
    "import numpy as np\n",
    "import time\n",
    "import lightgbm as lgb\n",
    "from sklearn.model_selection import StratifiedKFold, KFold\n",
    "from sklearn.metrics import mean_squared_error\n",
    "from sklearn.metrics import log_loss"
   ]
  },
  {
   "cell_type": "code",
   "execution_count": null,
   "metadata": {},
   "outputs": [],
   "source": [
    "%%time\n",
    "train = pd.read_csv(\"../data_feat/train.csv\")\n",
    "test = pd.read_csv(\"../data_feat/test.csv\")"
   ]
  },
  {
   "cell_type": "markdown",
   "metadata": {},
   "source": [
    "### Part1: Training model without outliers"
   ]
  },
  {
   "cell_type": "code",
   "execution_count": null,
   "metadata": {},
   "outputs": [],
   "source": [
    "train_df = train[train[\"outliers\"] == 0]\n",
    "target = train_df[\"target\"]\n",
    "del train_df[\"target\"]\n",
    "features = [c for c in train_df.columns if c not in [\"card_id\", \"first_active_month\", \"outliers\"]]\n",
    "categorical_feats = [c for c in features if \"feature_\" in c]"
   ]
  },
  {
   "cell_type": "code",
   "execution_count": null,
   "metadata": {
    "scrolled": true
   },
   "outputs": [],
   "source": [
    "%%time\n",
    "param = {'num_leaves': 31,\n",
    "         'min_data_in_leaf': 32, \n",
    "         'objective':'regression',\n",
    "         'max_depth': -1,\n",
    "         'learning_rate': 0.001,\n",
    "         \"boosting\": \"gbdt\",\n",
    "         \"feature_fraction\": 0.9,\n",
    "         \"bagging_freq\": 8,\n",
    "         \"bagging_fraction\": 0.9,\n",
    "         \"bagging_seed\": 11,\n",
    "         \"metric\": 'rmse',\n",
    "         \"lambda_l1\": 0.1,\n",
    "         \"verbosity\": -1,\n",
    "         \"nthread\": 6}\n",
    "\n",
    "folds = StratifiedKFold(n_splits=5, shuffle=True, random_state=2018)\n",
    "oof = np.zeros(len(train_df))\n",
    "predictions = np.zeros(len(test))\n",
    "feature_importance_df = pd.DataFrame()\n",
    "\n",
    "for fold_, (trn_idx, val_idx) in enumerate(folds.split(train_df,train_df['outliers'].values)):\n",
    "    print(\"fold {}\".format(fold_))\n",
    "    trn_data = lgb.Dataset(train_df.iloc[trn_idx][features], label=target.iloc[trn_idx])\n",
    "    val_data = lgb.Dataset(train_df.iloc[val_idx][features], label=target.iloc[val_idx])\n",
    "\n",
    "    num_round = 10000\n",
    "    clf = lgb.train(param, trn_data, num_round, valid_sets = [trn_data, val_data], verbose_eval= -1,\n",
    "                    early_stopping_rounds = 200)\n",
    "    oof[val_idx] = clf.predict(train_df.iloc[val_idx][features], num_iteration=clf.best_iteration)\n",
    "    \n",
    "    fold_importance_df = pd.DataFrame()\n",
    "    fold_importance_df[\"Feature\"] = features\n",
    "    fold_importance_df[\"importance\"] = clf.feature_importance()\n",
    "    fold_importance_df[\"fold\"] = fold_ + 1\n",
    "    feature_importance_df = pd.concat([feature_importance_df, fold_importance_df], axis=0)\n",
    "    \n",
    "    predictions += clf.predict(test[features], num_iteration=clf.best_iteration) / folds.n_splits\n",
    "\n",
    "print(\"CV score: {:<8.5f}\".format(mean_squared_error(oof, target)**0.5))\n",
    "    "
   ]
  },
  {
   "cell_type": "code",
   "execution_count": null,
   "metadata": {},
   "outputs": [],
   "source": [
    "model_without_outliers = pd.DataFrame({\"card_id\":test[\"card_id\"].values})\n",
    "model_without_outliers[\"target\"] = predictions"
   ]
  },
  {
   "cell_type": "markdown",
   "metadata": {},
   "source": [
    "### Part2: Training model for outliers classification"
   ]
  },
  {
   "cell_type": "code",
   "execution_count": null,
   "metadata": {},
   "outputs": [],
   "source": [
    "train_df = train\n",
    "test_df = test\n",
    "target = train_df[\"outliers\"]\n",
    "del train_df[\"outliers\"]\n",
    "del train_df[\"target\"]\n",
    "\n",
    "features = [c for c in train_df.columns if c not in [\"card_id\", \"first_active_month\"]]\n",
    "categorical_feats = [c for c in features if \"feature_\" in c]"
   ]
  },
  {
   "cell_type": "code",
   "execution_count": null,
   "metadata": {},
   "outputs": [],
   "source": [
    "param = {'num_leaves': 31,\n",
    "         'min_data_in_leaf': 30, \n",
    "         'objective':'binary',\n",
    "         'max_depth': 6,\n",
    "         'learning_rate': 0.005,\n",
    "         \"boosting\": \"rf\",\n",
    "         \"feature_fraction\": 0.9,\n",
    "         \"bagging_freq\": 1,\n",
    "         \"bagging_fraction\": 0.9 ,\n",
    "         \"bagging_seed\": 11,\n",
    "         \"metric\": 'binary_logloss',\n",
    "         \"lambda_l1\": 0.1,\n",
    "         \"verbosity\": -1,\n",
    "         \"nthread\": 6}\n",
    "folds = KFold(n_splits=5, shuffle=True, random_state=15)\n",
    "oof = np.zeros(len(train_df))\n",
    "predictions2 = np.zeros(len(test_df))\n",
    "feature_importance_df = pd.DataFrame()\n",
    "\n",
    "start = time.time()\n",
    "\n",
    "\n",
    "for fold_, (trn_idx, val_idx) in enumerate(folds.split(train_df.values, target.values)):\n",
    "    print(\"fold n°{}\".format(fold_))\n",
    "    trn_data = lgb.Dataset(train_df.iloc[trn_idx][features], label=target.iloc[trn_idx], categorical_feature=categorical_feats)\n",
    "    val_data = lgb.Dataset(train_df.iloc[val_idx][features], label=target.iloc[val_idx], categorical_feature=categorical_feats)\n",
    "\n",
    "    num_round = 10000\n",
    "    clf = lgb.train(param, trn_data, num_round, valid_sets = [trn_data, val_data], verbose_eval=-1, \n",
    "                    early_stopping_rounds = 200)\n",
    "    oof[val_idx] = clf.predict(train_df.iloc[val_idx][features], num_iteration=clf.best_iteration)\n",
    "    \n",
    "    fold_importance_df = pd.DataFrame()\n",
    "    fold_importance_df[\"feature\"] = features\n",
    "    fold_importance_df[\"importance\"] = clf.feature_importance()\n",
    "    fold_importance_df[\"fold\"] = fold_ + 1\n",
    "    feature_importance_df = pd.concat([feature_importance_df, fold_importance_df], axis=0)\n",
    "    \n",
    "    predictions2 += clf.predict(test_df[features], num_iteration=clf.best_iteration) / folds.n_splits\n",
    "\n",
    "print(\"CV score: {:<8.5f}\".format(log_loss(target, oof)))\n"
   ]
  },
  {
   "cell_type": "code",
   "execution_count": null,
   "metadata": {},
   "outputs": [],
   "source": [
    "df_outlier_prob = pd.DataFrame({\"card_id\": test_df[\"card_id\"].values})\n",
    "df_outlier_prob[\"target\"] = predictions2"
   ]
  },
  {
   "cell_type": "markdown",
   "metadata": {},
   "source": [
    "### Part 3: combining submission:"
   ]
  },
  {
   "cell_type": "code",
   "execution_count": null,
   "metadata": {},
   "outputs": [],
   "source": [
    "outlier_id = pd.DataFrame(df_outlier_prob.sort_values(by=\"target\", ascending=False).head(25000)[\"card_id\"])\n",
    "best_submission = pd.read_csv(\"../submission/6921_6922_55.csv\")\n",
    "most_likely_liers = best_submission.merge(outlier_id, how=\"right\")"
   ]
  },
  {
   "cell_type": "code",
   "execution_count": null,
   "metadata": {},
   "outputs": [],
   "source": [
    "for card_id in most_likely_liers[\"card_id\"]:\n",
    "    model_without_outliers.loc[model_without_outliers[\"card_id\"] == card_id, \"target\"] = \\\n",
    "    most_likely_liers.loc[most_likely_liers[\"card_id\"] == card_id, \"target\"].values"
   ]
  },
  {
   "cell_type": "code",
   "execution_count": null,
   "metadata": {},
   "outputs": [],
   "source": [
    "model_without_outliers.to_csv(\"../submission/\"+str(int(time.strftime(\"%Y%m%d%H%M%S\", time.localtime(time.time()))))+\".csv\", index=False)             "
   ]
  },
  {
   "cell_type": "code",
   "execution_count": null,
   "metadata": {},
   "outputs": [],
   "source": []
  },
  {
   "cell_type": "code",
   "execution_count": null,
   "metadata": {},
   "outputs": [],
   "source": []
  },
  {
   "cell_type": "code",
   "execution_count": null,
   "metadata": {},
   "outputs": [],
   "source": []
  },
  {
   "cell_type": "code",
   "execution_count": null,
   "metadata": {},
   "outputs": [],
   "source": []
  },
  {
   "cell_type": "code",
   "execution_count": null,
   "metadata": {
    "_uuid": "94f28effe81fce6e4fe076a0bbbcb57dc3449079"
   },
   "outputs": [],
   "source": []
  },
  {
   "cell_type": "code",
   "execution_count": null,
   "metadata": {
    "_uuid": "c7cf5ca7a61d93b50bac58b4542a9bd4c8fc0098"
   },
   "outputs": [],
   "source": []
  },
  {
   "cell_type": "code",
   "execution_count": null,
   "metadata": {
    "_cell_guid": "79c7e3d0-c299-4dcb-8224-4455121ee9b0",
    "_uuid": "d629ff2d2480ee46fbb7e2d37f6b5fab8052498a"
   },
   "outputs": [],
   "source": []
  }
 ],
 "metadata": {
  "kernelspec": {
   "display_name": "Python 3",
   "language": "python",
   "name": "python3"
  },
  "language_info": {
   "codemirror_mode": {
    "name": "ipython",
    "version": 3
   },
   "file_extension": ".py",
   "mimetype": "text/x-python",
   "name": "python",
   "nbconvert_exporter": "python",
   "pygments_lexer": "ipython3",
   "version": "3.6.5"
  }
 },
 "nbformat": 4,
 "nbformat_minor": 1
}
