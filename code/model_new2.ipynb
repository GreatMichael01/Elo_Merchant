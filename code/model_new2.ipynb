{
 "cells": [
  {
   "cell_type": "code",
   "execution_count": 1,
   "metadata": {},
   "outputs": [],
   "source": [
    "import pandas as pd\n",
    "import numpy as np\n",
    "import time\n",
    "import warnings\n",
    "import gc\n",
    "import matplotlib.pyplot as plt\n",
    "%matplotlib inline\n",
    "plt.style.use(\"ggplot\")\n",
    "import seaborn as sns\n",
    "import datetime\n",
    "from sklearn.metrics import mean_squared_error\n",
    "from sklearn.model_selection import StratifiedKFold, KFold\n",
    "from sklearn.metrics import log_loss\n",
    "import lightgbm as lgb\n",
    "from sklearn import preprocessing\n",
    "warnings.filterwarnings(\"ignore\")\n",
    "plt.style.use(\"seaborn\")"
   ]
  },
  {
   "cell_type": "markdown",
   "metadata": {},
   "source": [
    "## Formatted data"
   ]
  },
  {
   "cell_type": "code",
   "execution_count": 2,
   "metadata": {},
   "outputs": [],
   "source": [
    "# Reduce the memory usage - Inspired by Panchajanya Banerjee\n",
    "def reduce_mem_usage(df, verbose=True):\n",
    "    numerics = ['int16', 'int32', 'int64', 'float16', 'float32', 'float64']\n",
    "    start_mem = df.memory_usage().sum() / 1024 ** 2\n",
    "    for col in df.columns:\n",
    "        col_type = df[col].dtypes\n",
    "        if col_type in numerics:\n",
    "            c_min = df[col].min()\n",
    "            c_max = df[col].max()\n",
    "            if str(col_type)[:3] == 'int':\n",
    "                if c_min > np.iinfo(np.int8).min and c_max < np.iinfo(np.int8).max:\n",
    "                    df[col] = df[col].astype(np.int8)\n",
    "                elif c_min > np.iinfo(np.int16).min and c_max < np.iinfo(np.int16).max:\n",
    "                    df[col] = df[col].astype(np.int16)\n",
    "                elif c_min > np.iinfo(np.int32).min and c_max < np.iinfo(np.int32).max:\n",
    "                    df[col] = df[col].astype(np.int32)\n",
    "                elif c_min > np.iinfo(np.int64).min and c_max < np.iinfo(np.int64).max:\n",
    "                    df[col] = df[col].astype(np.int64)\n",
    "            else:\n",
    "                if c_min > np.finfo(np.float16).min and c_max < np.finfo(np.float16).max:\n",
    "                    df[col] = df[col].astype(np.float16)\n",
    "                elif c_min > np.finfo(np.float32).min and c_max < np.finfo(np.float32).max:\n",
    "                    df[col] = df[col].astype(np.float32)\n",
    "                else:\n",
    "                    df[col] = df[col].astype(np.float64)\n",
    "    end_mem = df.memory_usage().sum() / 1024 ** 2\n",
    "    if verbose: print('Mem. usage decreased to {:5.2f} Mb ({:.1f}% reduction)'.format(end_mem, 100 * (\n",
    "                start_mem - end_mem) / start_mem))\n",
    "    return df"
   ]
  },
  {
   "cell_type": "code",
   "execution_count": null,
   "metadata": {},
   "outputs": [],
   "source": [
    "train = reduce_mem_usage(pd.read_csv(\"../data/train.csv\", parse_dates=[\"first_active_month\"]))\n",
    "test = reduce_mem_usage(pd.read_csv(\"../data/test.csv\", parse_dates=[\"first_active_month\"]))\n",
    "test[\"target\"] = -9999\n",
    "data = pd.concat([train, test])\n",
    "data[\"year\"] = data[\"first_active_month\"].apply(lambda x: x.year)\n",
    "data[\"month\"] = data[\"first_active_month\"].apply(lambda x: x.month)\n",
    "data[\"dayofyear\"] = data[\"first_active_month\"].dt.dayofyear\n",
    "data['week'] = data[\"first_active_month\"].dt.weekofyear\n",
    "data['dayofweek'] = data['first_active_month'].dt.dayofweek\n",
    "data['days'] = (datetime.date(2018, 2, 1) - data['first_active_month'].dt.date).dt.days"
   ]
  },
  {
   "cell_type": "code",
   "execution_count": null,
   "metadata": {},
   "outputs": [],
   "source": [
    "def pro_trans(trans):  \n",
    "    \n",
    "    trans[\"authorized_flag\"] = trans[\"authorized_flag\"].map({\"Y\": 1, \"N\": 0})\n",
    "    trans[\"category_1\"] = trans[\"category_1\"].map({\"Y\": 1, \"N\":0})\n",
    "    trans[\"purchase_date\"] = pd.to_datetime(trans[\"purchase_date\"])\n",
    "    trans[\"year\"] = trans[\"purchase_date\"].apply(lambda x: x.year)\n",
    "    trans[\"month\"] = trans[\"purchase_date\"].apply(lambda x: x.month)\n",
    "    trans[\"weekofyear\"] = trans[\"purchase_date\"].apply(lambda x: x.weekofyear)\n",
    "    trans[\"dayofweek\"] = trans[\"purchase_date\"].apply(lambda x: x.dayofweek)\n",
    "    trans[\"weekend\"] = (trans[\"purchase_date\"].apply(lambda x: x.dayofweek) >= 5).astype(int)\n",
    "    trans[\"hour\"] = trans[\"purchase_date\"].apply(lambda x: x.hour)\n",
    "    trans[\"minute\"] = trans[\"purchase_date\"].apply(lambda x: x.minute)\n",
    "    trans[\"month_diff\"] = ((datetime.datetime.today() - trans[\"purchase_date\"]).apply(lambda x: x.days)) // 30\n",
    "    trans[\"month_diff\"] += trans[\"month_lag\"]\n",
    "    trans[\"month_diff2\"] = trans[\"month\"] - trans[\"month_lag\"]\n",
    "    trans[\"category_2\"] = trans[\"category_2\"].fillna(value = 2.0)\n",
    "    trans[\"category_3\"] = trans[\"category_3\"].fillna(value = \"A\")\n",
    "    trans[\"merchant_id\"] = trans[\"merchant_id\"].fillna(value = \"M_ID_00a6ca8a8a\")\n",
    "    lbl = preprocessing.LabelEncoder()\n",
    "    trans[\"category_3\"] = lbl.fit_transform(list(trans[\"category_3\"].values))\n",
    "    \n",
    "    agg_func = {\"mean\": [\"mean\"]}\n",
    "    for col in [\"category_1\", \"category_2\", \"category_3\"]:\n",
    "        trans[col+\"_mean\"] = trans[\"purchase_amount\"].groupby(trans[col]).agg(agg_func)\n",
    "        trans[col+\"_mean\"] = trans[\"installments\"].groupby(trans[col]).agg(agg_func)\n",
    "    for col in [\"month\", \"hour\"]:\n",
    "        trans[col+\"_mean\"] = trans[\"purchase_amount\"].groupby(trans[col]).agg(agg_func)\n",
    "        trans[col+\"_mean\"] = trans[\"installments\"].groupby(trans[col]).agg(agg_func)\n",
    "    \n",
    "    return trans\n",
    "    "
   ]
  },
  {
   "cell_type": "code",
   "execution_count": null,
   "metadata": {},
   "outputs": [],
   "source": [
    "# Taking Reference from Other Kernels\n",
    "def trans_agg(trans, nunique_col, prefix):\n",
    "    agg_func = {\"purchase_date\":[\"max\", \"min\"],\n",
    "                \"month_diff\": [\"max\", \"min\", \"mean\"],\n",
    "                \"weekend\": [\"max\", \"min\", \"mean\"],\n",
    "                \"authorized_flag\": [\"max\", \"min\", \"mean\"],\n",
    "                \"category_1\": [\"max\", \"min\", \"mean\"],\n",
    "                \"category_2\": [\"max\", \"min\", \"mean\"],\n",
    "                \"category_3\": [\"max\", \"min\", \"mean\"],\n",
    "                \"installments\": [\"max\", \"min\", \"mean\", \"std\"],\n",
    "                \"purchase_amount\": [\"max\", \"min\", \"mean\", \"std\"],\n",
    "                \"merchant_id\": [\"nunique\"],\n",
    "                \"month_lag\": [\"mean\", \"max\", \"min\", \"nunique\"],\n",
    "                \"month_diff\": [\"mean\", \"max\", \"min\", \"nunique\"],\n",
    "                \"card_id\": [\"size\", \"nunique\"],\n",
    "                \"month\": [\"max\", \"min\", \"nunique\"],\n",
    "                \"hour\": [\"max\", \"min\", \"nunique\"],\n",
    "                \"weekofyear\": [\"max\", \"min\", \"nunique\"],\n",
    "                \"dayofweek\": [\"max\", \"min\", \"nunique\"],\n",
    "                \"year\": [\"max\", \"min\", \"nunique\"],\n",
    "                \"subsector_id\": [\"max\", \"min\", \"nunique\"],\n",
    "                \"merchant_category_id\": [\"max\", \"min\", \"nunique\"]}\n",
    "    \n",
    "    agg_trans = trans.groupby([nunique_col]).agg(agg_func)\n",
    "    agg_trans.columns = [prefix + '_'.join(col).strip() for col in agg_trans.columns.values]\n",
    "    agg_trans.reset_index(inplace=True)\n",
    "    df = (trans.groupby(nunique_col).size().reset_index(name='{}transactions_count'.format(prefix)))\n",
    "    agg_trans = pd.merge(df, agg_trans, on=nunique_col, how='left')\n",
    "\n",
    "    return agg_trans"
   ]
  },
  {
   "cell_type": "code",
   "execution_count": null,
   "metadata": {},
   "outputs": [],
   "source": [
    "# Feature Engineering - Adding new features inspired by Chau's first kernel\n",
    "def data_add_feat(data, prefix):\n",
    "    data[prefix + \"purchase_date_max\"] = pd.to_datetime(data[prefix + \"purchase_date_max\"])\n",
    "    data[prefix + \"purchase_date_min\"] = pd.to_datetime(data[prefix + \"purchase_date_min\"])\n",
    "    data[prefix + \"purchase_date_diff\"] = (data[prefix + \"purchase_date_max\"] - data[prefix + \"purchase_date_min\"]).dt.days   \n",
    "    data[prefix + \"purchase_date_average\"] = data[prefix + \"purchase_date_diff\"] / data[prefix + \"card_id_size\"]\n",
    "    data[prefix + \"purchase_date_uptonow\"] = (datetime.datetime.today() - data[prefix + \"purchase_date_max\"]).dt.days\n",
    "    data[prefix + \"first_buy\"] = (data[prefix + \"purchase_date_min\"] - data[\"first_active_month\"]).dt.days\n",
    "    data[prefix + \"last_buy\"] = (data[prefix + \"purchase_date_max\"] - data[\"first_active_month\"]).dt.days\n",
    "    for feature in [prefix + \"purchase_date_max\", prefix + \"purchase_date_min\"]:\n",
    "        data[feature] = data[feature].astype(np.int64) * 1e-9\n",
    "    \n",
    "    return data"
   ]
  },
  {
   "cell_type": "code",
   "execution_count": null,
   "metadata": {},
   "outputs": [],
   "source": []
  },
  {
   "cell_type": "code",
   "execution_count": null,
   "metadata": {},
   "outputs": [],
   "source": [
    "hist_trans = reduce_mem_usage(pd.read_csv('../data/historical_transactions.csv'))\n",
    "hist_trans_pro = pro_trans(hist_trans)"
   ]
  },
  {
   "cell_type": "code",
   "execution_count": null,
   "metadata": {},
   "outputs": [],
   "source": [
    "hist_merge_trans1 = trans_agg(hist_trans_pro, nunique_col=\"card_id\" ,prefix='hist_')\n",
    "data = data.merge(hist_merge_trans1, on='card_id', how='left')\n",
    "# data.to_csv(\"../data_feat/his_data_card.csv\", index=False)\n",
    "del hist_merge_trans1\n",
    "del hist_trans_pro\n",
    "del hist_trans\n",
    "gc.collect()"
   ]
  },
  {
   "cell_type": "code",
   "execution_count": null,
   "metadata": {},
   "outputs": [],
   "source": [
    "hist_merge_trans2 = trans_agg(hist_trans_pro, nunique_col=\"merchant_id\", prefix='hist_')\n",
    "hist_merge_trans2 = hist_trans_pro.merge(hist_merge_trans2, how=\"left\", on=\"merchant_id\")"
   ]
  },
  {
   "cell_type": "code",
   "execution_count": null,
   "metadata": {},
   "outputs": [],
   "source": [
    "hist_merge_trans2.to_csv(\"../feat_data/hist_merge_trans2.csv\", index=False)"
   ]
  },
  {
   "cell_type": "code",
   "execution_count": null,
   "metadata": {},
   "outputs": [],
   "source": [
    "hist_merge_trans2 = pd.read_csv(\"../feat_data/hist_merge_trans2.csv\")"
   ]
  },
  {
   "cell_type": "code",
   "execution_count": null,
   "metadata": {},
   "outputs": [],
   "source": [
    "hist_gby = hist_merge_trans2.groupby(\"card_id\",as_index=False).mean()\n",
    "data = data.merge(hist_gby, on=\"card_id\", how=\"left\")\n",
    "data.to_csv(\"../data_feat/hist_data_merchant.csv\", index=False)"
   ]
  },
  {
   "cell_type": "code",
   "execution_count": null,
   "metadata": {},
   "outputs": [],
   "source": [
    "hist_merge_trans2 = trans_agg(hist_trans_pro, nunique_col=\"merchant_id\", prefix='hist_')\n",
    "hist_merge_trans2 = hist_trans_pro.merge(hist_merge_trans2, how=\"left\", on=\"merchant_id\")\n",
    "hist_gby = hist_merge_trans2.groupby(\"card_id\",as_index=False).mean()\n",
    "data = data.merge(hist_gby, on=\"card_id\", how=\"left\")\n",
    "data.to_csv(\"../data_feat/hist_data_merchant.csv\", index=False)\n",
    "del hist_merge_trans2\n",
    "del hist_trans_pro\n",
    "del hist_trans\n",
    "gc.collect()"
   ]
  },
  {
   "cell_type": "code",
   "execution_count": null,
   "metadata": {},
   "outputs": [],
   "source": []
  },
  {
   "cell_type": "code",
   "execution_count": null,
   "metadata": {},
   "outputs": [],
   "source": [
    "new_trans = reduce_mem_usage(pd.read_csv('../data/new_merchant_transactions.csv'))\n",
    "new_trans_pro = pro_trans(new_trans)"
   ]
  },
  {
   "cell_type": "code",
   "execution_count": null,
   "metadata": {},
   "outputs": [],
   "source": [
    "new_merge_trans1 = trans_agg(new_trans_pro,nunique_col=\"card_id\" ,prefix='new_')\n",
    "data = data.merge(new_merge_trans1, on='card_id', how='left')\n",
    "# data.to_csv(\"../data_feat/new_data_card.csv\", index=False)\n",
    "del new_merge_trans1\n",
    "gc.collect()"
   ]
  },
  {
   "cell_type": "code",
   "execution_count": null,
   "metadata": {},
   "outputs": [],
   "source": [
    "new_merge_trans2 = trans_agg(new_trans_pro, nunique_col=\"merchant_id\", prefix='new_')\n",
    "new_merge_trans2 = new_trans_pro.merge(new_merge_trans2, how=\"left\", on=\"merchant_id\")\n",
    "new_gby = new_merge_trans2.groupby(\"card_id\",as_index=False).mean()\n",
    "data = data.merge(new_gby, on=\"card_id\", how=\"left\")\n",
    "# data.to_csv(\"../data_feat/new_data_merchant.csv\", index=False)\n",
    "del new_merge_trans2\n",
    "gc.collect()"
   ]
  },
  {
   "cell_type": "code",
   "execution_count": null,
   "metadata": {},
   "outputs": [],
   "source": []
  },
  {
   "cell_type": "code",
   "execution_count": null,
   "metadata": {},
   "outputs": [],
   "source": [
    "# hist_data = hist_data_card.merge(hist_data_merchant, on=\"card_id\", how=\"left\")\n",
    "data1 = data_add_feat(hist_data_card, prefix=\"hist_\")\n",
    "new_data = new_data_card.merge(new_data_merchant, on=\"card_id\", how=\"left\")\n",
    "data2 = data_add_feat(new_data, prefix=\"new_\")\n",
    "\n",
    "data = data1.merge(data2, on=\"card_id\", how=\"left\")\n"
   ]
  },
  {
   "cell_type": "code",
   "execution_count": null,
   "metadata": {},
   "outputs": [],
   "source": []
  },
  {
   "cell_type": "code",
   "execution_count": null,
   "metadata": {},
   "outputs": [],
   "source": [
    "hist_trans = reduce_mem_usage(pd.read_csv('../data/historical_transactions.csv'))\n",
    "hist_trans_pro = pro_trans(hist_trans)\n",
    "hist_merge_trans1 = trans_agg(hist_trans_pro, nunique_col=\"card_id\" ,prefix='hist_')\n",
    "del hist_trans_pro\n",
    "gc.collect()\n",
    "\n",
    "data = pd.merge(data, hist_merge_trans1, on='card_id', how='left')\n",
    "del hist_merge_trans1\n",
    "gc.collect()\n",
    "\n",
    "data = data_add_feat(data, prefix=\"hist_\")\n",
    "gc.collect()\n"
   ]
  },
  {
   "cell_type": "code",
   "execution_count": null,
   "metadata": {},
   "outputs": [],
   "source": [
    "new_trans = reduce_mem_usage(pd.read_csv('../data/new_merchant_transactions.csv'))\n",
    "new_trans_pro = pro_trans(new_trans)\n",
    "new_merge_trans1 = trans_agg(new_trans_pro,nunique_col=\"card_id\" ,prefix='new_')\n",
    "# del new_merge_trans1\n",
    "gc.collect()\n",
    "\n",
    "new_merge_trans2 = trans_agg(new_trans_pro, nunique_col=\"merchant_id\", prefix='new_')\n",
    "new_merge_trans2 = new_trans_pro.merge(new_merge_trans2, how=\"left\", on=\"merchant_id\")\n",
    "new_gby = new_merge_trans2.groupby(\"card_id\",as_index=False).mean()\n",
    "new_data = new_merge_trans1.merge(new_gby, on=\"card_id\", how=\"left\")\n",
    "del new_merge_trans2\n",
    "gc.collect()\n"
   ]
  },
  {
   "cell_type": "code",
   "execution_count": null,
   "metadata": {},
   "outputs": [],
   "source": [
    "data = data.merge(new_data, on=\"card_id\", how=\"left\")"
   ]
  },
  {
   "cell_type": "code",
   "execution_count": null,
   "metadata": {},
   "outputs": [],
   "source": [
    "# added new feature - Interactive\n",
    "# data['card_id_total'] = data['new_card_id_size'] + data['hist_card_id_size']\n",
    "# data['purchase_amount_total'] = data['new_purchase_amount_sum'] + data['hist_purchase_amount_sum']\n",
    "data[\"purchase_amount_mean\"] = data[\"new_purchase_amount_mean\"] + data[\"hist_purchase_amount_mean\"]\n",
    "data[\"purchase_amount_max\"] = data[\"new_purchase_amount_max\"] + data[\"hist_purchase_amount_max\"]\n",
    "data[\"purchase_amount_min\"] = data[\"new_purchase_amount_min\"] + data[\"hist_purchase_amount_min\"]\n",
    "data[\"purchase_amount_std\"] = data[\"new_purchase_amount_std\"] + data[\"hist_purchase_amount_std\"]\n",
    "\n",
    "# data[\"installments_total\"] = data[\"new_installments_sum\"] + data[\"hist_installments_sum\"]\n",
    "data[\"installments_mean\"] = data[\"new_installments_mean\"] + data[\"hist_installments_mean\"]\n",
    "data[\"installments_max\"] = data[\"new_installments_max\"] + data[\"hist_installments_max\"]\n",
    "data[\"installments_min\"] = data[\"new_installments_min\"] + data[\"hist_installments_min\"]\n",
    "data[\"installments_std\"] = data[\"new_installments_std\"] + data[\"hist_installments_std\"]\n",
    "\n",
    "gc.collect()"
   ]
  },
  {
   "cell_type": "code",
   "execution_count": null,
   "metadata": {},
   "outputs": [],
   "source": [
    "data[\"hist_month_nunique_hist_month_diff_mean_add\"] = data[\"hist_month_nunique\"] + data[\"hist_month_diff_mean\"]   \n",
    "data[\"hist_month_nunique_hist_month_diff_mean_sub\"] = data[\"hist_month_nunique\"] - data[\"hist_month_diff_mean\"]   \n",
    "data[\"hist_month_nunique_hist_month_diff_mean_mul\"] = data[\"hist_month_nunique\"] * data[\"hist_month_diff_mean\"]\n",
    "data[\"hist_month_nunique_hist_month_diff_mean_div\"] = data[\"hist_month_nunique\"] / data[\"hist_month_diff_mean\"]\n",
    "\n",
    "data[\"hist_month_nunique_hist_authorized_flag_mean_add\"] = data[\"hist_month_nunique\"] + data[\"hist_authorized_flag_mean\"]    \n",
    "data[\"hist_month_nunique_hist_authorized_flag_mean_sub\"] = data[\"hist_month_nunique\"] - data[\"hist_authorized_flag_mean\"]\n",
    "data[\"hist_month_nunique_hist_authorized_flag_mean_mul\"] = data[\"hist_month_nunique\"] * data[\"hist_authorized_flag_mean\"]\n",
    "data[\"hist_month_nunique_hist_authorized_flag_mean_div\"] = data[\"hist_month_nunique\"] / data[\"hist_authorized_flag_mean\"]\n",
    "\n",
    "data[\"hist_month_diff_mean_hist_authorized_flag_mean_add\"] = data[\"hist_month_diff_mean\"] + data[\"hist_authorized_flag_mean\"]   \n",
    "data[\"hist_month_diff_mean_hist_authorized_flag_mean_sub\"] = data[\"hist_month_diff_mean\"] - data[\"hist_authorized_flag_mean\"]\n",
    "data[\"hist_month_diff_mean_hist_authorized_flag_mean_mul\"] = data[\"hist_month_diff_mean\"] * data[\"hist_authorized_flag_mean\"]\n",
    "data[\"hist_month_diff_mean_hist_authorized_flag_mean_div\"] = data[\"hist_month_diff_mean\"] / data[\"hist_authorized_flag_mean\"]\n",
    "\n",
    "data[\"hist_month_nunique_new_purchase_date_diff_add\"] = data[\"hist_month_nunique\"] + data[\"new_purchase_date_diff\"]\n",
    "data[\"hist_month_nunique_new_purchase_date_diff_sub\"] = data[\"hist_month_nunique\"] - data[\"new_purchase_date_diff\"]\n",
    "data[\"hist_month_nunique_new_purchase_date_diff_mul\"] = data[\"hist_month_nunique\"] * data[\"new_purchase_date_diff\"]\n",
    "data[\"hist_month_nunique_new_purchase_date_diff_div\"] = data[\"hist_month_nunique\"] / data[\"new_purchase_date_diff\"]\n",
    "\n",
    "data[\"hist_month_diff_mean_new_purchase_date_diff_add\"] = data[\"hist_month_diff_mean\"] + data[\"new_purchase_date_diff\"]\n",
    "data[\"hist_month_diff_mean_new_purchase_date_diff_sub\"] = data[\"hist_month_diff_mean\"] - data[\"new_purchase_date_diff\"]\n",
    "data[\"hist_month_diff_mean_new_purchase_date_diff_mul\"] = data[\"hist_month_diff_mean\"] * data[\"new_purchase_date_diff\"]\n",
    "data[\"hist_month_diff_mean_new_purchase_date_diff_div\"] = data[\"hist_month_diff_mean\"] / data[\"new_purchase_date_diff\"]\n",
    "\n",
    "data[\"hist_authorized_flag_mean_new_purchase_date_diff_add\"] = data[\"hist_authorized_flag_mean\"] + data[\"new_purchase_date_diff\"]    \n",
    "data[\"hist_authorized_flag_mean_new_purchase_date_diff_sub\"] = data[\"hist_authorized_flag_mean\"] - data[\"new_purchase_date_diff\"]\n",
    "data[\"hist_authorized_flag_mean_new_purchase_date_diff_mul\"] = data[\"hist_authorized_flag_mean\"] * data[\"new_purchase_date_diff\"]\n",
    "data[\"hist_authorized_flag_mean_new_purchase_date_diff_div\"] = data[\"hist_authorized_flag_mean\"] / data[\"new_purchase_date_diff\"]\n",
    "\n",
    "data[\"hist_month_nunique_hist_month_lag_mean_add\"] = data[\"hist_month_nunique\"] + data[\"hist_month_lag_mean\"]\n",
    "data[\"hist_month_nunique_hist_month_lag_mean_sub\"] = data[\"hist_month_nunique\"] - data[\"hist_month_lag_mean\"]\n",
    "data[\"hist_month_nunique_hist_month_lag_mean_mul\"] = data[\"hist_month_nunique\"] * data[\"hist_month_lag_mean\"]\n",
    "data[\"hist_month_nunique_hist_month_lag_mean_div\"] = data[\"hist_month_nunique\"] / data[\"hist_month_lag_mean\"]\n",
    "\n",
    "data[\"hist_month_diff_mean_hist_month_lag_mean_add\"] = data[\"hist_month_diff_mean\"] + data[\"hist_month_lag_mean\"]\n",
    "data[\"hist_month_diff_mean_hist_month_lag_mean_sub\"] = data[\"hist_month_diff_mean\"] - data[\"hist_month_lag_mean\"]\n",
    "data[\"hist_month_diff_mean_hist_month_lag_mean_mul\"] = data[\"hist_month_diff_mean\"] * data[\"hist_month_lag_mean\"]\n",
    "data[\"hist_month_diff_mean_hist_month_lag_mean_div\"] = data[\"hist_month_diff_mean\"] / data[\"hist_month_lag_mean\"]\n",
    "\n",
    "data[\"hist_authorized_flag_mean_hist_month_lag_mean_add\"] = data[\"hist_authorized_flag_mean\"] + data[\"hist_month_lag_mean\"]\n",
    "data[\"hist_authorized_flag_mean_hist_month_lag_mean_sub\"] = data[\"hist_authorized_flag_mean\"] - data[\"hist_month_lag_mean\"]\n",
    "data[\"hist_authorized_flag_mean_hist_month_lag_mean_mul\"] = data[\"hist_authorized_flag_mean\"] * data[\"hist_month_lag_mean\"]\n",
    "data[\"hist_authorized_flag_mean_hist_month_lag_mean_div\"] = data[\"hist_authorized_flag_mean\"] / data[\"hist_month_lag_mean\"]\n",
    "\n",
    "data[\"new_purchase_date_diff_hist_month_lag_mean_add\"] = data[\"new_purchase_date_diff\"] + data[\"hist_month_lag_mean\"]\n",
    "data[\"new_purchase_date_diff_hist_month_lag_mean_sub\"] = data[\"new_purchase_date_diff\"] - data[\"hist_month_lag_mean\"]\n",
    "data[\"new_purchase_date_diff_hist_month_lag_mean_mul\"] = data[\"new_purchase_date_diff\"] * data[\"hist_month_lag_mean\"]\n",
    "data[\"new_purchase_date_diff_hist_month_lag_mean_div\"] = data[\"new_purchase_date_diff\"] / data[\"hist_month_lag_mean\"]\n",
    "\n",
    "gc.collect()"
   ]
  },
  {
   "cell_type": "code",
   "execution_count": null,
   "metadata": {},
   "outputs": [],
   "source": [
    "# Check for missing values in training set\n",
    "nulls = np.sum(data.isnull())\n",
    "nullcols = nulls.loc[(nulls != 0)]\n",
    "dtypes = data.dtypes\n",
    "dtypes2 = dtypes.loc[(nulls != 0)]\n",
    "info = pd.concat([nullcols, dtypes2], axis=1).sort_values(by=0, ascending=False)\n",
    "\n",
    "numeric_dtypes = ['float64']\n",
    "numerics = []\n",
    "for i in data.columns:\n",
    "    if data[i].dtype in numeric_dtypes:\n",
    "        numerics.append(i)\n",
    "\n",
    "train = data[data[\"target\"] != -9999]\n",
    "test = data[data[\"target\"] == -9999]\n",
    "test = test.drop([\"target\"], axis=1)\n",
    "\n",
    "train['outliers'] = 0\n",
    "train.loc[train['target'] < -30, 'outliers'] = 1\n",
    "train['outliers'].value_counts()\n",
    "\n",
    "for features in ['feature_1', 'feature_2', 'feature_3']:\n",
    "    order_label = train.groupby([features])['outliers'].mean()\n",
    "    train[features] = train[features].map(order_label)\n",
    "    test[features] = test[features].map(order_label)"
   ]
  },
  {
   "cell_type": "code",
   "execution_count": null,
   "metadata": {},
   "outputs": [],
   "source": [
    "train_df = train\n",
    "test_df = test\n",
    "train_df = train_df[train_df[\"outliers\"] == 0]\n",
    "target = train_df[\"target\"]\n",
    "del train_df[\"target\"]\n",
    "features = [c for c in train_df.columns if c not in [\"card_id\", \"first_active_month\", \"outliers\"]]\n",
    "categorical_feats = [c for c in features if \"feature_\" in c]"
   ]
  },
  {
   "cell_type": "code",
   "execution_count": null,
   "metadata": {},
   "outputs": [],
   "source": [
    "%%time\n",
    "param = {'num_leaves': 31,\n",
    "         'min_data_in_leaf': 32, \n",
    "         'objective':'regression',\n",
    "         'max_depth': -1,\n",
    "         'learning_rate': 0.001,\n",
    "         \"boosting\": \"gbdt\",\n",
    "         \"feature_fraction\": 0.9,\n",
    "         \"bagging_freq\": 8,\n",
    "         \"bagging_fraction\": 0.9,\n",
    "         \"bagging_seed\": 10,\n",
    "         \"metric\": 'rmse',\n",
    "         \"lambda_l1\": 0.1,\n",
    "         \"verbosity\": -1,\n",
    "         \"nthread\": -1}\n",
    "\n",
    "folds = StratifiedKFold(n_splits=5, shuffle=True, random_state=2018)\n",
    "oof = np.zeros(len(train_df))\n",
    "predictions = np.zeros(len(test))\n",
    "feature_importance_df = pd.DataFrame()\n",
    "\n",
    "for fold_, (trn_idx, val_idx) in enumerate(folds.split(train_df,train_df['outliers'].values)):\n",
    "    print(\"fold {}\".format(fold_))\n",
    "    trn_data = lgb.Dataset(train_df.iloc[trn_idx][features], label=target.iloc[trn_idx])\n",
    "    val_data = lgb.Dataset(train_df.iloc[val_idx][features], label=target.iloc[val_idx])\n",
    "\n",
    "    num_round = 10000\n",
    "    clf = lgb.train(param, trn_data, num_round, valid_sets = [trn_data, val_data], verbose_eval= -1,\n",
    "                    early_stopping_rounds = 200)\n",
    "    oof[val_idx] = clf.predict(train_df.iloc[val_idx][features], num_iteration=clf.best_iteration)\n",
    "    \n",
    "    fold_importance_df = pd.DataFrame()\n",
    "    fold_importance_df[\"Feature\"] = features\n",
    "    fold_importance_df[\"importance\"] = clf.feature_importance()\n",
    "    fold_importance_df[\"fold\"] = fold_ + 1\n",
    "    feature_importance_df = pd.concat([feature_importance_df, fold_importance_df], axis=0)\n",
    "    \n",
    "    predictions += clf.predict(test[features], num_iteration=clf.best_iteration) / folds.n_splits\n",
    "\n",
    "print(\"CV score: {:<8.5f}\".format(mean_squared_error(oof, target)**0.5))\n",
    "    "
   ]
  },
  {
   "cell_type": "code",
   "execution_count": null,
   "metadata": {},
   "outputs": [],
   "source": [
    "model_without_outliers = pd.DataFrame({\"card_id\":test[\"card_id\"].values})\n",
    "model_without_outliers[\"target\"] = predictions\n",
    "model_without_outliers.to_csv(\"../submission/\"+str(int(time.strftime(\"%Y%m%d%H%M%S\", time.localtime(time.time())))) +\".csv\", index=False)    "
   ]
  },
  {
   "cell_type": "code",
   "execution_count": null,
   "metadata": {},
   "outputs": [],
   "source": [
    "train_df = train\n",
    "test_df = test\n",
    "target = train_df[\"outliers\"]\n",
    "del train_df[\"outliers\"]\n",
    "del train_df[\"target\"]\n",
    "\n",
    "features = [c for c in train_df.columns if c not in [\"card_id\", \"first_active_month\"]]\n",
    "categorical_feats = [c for c in features if \"feature_\" in c]"
   ]
  },
  {
   "cell_type": "code",
   "execution_count": null,
   "metadata": {},
   "outputs": [],
   "source": [
    "param = {'num_leaves': 31,\n",
    "         'min_data_in_leaf': 30, \n",
    "         'objective':'binary',\n",
    "         'max_depth': -1,\n",
    "         'learning_rate': 0.001,\n",
    "         \"boosting\": \"gbdt\",\n",
    "         \"feature_fraction\": 0.9,\n",
    "         \"bagging_freq\": 1,\n",
    "         \"bagging_fraction\": 0.9 ,\n",
    "         \"bagging_seed\": 10,\n",
    "         \"metric\": 'binary_logloss',\n",
    "         \"lambda_l1\": 0.1,\n",
    "         \"verbosity\": -1,\n",
    "         \"nthread\": -1}\n",
    "\n",
    "folds = KFold(n_splits=5, shuffle=True, random_state=15)\n",
    "oof = np.zeros(len(train_df))\n",
    "predictions2 = np.zeros(len(test_df))\n",
    "feature_importance_df = pd.DataFrame()\n",
    "\n",
    "for fold_, (trn_idx, val_idx) in enumerate(folds.split(train_df.values, target.values)):\n",
    "    print(\"fold n°{}\".format(fold_))\n",
    "    trn_data = lgb.Dataset(train_df.iloc[trn_idx][features], label=target.iloc[trn_idx], categorical_feature=categorical_feats)\n",
    "    val_data = lgb.Dataset(train_df.iloc[val_idx][features], label=target.iloc[val_idx], categorical_feature=categorical_feats)\n",
    "\n",
    "    num_round = 10000\n",
    "    clf = lgb.train(param, trn_data, num_round, valid_sets = [trn_data, val_data], verbose_eval=-1, \n",
    "                    early_stopping_rounds = 200)\n",
    "    oof[val_idx] = clf.predict(train_df.iloc[val_idx][features], num_iteration=clf.best_iteration)\n",
    "    \n",
    "    fold_importance_df = pd.DataFrame()\n",
    "    fold_importance_df[\"feature\"] = features\n",
    "    fold_importance_df[\"importance\"] = clf.feature_importance()\n",
    "    fold_importance_df[\"fold\"] = fold_ + 1\n",
    "    feature_importance_df = pd.concat([feature_importance_df, fold_importance_df], axis=0)\n",
    "    \n",
    "    predictions2 += clf.predict(test_df[features], num_iteration=clf.best_iteration) / folds.n_splits\n",
    "\n",
    "print(\"CV score: {:<8.5f}\".format(log_loss(target, oof)))\n"
   ]
  },
  {
   "cell_type": "code",
   "execution_count": null,
   "metadata": {},
   "outputs": [],
   "source": [
    "df_outlier_prob = pd.DataFrame({\"card_id\": test_df[\"card_id\"].values})\n",
    "df_outlier_prob[\"target\"] = predictions2\n",
    "outlier_id = pd.DataFrame(df_outlier_prob.sort_values(by=\"target\", ascending=False).head(30000)[\"card_id\"])\n",
    "best_submission = pd.read_csv(\"../submission/6911+6912+26165731.csv\")\n",
    "most_likely_liers = best_submission.merge(outlier_id, how=\"right\")"
   ]
  },
  {
   "cell_type": "code",
   "execution_count": null,
   "metadata": {},
   "outputs": [],
   "source": [
    "for card_id in most_likely_liers[\"card_id\"]:\n",
    "    model_without_outliers.loc[model_without_outliers[\"card_id\"] == card_id, \"target\"] = \\\n",
    "    most_likely_liers.loc[most_likely_liers[\"card_id\"] == card_id, \"target\"].values\n",
    "model_without_outliers.to_csv(\"../submission/\"+str(int(time.strftime(\"%Y%m%d%H%M%S\", time.localtime(time.time()))))+\".csv\", index=False)             "
   ]
  },
  {
   "cell_type": "code",
   "execution_count": null,
   "metadata": {},
   "outputs": [],
   "source": []
  },
  {
   "cell_type": "code",
   "execution_count": null,
   "metadata": {},
   "outputs": [],
   "source": []
  },
  {
   "cell_type": "code",
   "execution_count": null,
   "metadata": {},
   "outputs": [],
   "source": []
  },
  {
   "cell_type": "code",
   "execution_count": null,
   "metadata": {},
   "outputs": [],
   "source": []
  }
 ],
 "metadata": {
  "kernelspec": {
   "display_name": "Python 3",
   "language": "python",
   "name": "python3"
  },
  "language_info": {
   "codemirror_mode": {
    "name": "ipython",
    "version": 3
   },
   "file_extension": ".py",
   "mimetype": "text/x-python",
   "name": "python",
   "nbconvert_exporter": "python",
   "pygments_lexer": "ipython3",
   "version": "3.6.5"
  }
 },
 "nbformat": 4,
 "nbformat_minor": 2
}
