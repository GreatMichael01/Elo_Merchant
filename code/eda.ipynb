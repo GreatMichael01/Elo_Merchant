{
 "cells": [
  {
   "cell_type": "code",
   "execution_count": null,
   "metadata": {},
   "outputs": [],
   "source": [
    "import numpy as np \n",
    "import pandas as pd \n",
    "import os\n",
    "import seaborn as sns \n",
    "import matplotlib.pyplot as plt\n",
    "%matplotlib inline\n",
    "plt.style.use('ggplot')\n",
    "import plotly.offline as py\n",
    "py.init_notebook_mode(connected=True)\n",
    "import plotly.graph_objs as go\n",
    "import plotly.tools as tls\n",
    "\n",
    "import warnings\n",
    "warnings.filterwarnings(\"ignore\")"
   ]
  },
  {
   "cell_type": "code",
   "execution_count": null,
   "metadata": {},
   "outputs": [],
   "source": [
    "hist_trans = pd.read_csv(\"../data/historical_transactions.csv\")"
   ]
  },
  {
   "cell_type": "code",
   "execution_count": null,
   "metadata": {},
   "outputs": [],
   "source": [
    "hist_trans.columns.values"
   ]
  },
  {
   "cell_type": "code",
   "execution_count": null,
   "metadata": {},
   "outputs": [],
   "source": []
  },
  {
   "cell_type": "code",
   "execution_count": null,
   "metadata": {},
   "outputs": [],
   "source": [
    "merchants = pd.read_csv(\"../data/merchants.csv\")\n",
    "dictionary = pd.read_excel(\"../data/Data_Dictionary.xlsx\", sheet_name=\"merchant\")"
   ]
  },
  {
   "cell_type": "code",
   "execution_count": null,
   "metadata": {},
   "outputs": [],
   "source": [
    "dictionary"
   ]
  },
  {
   "cell_type": "code",
   "execution_count": null,
   "metadata": {},
   "outputs": [],
   "source": [
    "merchants.head(2)"
   ]
  },
  {
   "cell_type": "code",
   "execution_count": null,
   "metadata": {},
   "outputs": [],
   "source": [
    "merchants[\"category_1\"] = merchants[\"category_1\"].map({\"Y\": 0, \"N\": 1})\n",
    "merchants.loc[merchants[\"category_2\"].isnull(), \"category_2\"] = 0\n",
    "merchants[\"category_4\"] = merchants[\"category_4\"].map({\"Y\": 0, \"N\": 1})"
   ]
  },
  {
   "cell_type": "code",
   "execution_count": null,
   "metadata": {},
   "outputs": [],
   "source": [
    "merchants[\"merchant_category_id\"].nunique(), merchants[\"merchant_group_id\"].nunique()"
   ]
  },
  {
   "cell_type": "markdown",
   "metadata": {},
   "source": [
    "#### numerical_1"
   ]
  },
  {
   "cell_type": "code",
   "execution_count": null,
   "metadata": {},
   "outputs": [],
   "source": [
    "plt.hist(merchants[\"numerical_1\"]);\n",
    "plt.title(\"Distribution of numerical_1\");"
   ]
  },
  {
   "cell_type": "code",
   "execution_count": null,
   "metadata": {},
   "outputs": [],
   "source": [
    "np.percentile(merchants[\"numerical_1\"], 95)"
   ]
  },
  {
   "cell_type": "code",
   "execution_count": null,
   "metadata": {},
   "outputs": [],
   "source": [
    "plt.hist(merchants.loc[merchants[\"numerical_1\"] < 0.1, \"numerical_1\"]);\n",
    "plt.title(\"Distribution of numerical_1 less than 0.1\");"
   ]
  },
  {
   "cell_type": "code",
   "execution_count": null,
   "metadata": {},
   "outputs": [],
   "source": [
    "min_n1 = merchants[\"numerical_1\"].min()\n",
    "_ = sum(merchants[\"numerical_1\"] == min_n1) / merchants[\"numerical_1\"].shape[0]\n",
    "print(f\"{_ * 100: .4f} % of values in numerical_1 are equal to {min_n1}\")"
   ]
  },
  {
   "cell_type": "markdown",
   "metadata": {},
   "source": [
    "#### numerical_2"
   ]
  },
  {
   "cell_type": "code",
   "execution_count": null,
   "metadata": {},
   "outputs": [],
   "source": [
    "plt.hist(merchants[\"numerical_2\"]);\n",
    "plt.title(\"Distribution of numerical_2\");"
   ]
  },
  {
   "cell_type": "code",
   "execution_count": null,
   "metadata": {},
   "outputs": [],
   "source": [
    "plt.hist(merchants.loc[merchants[\"numerical_2\"] < 0.1, \"numerical_2\"]);\n",
    "plt.title(\"Distribution of numerical_2 less than 0.1\");\n",
    "min_n2 = merchants[\"numerical_2\"].min()\n",
    "min_n2_= sum(merchants[\"numerical_2\"] == min_n2) / merchants[\"numerical_2\"].shape[0]\n",
    "print(f\"{min_n2_ *100: .4f} % of values in numerical_2 are equal to {min_n2}\")\n",
    "    "
   ]
  },
  {
   "cell_type": "code",
   "execution_count": null,
   "metadata": {},
   "outputs": [],
   "source": [
    "(merchants[\"numerical_1\"] != merchants[\"numerical_2\"]).sum() / merchants.shape[0]"
   ]
  },
  {
   "cell_type": "code",
   "execution_count": null,
   "metadata": {},
   "outputs": [],
   "source": [
    "merchants[\"most_recent_sales_range\"].value_counts().plot(\"bar\");"
   ]
  },
  {
   "cell_type": "code",
   "execution_count": null,
   "metadata": {},
   "outputs": [],
   "source": [
    "mrsr_sort = merchants[\"most_recent_sales_range\"].value_counts().sort_index()\n",
    "gby = merchants.loc[merchants[\"numerical_2\"] < 0.1].groupby(\"most_recent_sales_range\")[\"numerical_1\"].mean()       \n",
    "data = [go.Bar(x=mrsr_sort.index, y=mrsr_sort.values, name=\"counts\"), go.Scatter(x=gby.index, y=gby.values, name=\"mean numerical_1\", yaxis=\"y2\")]     \n",
    "layout = go.Layout(dict(title=\"Counts of values in categories of most_recent_sales_range\",\n",
    "                        xaxis=dict(title=\"most_recent_sales_range\"),\n",
    "                        yaxis=dict(title=\"Counts\"),\n",
    "                        yaxis2=dict(title=\"mean numerical_1\", overlaying=\"y\", side=\"right\")),\n",
    "                  legend=dict(orientation=\"v\"))\n",
    "py.iplot(dict(data=data, layout=layout))\n",
    "\n"
   ]
  },
  {
   "cell_type": "code",
   "execution_count": null,
   "metadata": {},
   "outputs": [],
   "source": [
    "merchants[\"most_recent_purchases_range\"].value_counts().plot(\"bar\");"
   ]
  },
  {
   "cell_type": "code",
   "execution_count": null,
   "metadata": {},
   "outputs": [],
   "source": [
    "d = merchants['most_recent_purchases_range'].value_counts().sort_index()\n",
    "e = merchants.loc[merchants['numerical_2'] < 0.1].groupby('most_recent_purchases_range')['numerical_1'].mean()\n",
    "data = [go.Bar(x=d.index, y=d.values, name='counts'), go.Scatter(x=e.index, y=e.values, name='mean numerical_1', yaxis='y2')]\n",
    "layout = go.Layout(dict(title = \"Counts of values in categories of most_recent_purchases_range\",\n",
    "                        xaxis = dict(title = 'most_recent_purchases_range'),\n",
    "                        yaxis = dict(title = 'Counts'),\n",
    "                        yaxis2=dict(title='mean numerical_1', overlaying='y', side='right')),\n",
    "                   legend=dict(orientation=\"v\"))\n",
    "py.iplot(dict(data=data, layout=layout))"
   ]
  },
  {
   "cell_type": "markdown",
   "metadata": {},
   "source": [
    "#### avg_sales_lag"
   ]
  },
  {
   "cell_type": "code",
   "execution_count": null,
   "metadata": {},
   "outputs": [],
   "source": [
    "plt.hist(merchants[\"avg_sales_lag3\"].fillna(0));\n",
    "plt.hist(merchants[\"avg_sales_lag6\"].fillna(0));\n",
    "plt.hist(merchants[\"avg_sales_lag12\"].fillna(0));"
   ]
  },
  {
   "cell_type": "code",
   "execution_count": null,
   "metadata": {},
   "outputs": [],
   "source": [
    "for col in [\"avg_sales_lag3\", \"avg_sales_lag6\", \"avg_sales_lag12\"]:\n",
    "    print(f\"Max value of {col} is {merchants[col].max()}\")\n",
    "    print(f\"Min value of {col} is {merchants[col].min()}\")"
   ]
  },
  {
   "cell_type": "code",
   "execution_count": null,
   "metadata": {},
   "outputs": [],
   "source": [
    "plt.hist(merchants.loc[(merchants[\"avg_sales_lag12\"] < 3) & (merchants[\"avg_sales_lag12\"] > -10), \n",
    "                       \"avg_sales_lag12\"].fillna(0), label=\"avg_sales_lag12\");\n",
    "plt.hist(merchants.loc[(merchants[\"avg_sales_lag6\"] < 3) & (merchants[\"avg_sales_lag6\"] > -10),\n",
    "                       \"avg_sales_lag6\"].fillna(0), label=\"avg_sales_lag6\");\n",
    "plt.hist(merchants.loc[(merchants[\"avg_sales_lag3\"] < 3) & (merchants[\"avg_sales_lag3\"] > -10),\n",
    "                       \"avg_sales_lag3\"].fillna(0), label=\"avg_sales_lag3\");\n",
    "plt.legend();"
   ]
  },
  {
   "cell_type": "markdown",
   "metadata": {},
   "source": [
    "#### avg_putchases_lag"
   ]
  },
  {
   "cell_type": "code",
   "execution_count": null,
   "metadata": {},
   "outputs": [],
   "source": [
    "merchants[\"avg_purchases_lag3\"].nlargest()"
   ]
  },
  {
   "cell_type": "code",
   "execution_count": null,
   "metadata": {},
   "outputs": [],
   "source": [
    "merchants.loc[merchants[\"avg_purchases_lag3\"] == np.inf, \"avg_purchases_lag3\"] = 6000\n",
    "merchants.loc[merchants[\"avg_purchases_lag6\"] == np.inf, \"avg_purchases_lag6\"] = 6000\n",
    "merchants.loc[merchants[\"avg_purchases_lag12\"] == np.inf, \"avg_purchases_lag12\"] = 6000"
   ]
  },
  {
   "cell_type": "code",
   "execution_count": null,
   "metadata": {},
   "outputs": [],
   "source": [
    "plt.hist(merchants[\"avg_purchases_lag3\"].fillna(0));\n",
    "plt.hist(merchants[\"avg_purchases_lag6\"].fillna(0));\n",
    "plt.hist(merchants[\"avg_purchases_lag12\"].fillna(0));"
   ]
  },
  {
   "cell_type": "code",
   "execution_count": null,
   "metadata": {},
   "outputs": [],
   "source": [
    "plt.hist(merchants.loc[(merchants[\"avg_purchases_lag12\"] < 4), \"avg_purchases_lag12\"].fillna(0),\n",
    "         label=\"avg_purchases_lag12\");\n",
    "plt.hist(merchants.loc[(merchants[\"avg_purchases_lag6\"] < 4), \"avg_purchases_lag6\"].fillna(0),\n",
    "         label=\"avg_purchases_lag6\");\n",
    "plt.hist(merchants.loc[(merchants[\"avg_purchases_lag3\"] < 4), \"avg_purchases_lag3\"].fillna(0),\n",
    "         label=\"avg_purchases_lag3\");"
   ]
  },
  {
   "cell_type": "code",
   "execution_count": null,
   "metadata": {},
   "outputs": [],
   "source": []
  },
  {
   "cell_type": "markdown",
   "metadata": {},
   "source": [
    "### 对train和trans分析"
   ]
  },
  {
   "cell_type": "code",
   "execution_count": null,
   "metadata": {},
   "outputs": [],
   "source": [
    "import pandas as pd"
   ]
  },
  {
   "cell_type": "code",
   "execution_count": null,
   "metadata": {},
   "outputs": [],
   "source": [
    "train = pd.read_csv(\"../data/train.csv\")"
   ]
  },
  {
   "cell_type": "code",
   "execution_count": null,
   "metadata": {},
   "outputs": [],
   "source": [
    "new_trans = pd.read_csv(\"../data/new_merchant_transactions.csv\")"
   ]
  },
  {
   "cell_type": "code",
   "execution_count": null,
   "metadata": {},
   "outputs": [],
   "source": [
    "train.head(2)"
   ]
  },
  {
   "cell_type": "code",
   "execution_count": null,
   "metadata": {},
   "outputs": [],
   "source": [
    "new_trans.head(2)"
   ]
  },
  {
   "cell_type": "code",
   "execution_count": null,
   "metadata": {},
   "outputs": [],
   "source": [
    "new_trans_train = pd.merge(train, new_trans, on=\"card_id\", how=\"left\")"
   ]
  },
  {
   "cell_type": "code",
   "execution_count": null,
   "metadata": {},
   "outputs": [],
   "source": [
    "new_trans_train.shape"
   ]
  },
  {
   "cell_type": "code",
   "execution_count": null,
   "metadata": {},
   "outputs": [],
   "source": [
    "n = new_trans_train\n",
    "gby = n[(n['first_active_month']>n['purchase_date'])].groupby([\"card_id\"],as_index=False)"
   ]
  },
  {
   "cell_type": "code",
   "execution_count": null,
   "metadata": {},
   "outputs": [],
   "source": [
    "train_first_month = pd.DataFrame()\n",
    "train_first_month[\"card_id\"] = train[\"card_id\"]\n",
    "train_first_month[\"first_active_month\"] = train[\"first_active_month\"]"
   ]
  },
  {
   "cell_type": "code",
   "execution_count": null,
   "metadata": {},
   "outputs": [],
   "source": [
    "new_trans_train = pd.merge(train_first_month, new_trans, on=\"card_id\", how=\"left\")"
   ]
  },
  {
   "cell_type": "code",
   "execution_count": null,
   "metadata": {},
   "outputs": [],
   "source": [
    "n = new_trans_train\n",
    "gby = n[(n['first_active_month']>n['purchase_date'])].groupby([\"card_id\"],as_index=False)"
   ]
  },
  {
   "cell_type": "code",
   "execution_count": null,
   "metadata": {},
   "outputs": [],
   "source": [
    "import datetime\n",
    "\n",
    "n[\"year\"] = n[\"first_active_month\"].dt.year\n",
    "n[\"month\"] = n[\"first_active_month\"].dt.month\n",
    "n[\"day\"] = n[\"first_active_month\"].dt.day\n",
    "n[\"dayofyear\"] = n[\"first_active_month\"].dt.dayofyear\n",
    "n['week'] = n[\"first_active_month\"].dt.weekofyear\n",
    "n['dayofweek'] = n['first_active_month'].dt.dayofweek\n",
    "n['days'] = (datetime.n(2018, 2, 1) - n['first_active_month'].dt.date).dt.days\n",
    "\n",
    "n[\"authorized_flag\"] = n[\"authorized_flag\"].map({\"Y\": 1, \"N\": 0})\n",
    "n[\"category_1\"] = n[\"category_1\"].map({\"Y\": 1, \"N\":0})\n",
    "n[\"purchase_date\"] = pd.to_datetime(n[\"purchase_date\"])\n",
    "n[\"year\"] = n[\"purchase_date\"].dt.year\n",
    "n[\"month\"] = n[\"purchase_date\"].dt.month\n",
    "n[\"day\"] = n[\"purchase_date\"].dt.day\n",
    "n[\"weekofyear\"] = n[\"purchase_date\"].dt.weekofyear\n",
    "n[\"dayofweek\"] = n[\"purchase_date\"].dt.dayofweek\n",
    "n[\"weekend\"] = (n[\"purchase_date\"].dt.weekday >= 5).astype(int)\n",
    "n[\"hour\"] = n[\"purchase_date\"].dt.hour\n",
    "n[\"minute\"] = n[\"purchase_date\"].dt.minute\n",
    "n[\"month_diff\"] = ((datetime.datetime.today() - n[\"purchase_date\"]).dt.days) // 30\n",
    "n[\"month_diff\"] += n[\"month_lag\"]\n",
    "n[\"category_2\"] = n[\"category_2\"].fillna(2.0)\n",
    "n[\"category_3\"] = n[\"category_3\"].fillna(\"A\")\n",
    "n[\"merchant_id\"] = n[\"merchant_id\"].fillna(\"M_ID_00a6ca8a8a\")"
   ]
  },
  {
   "cell_type": "code",
   "execution_count": null,
   "metadata": {},
   "outputs": [],
   "source": [
    "agg_func = {\"purchase_date\":[\"max\", \"min\"],\n",
    "                \"month_diff\": [\"mean\"],\n",
    "                \"weekend\": [\"sum\", \"mean\"],\n",
    "                \"authorized_flag\": [\"sum\", \"mean\"],\n",
    "                \"category_1\": [\"sum\", \"mean\"],\n",
    "                \"installments\": [\"sum\", \"max\", \"min\", \"mean\", \"std\", \"median\", \"var\"],\n",
    "                \"purchase_amount\": [\"sum\", \"max\", \"min\", \"mean\", \"std\", \"median\", \"var\"],\n",
    "                \"month_lag\": [\"max\", \"min\", \"mean\", \"var\"],\n",
    "                \"month_diff\": [\"mean\"],\n",
    "                \"card_id\": [\"size\"],\n",
    "                \"month\": [\"nunique\", \"count\"],\n",
    "                \"hour\": [\"nunique\", \"count\"],\n",
    "                \"weekofyear\": [\"nunique\", \"count\"],\n",
    "                \"dayofweek\": [\"nunique\", \"count\"],\n",
    "                \"year\": [\"nunique\", \"count\"],\n",
    "                \"subsector_id\": [\"nunique\", \"count\"],\n",
    "                \"merchant_category_id\": [\"nunique\", \"count\"],\n",
    "                \"Valentine’s_day_2017\": [\"mean\"],\n",
    "                \"Christmas_day_2017\": [\"mean\"],\n",
    "                \"fathers_day_2017\": [\"mean\"],\n",
    "                \"Children_day_2017\": [\"mean\"],\n",
    "                \"Global_shopping_2017\": [\"mean\"],\n",
    "                \"Black_Friday_2017\": [\"mean\"],\n",
    "                \"Valentine_day_2017\": [\"mean\"],\n",
    "                \"New_year_2018\": [\"mean\"],\n",
    "                \"Mothers_day_2018\": [\"mean\"]}"
   ]
  },
  {
   "cell_type": "code",
   "execution_count": null,
   "metadata": {},
   "outputs": [],
   "source": [
    "agg_trans = gby.agg(agg_func)"
   ]
  },
  {
   "cell_type": "code",
   "execution_count": null,
   "metadata": {},
   "outputs": [],
   "source": []
  },
  {
   "cell_type": "code",
   "execution_count": null,
   "metadata": {},
   "outputs": [],
   "source": []
  },
  {
   "cell_type": "code",
   "execution_count": null,
   "metadata": {},
   "outputs": [],
   "source": []
  },
  {
   "cell_type": "code",
   "execution_count": null,
   "metadata": {},
   "outputs": [],
   "source": []
  }
 ],
 "metadata": {
  "kernelspec": {
   "display_name": "Python 3",
   "language": "python",
   "name": "python3"
  },
  "language_info": {
   "codemirror_mode": {
    "name": "ipython",
    "version": 3
   },
   "file_extension": ".py",
   "mimetype": "text/x-python",
   "name": "python",
   "nbconvert_exporter": "python",
   "pygments_lexer": "ipython3",
   "version": "3.6.5"
  }
 },
 "nbformat": 4,
 "nbformat_minor": 2
}
