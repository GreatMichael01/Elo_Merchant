{
 "cells": [
  {
   "cell_type": "markdown",
   "metadata": {
    "_uuid": "2aed826133589a1f4e99293487895c8411dd36fb"
   },
   "source": [
    "## EDA"
   ]
  },
  {
   "cell_type": "code",
   "execution_count": null,
   "metadata": {
    "_uuid": "81920ad2e0b7386335ab2ba9e1f218ae019bb318"
   },
   "outputs": [],
   "source": [
    "import os\n",
    "import json\n",
    "import numpy as np\n",
    "import pandas as pd\n",
    "from pandas.io.json import json_normalize\n",
    "import matplotlib.pyplot as plt\n",
    "import seaborn as sns\n",
    "color = sns.color_palette()\n",
    "%matplotlib inline\n",
    "from plotly import tools\n",
    "import plotly.offline as py\n",
    "py.init_notebook_mode(connected=True)\n",
    "import plotly.graph_objs as go\n",
    "\n",
    "from sklearn import model_selection, preprocessing, metrics\n",
    "import lightgbm as lgb\n",
    "\n",
    "pd.options.mode.chained_assignment = None\n",
    "pd.options.display.max_columns = 999"
   ]
  },
  {
   "cell_type": "code",
   "execution_count": null,
   "metadata": {
    "_uuid": "5eeede37279cf031dad28d52b47136c994052193"
   },
   "outputs": [],
   "source": [
    "train_df = pd.read_csv(\"../input/train.csv\", parse_dates=[\"first_active_month\"])\n",
    "test_df = pd.read_csv(\"../input/test.csv\", parse_dates=[\"first_active_month\"])\n",
    "print(\"Number of rows and columns in train set : \",train_df.shape)\n",
    "print(\"Number of rows and columns in test set : \",test_df.shape)"
   ]
  },
  {
   "cell_type": "code",
   "execution_count": null,
   "metadata": {
    "_uuid": "106f6af9f2ce1a25e869248bdf09b1b6b09b20e7"
   },
   "outputs": [],
   "source": [
    "train_df.head(2)"
   ]
  },
  {
   "cell_type": "code",
   "execution_count": null,
   "metadata": {
    "_uuid": "be34ac28692f8ce8af691aa482b07a87963bd83f"
   },
   "outputs": [],
   "source": [
    "target_col = \"target\"\n",
    "\n",
    "plt.figure(figsize=(8, 6))\n",
    "plt.scatter(range(train_df.shape[0]), np.sort(train_df[target_col].values))\n",
    "plt.xlabel(\"index\", fontsize=12)\n",
    "plt.ylabel(\"Loyalty Score\", fontsize=12)\n",
    "plt.show()"
   ]
  },
  {
   "cell_type": "code",
   "execution_count": null,
   "metadata": {
    "_uuid": "2b4c996767b1d4f54413fac04a33f56edb5634bb"
   },
   "outputs": [],
   "source": [
    "plt.figure(figsize=(12, 8))\n",
    "sns.distplot(train_df[target_col].values, bins=50, kde=False, color=\"red\")\n",
    "plt.title(\"Histogram of Loyalty score\")\n",
    "plt.xlabel(\"Loyalty score\", fontsize=12)\n",
    "plt.show()"
   ]
  },
  {
   "cell_type": "code",
   "execution_count": null,
   "metadata": {
    "_uuid": "a555eea38928a975df1de90f8597548b00bda5cc"
   },
   "outputs": [],
   "source": [
    "(train_df[target_col]<-30).sum()"
   ]
  },
  {
   "cell_type": "code",
   "execution_count": null,
   "metadata": {
    "_uuid": "4fc6bfdfb2f8abfff42688bf881c7ed3882d70f4"
   },
   "outputs": [],
   "source": [
    "cnt_srs = train_df[\"first_active_month\"].dt.date.value_counts()\n",
    "cnt_srs = cnt_srs.sort_index()\n",
    "plt.figure(figsize=(14, 6))\n",
    "sns.barplot(cnt_srs.index, cnt_srs.values, alpha=0.8, color=\"green\")\n",
    "plt.xticks(rotation=\"vertical\")\n",
    "plt.xlabel(\"First active month\", fontsize=12)\n",
    "plt.ylabel(\"Number of cards\", fontsize=12)\n",
    "plt.title(\"First active month count in train set\")\n",
    "plt.show()\n",
    "\n",
    "cnt_srs = test_df[\"first_active_month\"].dt.date.value_counts()\n",
    "cnt_srs = cnt_srs.sort_index()\n",
    "plt.figure(figsize=(14, 6))\n",
    "sns.barplot(cnt_srs.index, cnt_srs.values, alpha=0.8, color=\"green\")\n",
    "plt.xticks(rotation=\"vertical\")\n",
    "plt.xlabel(\"First active month\", fontsize=12)\n",
    "plt.ylabel(\"Number of cards\", fontsize=12)\n",
    "plt.title(\"First active month count in test set\")\n",
    "plt.show()"
   ]
  },
  {
   "cell_type": "code",
   "execution_count": null,
   "metadata": {
    "_uuid": "375f6aa98746c3a755dcd83e4ccbcb2dd59cd39a"
   },
   "outputs": [],
   "source": [
    "# feature 1\n",
    "plt.figure(figsize=(8, 4))\n",
    "sns.violinplot(x=\"feature_1\", y=target_col, data=train_df)\n",
    "plt.xticks(rotation=\"vertical\")\n",
    "plt.xlabel(\"Feature 1\", fontsize=12)\n",
    "plt.ylabel(\"Loyalty score\", fontsize=12)\n",
    "plt.title(\"Feature 1 distribution\")\n",
    "plt.show()\n",
    "\n",
    "# feature 2\n",
    "plt.figure(figsize=(8, 4))\n",
    "sns.violinplot(x=\"feature_2\", y=target_col, data=train_df)\n",
    "plt.xticks(rotation=\"vertical\")\n",
    "plt.xlabel(\"Feature 2\", fontsize=12)\n",
    "plt.ylabel(\"Loyalty score\", fontsize=12)\n",
    "plt.title(\"Feature 1 distribution\")\n",
    "plt.show()\n",
    "\n",
    "# feature 3\n",
    "plt.figure(figsize=(8,4))\n",
    "sns.violinplot(x=\"feature_3\", y=target_col, data=train_df)\n",
    "plt.xticks(rotation='vertical')\n",
    "plt.xlabel('Feature 3', fontsize=12)\n",
    "plt.ylabel('Loyalty score', fontsize=12)\n",
    "plt.title(\"Feature 3 distribution\")\n",
    "plt.show()"
   ]
  },
  {
   "cell_type": "code",
   "execution_count": null,
   "metadata": {
    "_uuid": "e90007e67e4d28099b4ca5b4cc15e7e5c4fe6fb3"
   },
   "outputs": [],
   "source": [
    "hist_df = pd.read_csv(\"../input/historical_transactions.csv\")\n",
    "hist_df.head()"
   ]
  },
  {
   "cell_type": "code",
   "execution_count": null,
   "metadata": {
    "_uuid": "17551f52c53b7faf8b6a3a33e15be30ed7167a3b"
   },
   "outputs": [],
   "source": [
    "gby = hist_df.groupby(\"card_id\")[\"purchase_amount\"].size().reset_index()\n",
    "gby.columns = [\"card_id\", \"num_hist_transactions\"]\n",
    "train_df = pd.merge(train_df, gby, on=\"card_id\", how=\"left\")\n",
    "test_df = pd.merge(test_df, gby, on=\"card_id\", how=\"left\")"
   ]
  },
  {
   "cell_type": "code",
   "execution_count": null,
   "metadata": {
    "_uuid": "2cb0064693191c71c07d28b8cef02b0e6976c427"
   },
   "outputs": [],
   "source": [
    "cnt_srs = train_df.groupby(\"num_hist_transactions\")[target_col].mean()\n",
    "cnt_srs = cnt_srs.sort_index()\n",
    "cnt_srs = cnt_srs[:-50]\n",
    "\n",
    "def scatter_plot(cnt_srs, color):\n",
    "    trace = go.Scatter(x=cnt_srs.index[::-1],\n",
    "                       y=cnt_srs.values[::-1],\n",
    "                       showlegend=False,\n",
    "                       marker=dict(color=color))\n",
    "    return trace\n",
    "\n",
    "trace = scatter_plot(cnt_srs, \"orange\")\n",
    "layout = dict(title=\"Loyalty score by Number of historical transactions\")\n",
    "data=[trace]\n",
    "fig = go.Figure(data=data, layout=layout)\n",
    "py.iplot(fig, filename=\"Histtranscnt\")"
   ]
  },
  {
   "cell_type": "code",
   "execution_count": null,
   "metadata": {
    "_uuid": "08718ff25c9aae4bbff55a1d64fc1cf391b37407"
   },
   "outputs": [],
   "source": [
    "bins = [0, 10, 20, 30, 40, 50, 75, 100, 150, 200, 500, 10000]\n",
    "train_df[\"binned_num_hist_transactions\"] = pd.cut(train_df[\"num_hist_transactions\"], bins)\n",
    "cnt_srs = train_df.groupby(\"binned_num_hist_transactions\")[target_col].mean()\n",
    "plt.figure(figsize=(12, 8))\n",
    "sns.boxplot(x=\"binned_num_hist_transactions\", y=target_col, data=train_df, showfliers=False)\n",
    "plt.xticks(rotation=\"vertical\")\n",
    "plt.xlabel(\"binned_num_hist_transactions\", fontsize=12)\n",
    "plt.ylabel(\"Loyalty score\", fontsize=12)\n",
    "plt.title(\"binned_num_hist_transactions distribution\")\n",
    "plt.show"
   ]
  },
  {
   "cell_type": "code",
   "execution_count": null,
   "metadata": {
    "_uuid": "a938c2d157f707b09b7069e1ff9cb2f300e45dc8"
   },
   "outputs": [],
   "source": [
    "gdf = hist_df.groupby(\"card_id\")\n",
    "gdf = gdf[\"purchase_amount\"].agg(['sum', 'mean', 'std', 'min', 'max']).reset_index()\n",
    "gdf.columns = [\"card_id\", \"sum_hist_trans\", \"mean_hist_trans\", \"std_hist_trans\", \"min_hist_trans\", \"max_hist_trans\"]\n",
    "train_df = pd.merge(train_df, gdf, on=\"card_id\", how=\"left\")\n",
    "test_df = pd.merge(test_df, gdf, on=\"card_id\", how=\"left\")"
   ]
  },
  {
   "cell_type": "code",
   "execution_count": null,
   "metadata": {
    "_uuid": "fbc2f9b22774886f23bd08f6d36afec659986aff"
   },
   "outputs": [],
   "source": [
    "bins = np.percentile(train_df[\"sum_hist_trans\"], range(0,101,10))\n",
    "train_df['binned_sum_hist_trans'] = pd.cut(train_df['sum_hist_trans'], bins)\n",
    "#cnt_srs = train_df.groupby(\"binned_sum_hist_trans\")[target_col].mean()\n",
    "\n",
    "plt.figure(figsize=(12,8))\n",
    "sns.boxplot(x=\"binned_sum_hist_trans\", y=target_col, data=train_df, showfliers=False)\n",
    "plt.xticks(rotation='vertical')\n",
    "plt.xlabel('binned_sum_hist_trans', fontsize=12)\n",
    "plt.ylabel('Loyalty score', fontsize=12)\n",
    "plt.title(\"Sum of historical transaction value (Binned) distribution\")\n",
    "plt.show()"
   ]
  },
  {
   "cell_type": "code",
   "execution_count": null,
   "metadata": {
    "_uuid": "0b347ce1996f09d181e1603fde6c8668055d9840"
   },
   "outputs": [],
   "source": [
    "bins = np.percentile(train_df[\"mean_hist_trans\"], range(0,101,10))\n",
    "train_df['binned_mean_hist_trans'] = pd.cut(train_df['mean_hist_trans'], bins)\n",
    "#cnt_srs = train_df.groupby(\"binned_mean_hist_trans\")[target_col].mean()\n",
    "\n",
    "plt.figure(figsize=(12,8))\n",
    "sns.boxplot(x=\"binned_mean_hist_trans\", y=target_col, data=train_df, showfliers=False)\n",
    "plt.xticks(rotation='vertical')\n",
    "plt.xlabel('Binned Mean Historical Transactions', fontsize=12)\n",
    "plt.ylabel('Loyalty score', fontsize=12)\n",
    "plt.title(\"Mean of historical transaction value (Binned) distribution\")\n",
    "plt.show()"
   ]
  },
  {
   "cell_type": "code",
   "execution_count": null,
   "metadata": {
    "_uuid": "48afafa3dd0ef7002984a3dc9537ccd8d57f3919"
   },
   "outputs": [],
   "source": [
    "new_trans_df = pd.read_csv(\"../input/new_merchant_transactions.csv\")\n",
    "new_trans_df.head()"
   ]
  },
  {
   "cell_type": "code",
   "execution_count": null,
   "metadata": {
    "_uuid": "24e839287a657b342e3dbf6008a88ce2b6bcbd88"
   },
   "outputs": [],
   "source": [
    "gby = new_trans_df.groupby(\"card_id\")[\"purchase_amount\"].size().reset_index()\n",
    "gby.columns = [\"card_id\", \"num_merch_transactions\"]\n",
    "train_df = pd.merge(train_df, gby, on=\"card_id\", how=\"left\")\n",
    "test_df = pd.merge(test_df, gby, on=\"card_id\", how=\"left\")"
   ]
  },
  {
   "cell_type": "code",
   "execution_count": null,
   "metadata": {
    "_uuid": "d0b082e8ab494dad1da0e80b77d14d75e367e0ab"
   },
   "outputs": [],
   "source": [
    "bins = [0, 10, 20, 30, 40, 50, 75, 10000]\n",
    "train_df['binned_num_merch_transactions'] = pd.cut(train_df['num_merch_transactions'], bins)\n",
    "cnt_srs = train_df.groupby(\"binned_num_merch_transactions\")[target_col].mean()\n",
    "\n",
    "plt.figure(figsize=(12,8))\n",
    "sns.boxplot(x=\"binned_num_merch_transactions\", y=target_col, data=train_df, showfliers=False)\n",
    "plt.xticks(rotation='vertical')\n",
    "plt.xlabel('binned_num_merch_transactions', fontsize=12)\n",
    "plt.ylabel('Loyalty score', fontsize=12)\n",
    "plt.title(\"Number of new merchants transaction (Binned) distribution\")\n",
    "plt.show()"
   ]
  },
  {
   "cell_type": "code",
   "execution_count": null,
   "metadata": {
    "_uuid": "61604596434e8753f8264dbe950ee50928b9ccc7"
   },
   "outputs": [],
   "source": [
    "gby = new_trans_df.groupby(\"card_id\")\n",
    "gby = gby[\"purchase_amount\"].agg(['sum', 'mean', 'std', 'min', 'max']).reset_index()\n",
    "gby.columns = [\"card_id\", \"sum_merch_trans\", \"mean_merch_trans\", \"std_merch_trans\", \"min_merch_trans\", \"max_merch_trans\"]\n",
    "train_df = pd.merge(train_df, gby, on=\"card_id\", how=\"left\")\n",
    "test_df = pd.merge(test_df, gby, on=\"card_id\", how=\"left\")"
   ]
  },
  {
   "cell_type": "code",
   "execution_count": null,
   "metadata": {
    "_uuid": "dd35f855943c84ca6f4a04e48d5b2d8f83909670"
   },
   "outputs": [],
   "source": [
    "bins = np.nanpercentile(train_df[\"mean_merch_trans\"], range(0,101,10))\n",
    "train_df['binned_mean_merch_trans'] = pd.cut(train_df['mean_merch_trans'], bins)\n",
    "#cnt_srs = train_df.groupby(\"binned_sum_hist_trans\")[target_col].mean()\n",
    "\n",
    "plt.figure(figsize=(12,8))\n",
    "sns.boxplot(x=\"binned_mean_merch_trans\", y=target_col, data=train_df, showfliers=False)\n",
    "plt.xticks(rotation='vertical')\n",
    "plt.xlabel('binned mean of new merchant transactions', fontsize=12)\n",
    "plt.ylabel('Loyalty score', fontsize=12)\n",
    "plt.title(\"Mean of New merchants transaction value (Binned) distribution\")\n",
    "plt.show()"
   ]
  },
  {
   "cell_type": "code",
   "execution_count": null,
   "metadata": {
    "_uuid": "80ff90ffefde75fd390269ade4bc6fb8bf557132"
   },
   "outputs": [],
   "source": []
  },
  {
   "cell_type": "code",
   "execution_count": null,
   "metadata": {
    "_uuid": "b1cc1e1ddecf4f3b7e93024783cf8705a9be9ee8"
   },
   "outputs": [],
   "source": []
  },
  {
   "cell_type": "code",
   "execution_count": null,
   "metadata": {
    "_uuid": "f72543d858b5732790bb3c1a43ddea4680f20db3"
   },
   "outputs": [],
   "source": []
  },
  {
   "cell_type": "code",
   "execution_count": null,
   "metadata": {
    "_uuid": "6e78d19d3d642cf5fd6b08da47cd751481a0a7e8"
   },
   "outputs": [],
   "source": []
  },
  {
   "cell_type": "code",
   "execution_count": null,
   "metadata": {
    "_uuid": "de77ab8b8252904a8ecf2e4a178ff747999e26f9"
   },
   "outputs": [],
   "source": []
  },
  {
   "cell_type": "code",
   "execution_count": null,
   "metadata": {
    "_cell_guid": "79c7e3d0-c299-4dcb-8224-4455121ee9b0",
    "_uuid": "d629ff2d2480ee46fbb7e2d37f6b5fab8052498a",
    "collapsed": true
   },
   "outputs": [],
   "source": []
  }
 ],
 "metadata": {
  "kernelspec": {
   "display_name": "Python 3",
   "language": "python",
   "name": "python3"
  },
  "language_info": {
   "codemirror_mode": {
    "name": "ipython",
    "version": 3
   },
   "file_extension": ".py",
   "mimetype": "text/x-python",
   "name": "python",
   "nbconvert_exporter": "python",
   "pygments_lexer": "ipython3",
   "version": "3.6.5"
  }
 },
 "nbformat": 4,
 "nbformat_minor": 1
}
