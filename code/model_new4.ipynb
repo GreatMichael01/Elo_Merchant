{
 "cells": [
  {
   "cell_type": "code",
   "execution_count": 19,
   "metadata": {},
   "outputs": [],
   "source": [
    "import numpy as np\n",
    "import pandas as pd\n",
    "import time\n",
    "import warnings\n",
    "import gc\n",
    "import matplotlib.pyplot as plt\n",
    "%matplotlib inline\n",
    "plt.style.use('ggplot')\n",
    "import seaborn as sns\n",
    "import datetime\n",
    "from sklearn.metrics import mean_squared_error\n",
    "from sklearn.model_selection import StratifiedKFold, KFold\n",
    "from sklearn.metrics import log_loss\n",
    "import lightgbm as lgb\n",
    "from sklearn import preprocessing\n",
    "warnings.filterwarnings('ignore')\n",
    "plt.style.use('seaborn')"
   ]
  },
  {
   "cell_type": "markdown",
   "metadata": {},
   "source": [
    "## Simple processing train and test"
   ]
  },
  {
   "cell_type": "code",
   "execution_count": 20,
   "metadata": {},
   "outputs": [],
   "source": [
    "train = pd.read_csv('../data/train.csv', parse_dates=[\"first_active_month\"])\n",
    "test = pd.read_csv('../data/test.csv', parse_dates=[\"first_active_month\"])\n",
    "test[\"target\"] = -9999\n",
    "data = pd.concat([train, test])\n",
    "data[\"month\"] = data[\"first_active_month\"].apply(lambda x: x.month)\n",
    "data[\"day\"] = data[\"first_active_month\"].apply(lambda x: x.day)\n",
    "data[\"dayofyear\"] = data[\"first_active_month\"].apply(lambda x: x.dayofyear)\n",
    "data['week'] = data[\"first_active_month\"].dt.weekofyear\n",
    "data['dayofweek'] = data['first_active_month'].dt.dayofweek\n",
    "data['days'] = (datetime.date(2018, 2, 1) - data['first_active_month'].dt.date).dt.days\n",
    "data[\"quarter\"] = data[\"first_active_month\"].apply(lambda x: x.quarter)\n",
    "data[\"is_month_start\"] = data[\"first_active_month\"].apply(lambda x: x.is_month_start)\n",
    "data[\"days_feature1\"] = data[\"days\"] * data[\"feature_1\"]\n",
    "data[\"days_feature2\"] = data[\"days\"] * data[\"feature_2\"]\n",
    "data[\"days_feature3\"] = data[\"days\"] * data[\"feature_3\"]"
   ]
  },
  {
   "cell_type": "code",
   "execution_count": 21,
   "metadata": {},
   "outputs": [],
   "source": [
    "def pro_trans(trans):  \n",
    "    \n",
    "    trans[\"authorized_flag\"] = trans[\"authorized_flag\"].map({\"Y\": 1, \"N\": 0})\n",
    "    trans[\"category_1\"] = trans[\"category_1\"].map({\"Y\": 1, \"N\":0})\n",
    "    trans[\"purchase_date\"] = pd.to_datetime(trans[\"purchase_date\"])\n",
    "    trans[\"year\"] = trans[\"purchase_date\"].apply(lambda x: x.year)\n",
    "    trans[\"month\"] = trans[\"purchase_date\"].apply(lambda x: x.month)\n",
    "    trans[\"weekofyear\"] = trans[\"purchase_date\"].apply(lambda x: x.weekofyear)\n",
    "    trans[\"dayofweek\"] = trans[\"purchase_date\"].apply(lambda x: x.dayofweek)\n",
    "    trans[\"weekend\"] = (trans[\"purchase_date\"].apply(lambda x: x.dayofweek) >= 5).astype(int)\n",
    "    trans[\"hour\"] = trans[\"purchase_date\"].apply(lambda x: x.hour)\n",
    "    trans[\"quarter\"] = trans[\"purchase_date\"].apply(lambda x: x.quarter)\n",
    "    trans[\"minute\"] = trans[\"purchase_date\"].apply(lambda x: x.minute)\n",
    "    trans[\"month_diff\"] = ((datetime.datetime.today() - trans[\"purchase_date\"]).apply(lambda x: x.days)) // 30\n",
    "    trans[\"month_diff\"] += trans[\"month_lag\"]\n",
    "    trans[\"month_diff2\"] = trans[\"month\"] - trans[\"month_lag\"]\n",
    "    trans[\"category_2\"] = trans[\"category_2\"].fillna(value = 2.0)\n",
    "    trans[\"category_3\"] = trans[\"category_3\"].fillna(value = \"A\")\n",
    "    trans[\"merchant_id\"] = trans[\"merchant_id\"].fillna(value = \"M_ID_00a6ca8a8a\")\n",
    "    lbl = preprocessing.LabelEncoder()\n",
    "    trans[\"category_3\"] = lbl.fit_transform(list(trans[\"category_3\"].values))\n",
    "    \n",
    "    agg_func = {\"mean\": [\"mean\"]}\n",
    "    for col in [\"category_2\", \"category_3\"]:\n",
    "        trans[col+\"_pa_mean\"] = trans[\"purchase_amount\"].groupby(trans[col]).agg(\"mean\")\n",
    "        trans[col+\"_pa_max\"] = trans[\"purchase_amount\"].groupby(trans[col]).agg(\"max\")\n",
    "        trans[col+\"_pa_min\"] = trans[\"purchase_amount\"].groupby(trans[col]).agg(\"min\")\n",
    "        trans[col+\"_pa_var\"] = trans[\"purchase_amount\"].groupby(trans[col]).agg(\"var\")\n",
    "        trans[col+\"_im_mean\"] = trans[\"installments\"].groupby(trans[col]).agg(\"mean\")\n",
    "        trans[col+\"_im_max\"] = trans[\"installments\"].groupby(trans[col]).agg(\"max\")\n",
    "        trans[col+\"_im_min\"] = trans[\"installments\"].groupby(trans[col]).agg(\"min\")\n",
    "        trans[col+\"_im_var\"] = trans[\"installments\"].groupby(trans[col]).agg(\"var\")\n",
    "    for col in [\"month\", \"hour\"]:\n",
    "        trans[col+\"_pa_mean\"] = trans[\"purchase_amount\"].groupby(trans[col]).agg(\"mean\")\n",
    "        trans[col+\"_pa_max\"] = trans[\"purchase_amount\"].groupby(trans[col]).agg(\"max\")\n",
    "        trans[col+\"_pa_min\"] = trans[\"purchase_amount\"].groupby(trans[col]).agg(\"min\")\n",
    "        trans[col+\"_pa_var\"] = trans[\"purchase_amount\"].groupby(trans[col]).agg(\"var\")\n",
    "        trans[col+\"_im_mean\"] = trans[\"installments\"].groupby(trans[col]).agg(\"mean\")\n",
    "        trans[col+\"_im_max\"] = trans[\"installments\"].groupby(trans[col]).agg(\"max\")\n",
    "        trans[col+\"_im_min\"] = trans[\"installments\"].groupby(trans[col]).agg(\"min\")\n",
    "        trans[col+\"_im_var\"] = trans[\"installments\"].groupby(trans[col]).agg(\"var\")\n",
    "    trans_data = trans\n",
    "    \n",
    "    return trans_data"
   ]
  },
  {
   "cell_type": "code",
   "execution_count": 22,
   "metadata": {},
   "outputs": [],
   "source": [
    "# Taking Reference from Other Kernels\n",
    "def trans_agg(trans, nunique_col, prefix):\n",
    "    agg_func = {\"purchase_date\":[\"max\", \"min\"],\n",
    "                \"month_diff\": [\"max\", \"min\", \"mean\", \"var\"],\n",
    "                \"weekend\": [\"max\", \"min\", \"mean\", \"sum\"],\n",
    "                \"authorized_flag\": [\"max\", \"min\", \"mean\", \"sum\"],\n",
    "                \"category_1\": [\"max\", \"min\", \"mean\", \"sum\"],\n",
    "                \"category_2\": [\"max\", \"min\", \"mean\", \"sum\"],\n",
    "                \"category_3\": [\"max\", \"min\", \"mean\", \"sum\"],\n",
    "                \"installments\": [\"max\", \"min\", \"mean\", \"std\", \"sum\"],\n",
    "                \"purchase_amount\": [\"max\", \"min\", \"mean\", \"std\", \"sum\"],\n",
    "                \"merchant_id\": [\"nunique\"],\n",
    "                \"month_lag\": [\"mean\", \"max\", \"min\", \"nunique\", \"var\"],\n",
    "                \"month_diff\": [\"mean\", \"max\", \"min\", \"nunique\", \"var\"],\n",
    "                \"card_id\": [\"size\", \"nunique\"],\n",
    "                \"month\": [\"max\", \"min\", \"nunique\"],\n",
    "                \"hour\": [\"max\", \"min\", \"nunique\"],\n",
    "                \"weekofyear\": [\"max\", \"min\", \"nunique\"],\n",
    "                \"dayofweek\": [\"max\", \"min\", \"nunique\"],\n",
    "                \"year\": [\"max\", \"min\", \"nunique\"],\n",
    "                \"subsector_id\": [\"max\", \"min\", \"nunique\"],\n",
    "                \"merchant_category_id\": [\"max\", \"min\", \"nunique\"]}\n",
    "    agg_trans = trans.groupby([nunique_col]).agg(agg_func)\n",
    "    agg_trans.columns = [prefix + '_'.join(col).strip() for col in agg_trans.columns.values]\n",
    "    agg_trans.reset_index(inplace=True)\n",
    "    df = (trans.groupby(nunique_col).size().reset_index(name='{}transactions_count'.format(prefix)))\n",
    "    agg_trans = pd.merge(df, agg_trans, on=nunique_col, how='left')\n",
    "\n",
    "    return agg_trans"
   ]
  },
  {
   "cell_type": "code",
   "execution_count": null,
   "metadata": {},
   "outputs": [],
   "source": [
    "# Feature Engineering - Adding new features inspired by Chau's first kernel\n",
    "def data_add_feat(data, prefix):\n",
    "    data[prefix + \"purchase_date_max\"] = pd.to_datetime(data[prefix + \"purchase_date_max\"])\n",
    "    data[prefix + \"purchase_date_min\"] = pd.to_datetime(data[prefix + \"purchase_date_min\"])\n",
    "    data[prefix + \"purchase_date_diff\"] = (data[prefix + \"purchase_date_max\"] - data[prefix + \"purchase_date_min\"]).dt.days   \n",
    "    data[prefix + \"purchase_date_average\"] = data[prefix + \"purchase_date_diff\"] / data[prefix + \"card_id_size\"]\n",
    "    data[prefix + \"purchase_date_uptonow\"] = (datetime.datetime.today() - data[prefix + \"purchase_date_max\"]).dt.days\n",
    "    data[prefix + \"first_buy\"] = (data[prefix + \"purchase_date_min\"] - data[\"first_active_month\"]).dt.days\n",
    "    data[prefix + \"last_buy\"] = (data[prefix + \"purchase_date_max\"] - data[\"first_active_month\"]).dt.days\n",
    "    for feature in [prefix + \"purchase_date_max\", prefix + \"purchase_date_min\"]:\n",
    "        data[feature] = data[feature].astype(np.int64) * 1e-9\n",
    "    \n",
    "    return data"
   ]
  },
  {
   "cell_type": "markdown",
   "metadata": {},
   "source": [
    "## Processing historical transactions"
   ]
  },
  {
   "cell_type": "code",
   "execution_count": null,
   "metadata": {},
   "outputs": [],
   "source": [
    "hist_trans = pd.read_csv('../data/historical_transactions.csv')\n",
    "print(\"Reading data over.\")\n",
    "hist_trans_pro = pro_trans(hist_trans)\n",
    "hist_card_trans = trans_agg(hist_trans_pro, nunique_col=\"card_id\", prefix='hist_')\n",
    "gc.collect()\n",
    "\n",
    "hist_data = data.merge(hist_card_trans, on='card_id', how='left')\n",
    "gc.collect()\n",
    "\n",
    "hist_data = data_add_feat(hist_data, prefix=\"hist_\")\n",
    "del hist_trans_pro\n",
    "del hist_card_trans\n",
    "gc.collect()"
   ]
  },
  {
   "cell_type": "markdown",
   "metadata": {},
   "source": [
    "## Processing new_transactions"
   ]
  },
  {
   "cell_type": "code",
   "execution_count": null,
   "metadata": {},
   "outputs": [],
   "source": [
    "new_trans = pd.read_csv('../data/new_merchant_transactions.csv')\n",
    "print(\"Reading data over.\")\n",
    "new_trans_pro = pro_trans(new_trans)\n",
    "new_card_trans = trans_agg(new_trans_pro, nunique_col=\"card_id\", prefix='new_')\n",
    "gc.collect()\n",
    "\n",
    "new_data = hist_data.merge(new_card_trans, on='card_id', how='left')\n",
    "gc.collect()\n",
    "\n",
    "data = data_add_feat(new_data, prefix=\"new_\")\n",
    "del new_trans_pro\n",
    "del new_card_trans\n",
    "gc.collect()\n"
   ]
  },
  {
   "cell_type": "markdown",
   "metadata": {},
   "source": [
    "### Add features base on merchant_id for hist、new trans"
   ]
  },
  {
   "cell_type": "code",
   "execution_count": null,
   "metadata": {},
   "outputs": [],
   "source": [
    "def merchant_id_pro(trans, prefix):\n",
    "    df = trans[[\"card_id\", \"merchant_id\"]]\n",
    "    grouped = trans.groupby(\"merchant_id\")[\"installments\", \"purchase_amount\"].mean().reset_index()\n",
    "    grouped.columns = [\"merchant_id\", prefix+\"merchant_installments_mean\", prefix+\"merchant_purchase_amount_mean\"]\n",
    "    trans_last = df.merge(grouped, on=\"merchant_id\", how=\"left\")\n",
    "    \n",
    "    grouped = trans.groupby(\"merchant_id\")[\"installments\", \"purchase_amount\"].std().reset_index()\n",
    "    grouped.columns = [\"merchant_id\", prefix+\"merchant_installments_std\", prefix+\"merchant_purchase_amount_std\"]\n",
    "    trans_last = trans_last.merge(grouped, on=\"merchant_id\", how=\"left\")\n",
    "    \n",
    "    return trans_last\n",
    "    "
   ]
  },
  {
   "cell_type": "code",
   "execution_count": null,
   "metadata": {},
   "outputs": [],
   "source": [
    "hist_trans_last = merchant_id_pro(hist_trans, prefix=\"hist_\")\n",
    "hist_trans_last = hist_trans_last.groupby(\"card_id\", as_index=False).mean()\n",
    "hist_data = data.merge(hist_trans_last, on=\"card_id\", how=\"left\")\n",
    "hist_data1 = hist_data[[\"card_id\", \"hist_merchant_installments_mean\", \"hist_merchant_purchase_amount_mean\",\n",
    "                 \"hist_merchant_installments_std\", \"hist_merchant_purchase_amount_std\"]]\n",
    "data = data.merge(hist_data1, on=\"card_id\", how=\"left\")\n",
    "\n",
    "del hist_trans_last\n",
    "del hist_data\n",
    "del hist_data1\n",
    "gc.collect()"
   ]
  },
  {
   "cell_type": "code",
   "execution_count": null,
   "metadata": {},
   "outputs": [],
   "source": [
    "new_trans_last = merchant_id_pro(new_trans, prefix=\"new_\")\n",
    "new_trans_last = new_trans_last.groupby(\"card_id\", as_index=False).mean()\n",
    "new_data = data.merge(new_trans_last, on=\"card_id\", how=\"left\")\n",
    "new_data1 = new_data[[\"card_id\", \"new_merchant_installments_mean\", \"new_merchant_purchase_amount_mean\",\n",
    "                 \"new_merchant_installments_std\", \"new_merchant_purchase_amount_std\"]]\n",
    "data = data.merge(new_data1, on=\"card_id\", how=\"left\")\n",
    "\n",
    "del new_trans_last\n",
    "del new_data\n",
    "del new_data1\n",
    "gc.collect()"
   ]
  },
  {
   "cell_type": "markdown",
   "metadata": {},
   "source": [
    "## Add features base on merchant_id for hist、new trans"
   ]
  },
  {
   "cell_type": "code",
   "execution_count": null,
   "metadata": {},
   "outputs": [],
   "source": [
    "# added new feature - Interactive\n",
    "data['card_id_total'] = data['new_card_id_size'] + data['hist_card_id_size']\n",
    "# data['purchase_amount_total'] = data['new_purchase_amount_sum'] + data['hist_purchase_amount_sum']\n",
    "data[\"purchase_amount_mean\"] = data[\"new_purchase_amount_mean\"] + data[\"hist_purchase_amount_mean\"]\n",
    "data[\"purchase_amount_max\"] = data[\"new_purchase_amount_max\"] + data[\"hist_purchase_amount_max\"]\n",
    "data[\"purchase_amount_min\"] = data[\"new_purchase_amount_min\"] + data[\"hist_purchase_amount_min\"]\n",
    "data[\"purchase_amount_std\"] = data[\"new_purchase_amount_std\"] + data[\"hist_purchase_amount_std\"]\n",
    "\n",
    "# data[\"installments_total\"] = data[\"new_installments_sum\"] + data[\"hist_installments_sum\"]\n",
    "data[\"installments_mean\"] = data[\"new_installments_mean\"] + data[\"hist_installments_mean\"]\n",
    "data[\"installments_max\"] = data[\"new_installments_max\"] + data[\"hist_installments_max\"]\n",
    "data[\"installments_min\"] = data[\"new_installments_min\"] + data[\"hist_installments_min\"]\n",
    "data[\"installments_std\"] = data[\"new_installments_std\"] + data[\"hist_installments_std\"]\n",
    "\n",
    "gc.collect()"
   ]
  },
  {
   "cell_type": "code",
   "execution_count": null,
   "metadata": {},
   "outputs": [],
   "source": [
    "data[\"hist_month_nunique_hist_month_diff_mean_add\"] = data[\"hist_month_nunique\"] + data[\"hist_month_diff_mean\"]   \n",
    "data[\"hist_month_nunique_hist_month_diff_mean_sub\"] = data[\"hist_month_nunique\"] - data[\"hist_month_diff_mean\"]   \n",
    "data[\"hist_month_nunique_hist_month_diff_mean_mul\"] = data[\"hist_month_nunique\"] * data[\"hist_month_diff_mean\"]\n",
    "data[\"hist_month_nunique_hist_month_diff_mean_div\"] = data[\"hist_month_nunique\"] / data[\"hist_month_diff_mean\"]\n",
    "\n",
    "data[\"hist_month_nunique_hist_authorized_flag_mean_add\"] = data[\"hist_month_nunique\"] + data[\"hist_authorized_flag_mean\"]    \n",
    "data[\"hist_month_nunique_hist_authorized_flag_mean_sub\"] = data[\"hist_month_nunique\"] - data[\"hist_authorized_flag_mean\"]\n",
    "data[\"hist_month_nunique_hist_authorized_flag_mean_mul\"] = data[\"hist_month_nunique\"] * data[\"hist_authorized_flag_mean\"]\n",
    "data[\"hist_month_nunique_hist_authorized_flag_mean_div\"] = data[\"hist_month_nunique\"] / data[\"hist_authorized_flag_mean\"]\n",
    "\n",
    "data[\"hist_month_diff_mean_hist_authorized_flag_mean_add\"] = data[\"hist_month_diff_mean\"] + data[\"hist_authorized_flag_mean\"]   \n",
    "data[\"hist_month_diff_mean_hist_authorized_flag_mean_sub\"] = data[\"hist_month_diff_mean\"] - data[\"hist_authorized_flag_mean\"]\n",
    "data[\"hist_month_diff_mean_hist_authorized_flag_mean_mul\"] = data[\"hist_month_diff_mean\"] * data[\"hist_authorized_flag_mean\"]\n",
    "data[\"hist_month_diff_mean_hist_authorized_flag_mean_div\"] = data[\"hist_month_diff_mean\"] / data[\"hist_authorized_flag_mean\"]\n",
    "\n",
    "data[\"hist_month_nunique_new_purchase_date_diff_add\"] = data[\"hist_month_nunique\"] + data[\"new_purchase_date_diff\"]\n",
    "data[\"hist_month_nunique_new_purchase_date_diff_sub\"] = data[\"hist_month_nunique\"] - data[\"new_purchase_date_diff\"]\n",
    "data[\"hist_month_nunique_new_purchase_date_diff_mul\"] = data[\"hist_month_nunique\"] * data[\"new_purchase_date_diff\"]\n",
    "data[\"hist_month_nunique_new_purchase_date_diff_div\"] = data[\"hist_month_nunique\"] / data[\"new_purchase_date_diff\"]\n",
    "\n",
    "data[\"hist_month_diff_mean_new_purchase_date_diff_add\"] = data[\"hist_month_diff_mean\"] + data[\"new_purchase_date_diff\"]\n",
    "data[\"hist_month_diff_mean_new_purchase_date_diff_sub\"] = data[\"hist_month_diff_mean\"] - data[\"new_purchase_date_diff\"]\n",
    "data[\"hist_month_diff_mean_new_purchase_date_diff_mul\"] = data[\"hist_month_diff_mean\"] * data[\"new_purchase_date_diff\"]\n",
    "data[\"hist_month_diff_mean_new_purchase_date_diff_div\"] = data[\"hist_month_diff_mean\"] / data[\"new_purchase_date_diff\"]\n",
    "\n",
    "data[\"hist_authorized_flag_mean_new_purchase_date_diff_add\"] = data[\"hist_authorized_flag_mean\"] + data[\"new_purchase_date_diff\"]    \n",
    "data[\"hist_authorized_flag_mean_new_purchase_date_diff_sub\"] = data[\"hist_authorized_flag_mean\"] - data[\"new_purchase_date_diff\"]\n",
    "data[\"hist_authorized_flag_mean_new_purchase_date_diff_mul\"] = data[\"hist_authorized_flag_mean\"] * data[\"new_purchase_date_diff\"]\n",
    "data[\"hist_authorized_flag_mean_new_purchase_date_diff_div\"] = data[\"hist_authorized_flag_mean\"] / data[\"new_purchase_date_diff\"]\n",
    "\n",
    "data[\"hist_month_nunique_hist_month_lag_mean_add\"] = data[\"hist_month_nunique\"] + data[\"hist_month_lag_mean\"]\n",
    "data[\"hist_month_nunique_hist_month_lag_mean_sub\"] = data[\"hist_month_nunique\"] - data[\"hist_month_lag_mean\"]\n",
    "data[\"hist_month_nunique_hist_month_lag_mean_mul\"] = data[\"hist_month_nunique\"] * data[\"hist_month_lag_mean\"]\n",
    "data[\"hist_month_nunique_hist_month_lag_mean_div\"] = data[\"hist_month_nunique\"] / data[\"hist_month_lag_mean\"]\n",
    "\n",
    "data[\"hist_month_diff_mean_hist_month_lag_mean_add\"] = data[\"hist_month_diff_mean\"] + data[\"hist_month_lag_mean\"]\n",
    "data[\"hist_month_diff_mean_hist_month_lag_mean_sub\"] = data[\"hist_month_diff_mean\"] - data[\"hist_month_lag_mean\"]\n",
    "data[\"hist_month_diff_mean_hist_month_lag_mean_mul\"] = data[\"hist_month_diff_mean\"] * data[\"hist_month_lag_mean\"]\n",
    "data[\"hist_month_diff_mean_hist_month_lag_mean_div\"] = data[\"hist_month_diff_mean\"] / data[\"hist_month_lag_mean\"]\n",
    "\n",
    "data[\"hist_authorized_flag_mean_hist_month_lag_mean_add\"] = data[\"hist_authorized_flag_mean\"] + data[\"hist_month_lag_mean\"]\n",
    "data[\"hist_authorized_flag_mean_hist_month_lag_mean_sub\"] = data[\"hist_authorized_flag_mean\"] - data[\"hist_month_lag_mean\"]\n",
    "data[\"hist_authorized_flag_mean_hist_month_lag_mean_mul\"] = data[\"hist_authorized_flag_mean\"] * data[\"hist_month_lag_mean\"]\n",
    "data[\"hist_authorized_flag_mean_hist_month_lag_mean_div\"] = data[\"hist_authorized_flag_mean\"] / data[\"hist_month_lag_mean\"]\n",
    "\n",
    "data[\"new_purchase_date_diff_hist_month_lag_mean_add\"] = data[\"new_purchase_date_diff\"] + data[\"hist_month_lag_mean\"]\n",
    "data[\"new_purchase_date_diff_hist_month_lag_mean_sub\"] = data[\"new_purchase_date_diff\"] - data[\"hist_month_lag_mean\"]\n",
    "data[\"new_purchase_date_diff_hist_month_lag_mean_mul\"] = data[\"new_purchase_date_diff\"] * data[\"hist_month_lag_mean\"]\n",
    "data[\"new_purchase_date_diff_hist_month_lag_mean_div\"] = data[\"new_purchase_date_diff\"] / data[\"hist_month_lag_mean\"]\n"
   ]
  },
  {
   "cell_type": "code",
   "execution_count": null,
   "metadata": {},
   "outputs": [],
   "source": [
    "# Check for missing values in training set\n",
    "nulls = np.sum(data.isnull())\n",
    "nullcols = nulls.loc[(nulls != 0)]\n",
    "dtypes = data.dtypes\n",
    "dtypes2 = dtypes.loc[(nulls != 0)]\n",
    "info = pd.concat([nullcols, dtypes2], axis=1).sort_values(by=0, ascending=False)\n",
    "\n",
    "numeric_dtypes = ['float64']\n",
    "numerics = []\n",
    "for i in data.columns:\n",
    "    if data[i].dtype in numeric_dtypes:\n",
    "        numerics.append(i)\n",
    "train = data[data[\"target\"] != -9999]\n",
    "test = data[data[\"target\"] == -9999]\n",
    "test = test.drop([\"target\"], axis=1)\n",
    "\n",
    "train['outliers'] = 0\n",
    "train.loc[train['target'] < -30, 'outliers'] = 1\n",
    "train['outliers'].value_counts()\n",
    "\n",
    "for features in ['feature_1', 'feature_2', 'feature_3']:\n",
    "    order_label = train.groupby([features])['outliers'].mean()\n",
    "    train[features] = train[features].map(order_label)\n",
    "    test[features] = test[features].map(order_label)"
   ]
  },
  {
   "cell_type": "code",
   "execution_count": null,
   "metadata": {},
   "outputs": [],
   "source": [
    "train_df = train\n",
    "test_df = test"
   ]
  },
  {
   "cell_type": "code",
   "execution_count": null,
   "metadata": {},
   "outputs": [],
   "source": [
    "train_df = train_df[train_df[\"outliers\"] == 0]\n",
    "target = train_df[\"target\"]\n",
    "del train_df[\"target\"]\n",
    "features = [c for c in train_df.columns if c not in [\"card_id\", \"first_active_month\", \"outliers\"]]\n",
    "categorical_feats = [c for c in features if \"feature_\" in c]"
   ]
  },
  {
   "cell_type": "code",
   "execution_count": null,
   "metadata": {},
   "outputs": [],
   "source": [
    "%%time\n",
    "param = {'num_leaves': 31,\n",
    "         'min_data_in_leaf': 32, \n",
    "         'objective':'regression',\n",
    "         'max_depth': -1,\n",
    "         'learning_rate': 0.001,\n",
    "         \"boosting\": \"gbdt\",\n",
    "         \"feature_fraction\": 0.9,\n",
    "         \"bagging_freq\": 1,\n",
    "         \"bagging_fraction\": 0.9,\n",
    "         \"bagging_seed\": 10,\n",
    "         \"metric\": 'rmse',\n",
    "         \"lambda_l1\": 0.1,\n",
    "         \"verbosity\": -1,\n",
    "         \"nthread\": -1}\n",
    "\n",
    "folds = StratifiedKFold(n_splits=5, shuffle=True, random_state=2018)\n",
    "oof = np.zeros(len(train_df))\n",
    "predictions = np.zeros(len(test))\n",
    "feature_importance_df = pd.DataFrame()\n",
    "\n",
    "for fold_, (trn_idx, val_idx) in enumerate(folds.split(train_df,train_df['outliers'].values)):\n",
    "    print(\"fold {}\".format(fold_))\n",
    "    trn_data = lgb.Dataset(train_df.iloc[trn_idx][features], label=target.iloc[trn_idx])\n",
    "    val_data = lgb.Dataset(train_df.iloc[val_idx][features], label=target.iloc[val_idx])\n",
    "\n",
    "    num_round = 10000\n",
    "    clf = lgb.train(param, trn_data, num_round, valid_sets = [trn_data, val_data], verbose_eval= -1,\n",
    "                    early_stopping_rounds = 200)\n",
    "    oof[val_idx] = clf.predict(train_df.iloc[val_idx][features], num_iteration=clf.best_iteration)\n",
    "    \n",
    "    fold_importance_df = pd.DataFrame()\n",
    "    fold_importance_df[\"Feature\"] = features\n",
    "    fold_importance_df[\"importance\"] = clf.feature_importance()\n",
    "    fold_importance_df[\"fold\"] = fold_ + 1\n",
    "    feature_importance_df = pd.concat([feature_importance_df, fold_importance_df], axis=0)\n",
    "    \n",
    "    predictions += clf.predict(test[features], num_iteration=clf.best_iteration) / folds.n_splits\n",
    "\n",
    "print(\"CV score: {:<8.5f}\".format(mean_squared_error(oof, target)**0.5))\n",
    "    "
   ]
  },
  {
   "cell_type": "code",
   "execution_count": null,
   "metadata": {},
   "outputs": [],
   "source": [
    "feature_importance_df.head(2)"
   ]
  },
  {
   "cell_type": "code",
   "execution_count": null,
   "metadata": {},
   "outputs": [],
   "source": [
    "%matplotlib inline\n",
    "plt.style.use('ggplot')\n",
    "col = (feature_importance_df[[\"Feature\", \"importance\"]].groupby(\"Feature\").mean().\n",
    "       sort_values(by=\"importance\", ascending=False)[:1000].index)\n",
    "best_features = feature_importance_df.loc[feature_importance_df.Feature.isin(col)]\n",
    "plt.figure(figsize=(14, 25))\n",
    "sns.barplot(x=\"importance\", y=\"Feature\",\n",
    "            data=best_features.sort_values(by=\"importance\", ascending=False))\n",
    "plt.title(\"LightGBM Features (avg over folds)\")\n",
    "plt.tight_layout()\n",
    "plt.savefig(\"../fig/lgbm_importance1.png\")"
   ]
  },
  {
   "cell_type": "code",
   "execution_count": null,
   "metadata": {},
   "outputs": [],
   "source": [
    "model_without_outliers = pd.DataFrame({\"card_id\":test[\"card_id\"].values})\n",
    "model_without_outliers[\"target\"] = predictions"
   ]
  },
  {
   "cell_type": "code",
   "execution_count": null,
   "metadata": {},
   "outputs": [],
   "source": [
    "model_without_outliers.to_csv(\"../submission/\"+str(int(time.strftime(\"%Y%m%d%H%M%S\", time.localtime(time.time())))) +\".csv\", index=False)    "
   ]
  },
  {
   "cell_type": "code",
   "execution_count": null,
   "metadata": {},
   "outputs": [],
   "source": [
    "train_df = train\n",
    "test_df = test\n",
    "target = train_df[\"outliers\"]\n",
    "del train_df[\"outliers\"]\n",
    "del train_df[\"target\"]\n",
    "\n",
    "features = [c for c in train_df.columns if c not in [\"card_id\", \"first_active_month\"]]\n",
    "categorical_feats = [c for c in features if \"feature_\" in c]"
   ]
  },
  {
   "cell_type": "code",
   "execution_count": null,
   "metadata": {},
   "outputs": [],
   "source": [
    "param = {'num_leaves': 31,\n",
    "         'min_data_in_leaf': 30, \n",
    "         'objective':'binary',\n",
    "         'max_depth': -1,\n",
    "         'learning_rate': 0.001,\n",
    "         \"boosting\": \"gbdt\",\n",
    "         \"feature_fraction\": 0.9,\n",
    "         \"bagging_freq\": 1,\n",
    "         \"bagging_fraction\": 0.9 ,\n",
    "         \"bagging_seed\": 10,\n",
    "         \"metric\": 'binary_logloss',\n",
    "         \"lambda_l1\": 0.1,\n",
    "         \"verbosity\": -1,\n",
    "         \"nthread\": -1}\n",
    "\n",
    "folds = KFold(n_splits=5, shuffle=True, random_state=15)\n",
    "oof = np.zeros(len(train_df))\n",
    "predictions2 = np.zeros(len(test_df))\n",
    "feature_importance_df = pd.DataFrame()\n",
    "\n",
    "for fold_, (trn_idx, val_idx) in enumerate(folds.split(train_df.values, target.values)):\n",
    "    print(\"fold n°{}\".format(fold_))\n",
    "    trn_data = lgb.Dataset(train_df.iloc[trn_idx][features], label=target.iloc[trn_idx], categorical_feature=categorical_feats)\n",
    "    val_data = lgb.Dataset(train_df.iloc[val_idx][features], label=target.iloc[val_idx], categorical_feature=categorical_feats)\n",
    "\n",
    "    num_round = 10000\n",
    "    clf = lgb.train(param, trn_data, num_round, valid_sets = [trn_data, val_data], verbose_eval=-1, \n",
    "                    early_stopping_rounds = 200)\n",
    "    oof[val_idx] = clf.predict(train_df.iloc[val_idx][features], num_iteration=clf.best_iteration)\n",
    "    \n",
    "    fold_importance_df = pd.DataFrame()\n",
    "    fold_importance_df[\"feature\"] = features\n",
    "    fold_importance_df[\"importance\"] = clf.feature_importance()\n",
    "    fold_importance_df[\"fold\"] = fold_ + 1\n",
    "    feature_importance_df = pd.concat([feature_importance_df, fold_importance_df], axis=0)\n",
    "    \n",
    "    predictions2 += clf.predict(test_df[features], num_iteration=clf.best_iteration) / folds.n_splits\n",
    "\n",
    "print(\"CV score: {:<8.5f}\".format(log_loss(target, oof)))\n"
   ]
  },
  {
   "cell_type": "code",
   "execution_count": null,
   "metadata": {},
   "outputs": [],
   "source": [
    "df_outlier_prob = pd.DataFrame({\"card_id\": test_df[\"card_id\"].values})\n",
    "df_outlier_prob[\"target\"] = predictions2"
   ]
  },
  {
   "cell_type": "code",
   "execution_count": null,
   "metadata": {},
   "outputs": [],
   "source": [
    "outlier_id = pd.DataFrame(df_outlier_prob.sort_values(by=\"target\", ascending=False).head(30000)[\"card_id\"])\n",
    "best_submission = pd.read_csv(\"../submission/6911+6912+0103163343_2.csv\")\n",
    "most_likely_liers = best_submission.merge(outlier_id, how=\"right\")"
   ]
  },
  {
   "cell_type": "code",
   "execution_count": null,
   "metadata": {},
   "outputs": [],
   "source": [
    "model_without_outliers = pd.read_csv(\"../submission/Bestoutput1.csv\")"
   ]
  },
  {
   "cell_type": "code",
   "execution_count": null,
   "metadata": {},
   "outputs": [],
   "source": [
    "for card_id in most_likely_liers[\"card_id\"]:\n",
    "    model_without_outliers.loc[model_without_outliers[\"card_id\"] == card_id, \"target\"] = \\\n",
    "    most_likely_liers.loc[most_likely_liers[\"card_id\"] == card_id, \"target\"].values"
   ]
  },
  {
   "cell_type": "code",
   "execution_count": null,
   "metadata": {},
   "outputs": [],
   "source": [
    "model_without_outliers.to_csv(\"../submission/\"+str(int(time.strftime(\"%Y%m%d%H%M%S\", time.localtime(time.time()))))+\".csv\", index=False)             "
   ]
  },
  {
   "cell_type": "code",
   "execution_count": null,
   "metadata": {},
   "outputs": [],
   "source": []
  },
  {
   "cell_type": "code",
   "execution_count": null,
   "metadata": {},
   "outputs": [],
   "source": []
  },
  {
   "cell_type": "code",
   "execution_count": null,
   "metadata": {},
   "outputs": [],
   "source": []
  },
  {
   "cell_type": "code",
   "execution_count": null,
   "metadata": {},
   "outputs": [],
   "source": []
  },
  {
   "cell_type": "code",
   "execution_count": null,
   "metadata": {},
   "outputs": [],
   "source": []
  },
  {
   "cell_type": "code",
   "execution_count": null,
   "metadata": {},
   "outputs": [],
   "source": []
  },
  {
   "cell_type": "code",
   "execution_count": null,
   "metadata": {},
   "outputs": [],
   "source": []
  },
  {
   "cell_type": "code",
   "execution_count": null,
   "metadata": {},
   "outputs": [],
   "source": []
  }
 ],
 "metadata": {
  "kernelspec": {
   "display_name": "Python 3",
   "language": "python",
   "name": "python3"
  },
  "language_info": {
   "codemirror_mode": {
    "name": "ipython",
    "version": 3
   },
   "file_extension": ".py",
   "mimetype": "text/x-python",
   "name": "python",
   "nbconvert_exporter": "python",
   "pygments_lexer": "ipython3",
   "version": "3.6.5"
  }
 },
 "nbformat": 4,
 "nbformat_minor": 2
}
